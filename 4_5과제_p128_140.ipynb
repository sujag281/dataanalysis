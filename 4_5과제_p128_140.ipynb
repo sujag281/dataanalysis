{
  "nbformat": 4,
  "nbformat_minor": 0,
  "metadata": {
    "colab": {
      "provenance": [],
      "authorship_tag": "ABX9TyOKOMoAJzPVMVRKwXORrQk3",
      "include_colab_link": true
    },
    "kernelspec": {
      "name": "python3",
      "display_name": "Python 3"
    },
    "language_info": {
      "name": "python"
    }
  },
  "cells": [
    {
      "cell_type": "markdown",
      "metadata": {
        "id": "view-in-github",
        "colab_type": "text"
      },
      "source": [
        "<a href=\"https://colab.research.google.com/github/sujag281/dataanalysis/blob/main/4_5%EA%B3%BC%EC%A0%9C_p128_140.ipynb\" target=\"_parent\"><img src=\"https://colab.research.google.com/assets/colab-badge.svg\" alt=\"Open In Colab\"/></a>"
      ]
    },
    {
      "cell_type": "code",
      "execution_count": null,
      "metadata": {
        "colab": {
          "base_uri": "https://localhost:8080/"
        },
        "id": "jag-CG0KZZq4",
        "outputId": "df7bdf91-76f4-4f3e-c7b1-a6cf2a07e073"
      },
      "outputs": [
        {
          "output_type": "stream",
          "name": "stdout",
          "text": [
            "프로그램을 작성할 때 일정한 구간의 명령을 \n",
            "반복해서 실행하도록 구성한 구문을 무엇이라 하는가?\n",
            "정답 : 반보문\n",
            "아닙니다.다시 입력하세요\n",
            "정답 : 반복문\n",
            "끝!\n"
          ]
        }
      ],
      "source": [
        "# 반복문 이용하여 퀴즈프로그램 만들기 p.128\n",
        "print('''프로그램을 작성할 때 일정한 구간의 명령을\n",
        "반복해서 실행하도록 구성한 구문을 무엇이라 하는가?''' )\n",
        "while True:\n",
        "    answer=input('정답 : ')\n",
        "    if answer=='반복문' :\n",
        "        break\n",
        "    print(f\"아닙니다.다시 입력하세요\")\n",
        "print('끝!')"
      ]
    },
    {
      "cell_type": "code",
      "source": [
        "# 1000만원을 년 이자율 7%로  저금했을 경우 2000만원이 되는 데 몇 년이\n",
        "# 걸리는지 계산하는 프로그램을 만들어 보세요   p.129\n",
        "\n",
        "money = int(input('저축할 금액을 입력하세요(만원)  : '))\n",
        "interest = 0.07\n",
        "year=0\n",
        "while True :\n",
        "    year =year+1\n",
        "    money= money + (money * interest)\n",
        "    if money >= 2000 :\n",
        "        break\n",
        "print(f\"1000만원이 2000만원이 되기 위해 {year}년이 걸립니다.\")"
      ],
      "metadata": {
        "colab": {
          "base_uri": "https://localhost:8080/"
        },
        "id": "GnLjDyHGZozY",
        "outputId": "74355728-ec3e-4719-bbc9-9abc50e379b9"
      },
      "execution_count": null,
      "outputs": [
        {
          "output_type": "stream",
          "name": "stdout",
          "text": [
            "저축할 금액을 입력하세요(만원)  : 1000\n",
            "1000만원이 2000만원이 되기 위해 11년이 걸립니다.\n"
          ]
        }
      ]
    },
    {
      "cell_type": "code",
      "source": [
        "#Turtle 이용해서 정오각형을 그리기 → while & for 반복문으로 변환하기  p.130\n",
        "\n",
        "\n",
        "\n",
        "\n",
        "\n",
        "\n",
        "\n",
        "\n",
        "\n",
        "\n",
        "\n",
        "\n",
        "\n",
        "\n",
        "\n",
        "\n",
        "\n"
      ],
      "metadata": {
        "id": "pZpsHV0ec1PT"
      },
      "execution_count": null,
      "outputs": []
    },
    {
      "cell_type": "code",
      "source": [
        "#1~1000까지 자연수 중 3의 배수의 합 구하기 (for반복문) p.131\n",
        "\n",
        "n=int(input('합계를 구할 숫자를 입력하세요 : '))\n",
        "hap = 0\n",
        "for i in range(1,n+1) :\n",
        "    if i%3 ==0:\n",
        "        hap = hap + i\n",
        "print(f\"1~{n}까지 3의 배수의 합은 : {hap}\")"
      ],
      "metadata": {
        "colab": {
          "base_uri": "https://localhost:8080/"
        },
        "id": "LOxE20f0Z094",
        "outputId": "3c83a5ef-325c-4fbb-c458-90bf3fbb169d"
      },
      "execution_count": null,
      "outputs": [
        {
          "output_type": "stream",
          "name": "stdout",
          "text": [
            "합계를 구할 숫자를 입력하세요 : 1000\n",
            "1~1000까지 3의 배수의 합은 : 166833\n"
          ]
        }
      ]
    },
    {
      "cell_type": "code",
      "source": [
        "#1~1000까지 자연수 중 3의 배수의 합 구하기 (while반복문) p.131\n",
        "\n",
        "n = 0\n",
        "hap = 0\n",
        "while True :\n",
        "    if n >=1000 :\n",
        "        break\n",
        "    if n%3 ==0 :\n",
        "        hap = hap + n\n",
        "    n=n+1\n",
        "print(f\"1~{n}까지 3의 배수의 합은 : {hap}\")"
      ],
      "metadata": {
        "colab": {
          "base_uri": "https://localhost:8080/"
        },
        "id": "MOOb7h-aZ9p5",
        "outputId": "e668ac20-7fc3-492c-fbb4-761afca2a9c7"
      },
      "execution_count": null,
      "outputs": [
        {
          "output_type": "stream",
          "name": "stdout",
          "text": [
            "1~1000까지 3의 배수의 합은 : 166833\n"
          ]
        }
      ]
    },
    {
      "cell_type": "code",
      "source": [
        "'''사용자가 숫자를 입력하면 별 모양을 입력한 숫자의 두 배만큼 출력하는\n",
        "프로그램을 만드세요. 예를 들어 5915를 입력하면 각 행에 10, 18, 2, 10\n",
        "개의 별을 출력해 보세요.'''      p132\n",
        "\n",
        "n = (input('숫자를 여러개 입력하세요 : '))\n",
        "nl=list(n)\n",
        "#print(nl)\n",
        "for i in nl :\n",
        "   # print(int(i)*2)\n",
        "    print('\\u2605'*int(i)*2)"
      ],
      "metadata": {
        "id": "HKor1PIraQ3o",
        "colab": {
          "base_uri": "https://localhost:8080/"
        },
        "outputId": "cbec2546-9714-47ea-b1a0-2d3939053c01"
      },
      "execution_count": 25,
      "outputs": [
        {
          "output_type": "stream",
          "name": "stdout",
          "text": [
            "숫자를 여러개 입력하세요 : 5915\n",
            "★★★★★★★★★★\n",
            "★★★★★★★★★★★★★★★★★★\n",
            "★★\n",
            "★★★★★★★★★★\n"
          ]
        }
      ]
    },
    {
      "cell_type": "markdown",
      "source": [],
      "metadata": {
        "id": "Npqz6qkwdKyu"
      }
    },
    {
      "cell_type": "code",
      "source": [
        "#아래와 같이 구구단을 출력해 보세요. p133\n",
        "# 방법1: 세로출력\n",
        "n=2\n",
        "#print(type(n))\n",
        "while True :\n",
        "    if n>9:\n",
        "        break\n",
        "    print('-'*4 + str(n) +'단'+'-'*4)\n",
        "    for i in range(1,10) :\n",
        "        print(f\"{n}x{i}={n*i}\")\n",
        "    n=n+1"
      ],
      "metadata": {
        "colab": {
          "base_uri": "https://localhost:8080/"
        },
        "id": "a6XgjwqpdH0U",
        "outputId": "160bd4cc-f1c1-4141-e0f5-0d506ca78e9a"
      },
      "execution_count": 50,
      "outputs": [
        {
          "output_type": "stream",
          "name": "stdout",
          "text": [
            "----2단----\n",
            "2x1=2\n",
            "2x2=4\n",
            "2x3=6\n",
            "2x4=8\n",
            "2x5=10\n",
            "2x6=12\n",
            "2x7=14\n",
            "2x8=16\n",
            "2x9=18\n",
            "----3단----\n",
            "3x1=3\n",
            "3x2=6\n",
            "3x3=9\n",
            "3x4=12\n",
            "3x5=15\n",
            "3x6=18\n",
            "3x7=21\n",
            "3x8=24\n",
            "3x9=27\n",
            "----4단----\n",
            "4x1=4\n",
            "4x2=8\n",
            "4x3=12\n",
            "4x4=16\n",
            "4x5=20\n",
            "4x6=24\n",
            "4x7=28\n",
            "4x8=32\n",
            "4x9=36\n",
            "----5단----\n",
            "5x1=5\n",
            "5x2=10\n",
            "5x3=15\n",
            "5x4=20\n",
            "5x5=25\n",
            "5x6=30\n",
            "5x7=35\n",
            "5x8=40\n",
            "5x9=45\n",
            "----6단----\n",
            "6x1=6\n",
            "6x2=12\n",
            "6x3=18\n",
            "6x4=24\n",
            "6x5=30\n",
            "6x6=36\n",
            "6x7=42\n",
            "6x8=48\n",
            "6x9=54\n",
            "----7단----\n",
            "7x1=7\n",
            "7x2=14\n",
            "7x3=21\n",
            "7x4=28\n",
            "7x5=35\n",
            "7x6=42\n",
            "7x7=49\n",
            "7x8=56\n",
            "7x9=63\n",
            "----8단----\n",
            "8x1=8\n",
            "8x2=16\n",
            "8x3=24\n",
            "8x4=32\n",
            "8x5=40\n",
            "8x6=48\n",
            "8x7=56\n",
            "8x8=64\n",
            "8x9=72\n",
            "----9단----\n",
            "9x1=9\n",
            "9x2=18\n",
            "9x3=27\n",
            "9x4=36\n",
            "9x5=45\n",
            "9x6=54\n",
            "9x7=63\n",
            "9x8=72\n",
            "9x9=81\n"
          ]
        }
      ]
    },
    {
      "cell_type": "code",
      "source": [
        "# 방법2: 가로출력\n",
        "for n in range(2,10) :\n",
        "    print('-'*2+str(n)+'단'+'-'*2,end='')\n",
        "a=''\n",
        "print(a)\n",
        "for i in range(2,10) :\n",
        "    print(f\"{i}x1={i}\",end=' ')\n",
        "a=''\n",
        "print(a)\n",
        "for i in range(2,10) :\n",
        "    print(f\"{i}x2={i*2}\" ,end=' ')\n",
        "a=''\n",
        "print(a)\n",
        "for i in range(2,10) :\n",
        "    print(f\"{i}x3={i*3}\",end=' ')\n",
        "a=''\n",
        "print(a)\n",
        "for i in range(2,10) :\n",
        "    print(f\"{i}x4={i*4}\",end=' ')\n",
        "a=''\n",
        "print(a)\n",
        "for i in range(2,10) :\n",
        "    print(f\"{i}x5={i*5}\",end=' ')\n",
        "a=''\n",
        "print(a)\n",
        "for i in range(2,10) :\n",
        "    print(f\"{i}x6={i*6}\",end=' ')\n",
        "a=''\n",
        "print(a)\n",
        "for i in range(2,10) :\n",
        "    print(f\"{i}x7={i*7}\",end=' ')\n",
        "a=''\n",
        "print(a)\n",
        "for i in range(2,10) :\n",
        "    print(f\"{i}x8={i*8}\",end=' ')\n",
        "a=''\n",
        "print(a)\n",
        "for i in range(2,10) :\n",
        "    print(f\"{i}x9={i*9}\",end=' ')\n",
        "\n"
      ],
      "metadata": {
        "colab": {
          "base_uri": "https://localhost:8080/"
        },
        "id": "BxJIwebYVOGh",
        "outputId": "3ffa60ca-5810-4fe8-bd51-63c2a2f51197"
      },
      "execution_count": 237,
      "outputs": [
        {
          "output_type": "stream",
          "name": "stdout",
          "text": [
            "--2단----3단----4단----5단----6단----7단----8단----9단--\n",
            "2x1=2 3x1=3 4x1=4 5x1=5 6x1=6 7x1=7 8x1=8 9x1=9 \n",
            "2x2=4 3x2=6 4x2=8 5x2=10 6x2=12 7x2=14 8x2=16 9x2=18 \n",
            "2x3=6 3x3=9 4x3=12 5x3=15 6x3=18 7x3=21 8x3=24 9x3=27 \n",
            "2x4=8 3x4=12 4x4=16 5x4=20 6x4=24 7x4=28 8x4=32 9x4=36 \n",
            "2x5=10 3x5=15 4x5=20 5x5=25 6x5=30 7x5=35 8x5=40 9x5=45 \n",
            "2x6=12 3x6=18 4x6=24 5x6=30 6x6=36 7x6=42 8x6=48 9x6=54 \n",
            "2x7=14 3x7=21 4x7=28 5x7=35 6x7=42 7x7=49 8x7=56 9x7=63 \n",
            "2x8=16 3x8=24 4x8=32 5x8=40 6x8=48 7x8=56 8x8=64 9x8=72 \n",
            "2x9=18 3x9=27 4x9=36 5x9=45 6x9=54 7x9=63 8x9=72 9x9=81 "
          ]
        }
      ]
    },
    {
      "cell_type": "code",
      "source": [],
      "metadata": {
        "id": "KMcyXZAwPjJd"
      },
      "execution_count": null,
      "outputs": []
    }
  ]
}