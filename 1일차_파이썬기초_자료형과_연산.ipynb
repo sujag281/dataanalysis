{
  "nbformat": 4,
  "nbformat_minor": 0,
  "metadata": {
    "colab": {
      "provenance": [],
      "toc_visible": true,
      "authorship_tag": "ABX9TyPrFuQGz1+0LDL4lEHr+Vxo",
      "include_colab_link": true
    },
    "kernelspec": {
      "name": "python3",
      "display_name": "Python 3"
    },
    "language_info": {
      "name": "python"
    }
  },
  "cells": [
    {
      "cell_type": "markdown",
      "metadata": {
        "id": "view-in-github",
        "colab_type": "text"
      },
      "source": [
        "<a href=\"https://colab.research.google.com/github/sujag281/dataanalysis/blob/main/1%EC%9D%BC%EC%B0%A8_%ED%8C%8C%EC%9D%B4%EC%8D%AC%EA%B8%B0%EC%B4%88_%EC%9E%90%EB%A3%8C%ED%98%95%EA%B3%BC_%EC%97%B0%EC%82%B0.ipynb\" target=\"_parent\"><img src=\"https://colab.research.google.com/assets/colab-badge.svg\" alt=\"Open In Colab\"/></a>"
      ]
    },
    {
      "cell_type": "markdown",
      "source": [
        "#파이썬\n",
        "##파이썬\n",
        "###목차\n",
        "####1.파이썬 문법\n",
        "\n",
        "\"\"\"\n",
        "지금부터 파이썬 수업\n",
        "ㅇㅎ\n",
        "ㅎㅎ\n",
        "\"\"\"\n",
        "\n"
      ],
      "metadata": {
        "id": "6pepyb7YqZf-"
      }
    },
    {
      "cell_type": "code",
      "execution_count": 9,
      "metadata": {
        "colab": {
          "base_uri": "https://localhost:8080/"
        },
        "id": "N91igI9ZpyD5",
        "outputId": "53b4fd4f-97e5-4223-c5bd-c1956b9db678"
      },
      "outputs": [
        {
          "output_type": "stream",
          "name": "stdout",
          "text": [
            "30\n",
            "-10\n",
            "200\n",
            "2.0\n"
          ]
        }
      ],
      "source": [
        "a=10\n",
        "b=20\n",
        "print(a+b)\n",
        "print(a-b)\n",
        "print(a*b)\n",
        "print(b/a)"
      ]
    },
    {
      "cell_type": "code",
      "source": [
        "a=20\n",
        "b=10\n",
        "print(a-b)"
      ],
      "metadata": {
        "id": "CoxQCOs4s_xp",
        "colab": {
          "base_uri": "https://localhost:8080/"
        },
        "outputId": "a13d237d-fd9f-4dde-c389-df1020a642cc"
      },
      "execution_count": 10,
      "outputs": [
        {
          "output_type": "stream",
          "name": "stdout",
          "text": [
            "10\n"
          ]
        }
      ]
    },
    {
      "cell_type": "code",
      "source": [
        "a=10\n",
        "b=5\n",
        "print(a/b)\n",
        "print(a%b)\n",
        "print(a**3)"
      ],
      "metadata": {
        "colab": {
          "base_uri": "https://localhost:8080/"
        },
        "id": "Tqy1TQDct51M",
        "outputId": "3e4aad00-0476-46dc-8b54-3f96fbbd6730"
      },
      "execution_count": 13,
      "outputs": [
        {
          "output_type": "stream",
          "name": "stdout",
          "text": [
            "2.0\n",
            "0\n",
            "1000\n"
          ]
        }
      ]
    },
    {
      "cell_type": "code",
      "source": [],
      "metadata": {
        "id": "sYWt6lqIwgUw"
      },
      "execution_count": null,
      "outputs": []
    },
    {
      "cell_type": "code",
      "source": [
        "a=10\n",
        "b=3\n",
        "c=4\n",
        "print(a+b*c)"
      ],
      "metadata": {
        "colab": {
          "base_uri": "https://localhost:8080/"
        },
        "id": "kUrPGE8Tujwi",
        "outputId": "d53c71a3-836a-4998-8d8f-b4baac0af416"
      },
      "execution_count": 14,
      "outputs": [
        {
          "output_type": "stream",
          "name": "stdout",
          "text": [
            "22\n"
          ]
        }
      ]
    },
    {
      "cell_type": "code",
      "source": [
        "a=15\n",
        "b=1300000\n",
        "print(a*b)"
      ],
      "metadata": {
        "colab": {
          "base_uri": "https://localhost:8080/"
        },
        "id": "xpx81FMQuxqo",
        "outputId": "9fdd2aba-a6b4-4728-af14-23802eb8bb24"
      },
      "execution_count": 19,
      "outputs": [
        {
          "output_type": "stream",
          "name": "stdout",
          "text": [
            "19500000\n"
          ]
        }
      ]
    },
    {
      "cell_type": "markdown",
      "source": [
        "#1. 파이썬 자료형과 연산"
      ],
      "metadata": {
        "id": "gNH0FTGxtPSR"
      }
    },
    {
      "cell_type": "markdown",
      "source": [
        "###오류의 예시"
      ],
      "metadata": {
        "id": "NzKX9u4ty4V4"
      }
    },
    {
      "cell_type": "code",
      "source": [
        "a=10 #number\n",
        "b='파이썬' #string\n",
        "print(a,b) # 쉼표는 공백하나\n",
        "print(a+b) #오류가 난 부분은 표시됨..코랩의 경우"
      ],
      "metadata": {
        "colab": {
          "base_uri": "https://localhost:8080/",
          "height": 202
        },
        "id": "XCwCKrjKwxsp",
        "outputId": "7fbb275c-81ce-4d73-bc5a-b875816510ff"
      },
      "execution_count": 23,
      "outputs": [
        {
          "output_type": "stream",
          "name": "stdout",
          "text": [
            "10 파이썬\n"
          ]
        },
        {
          "output_type": "error",
          "ename": "TypeError",
          "evalue": "unsupported operand type(s) for +: 'int' and 'str'",
          "traceback": [
            "\u001b[0;31m---------------------------------------------------------------------------\u001b[0m",
            "\u001b[0;31mTypeError\u001b[0m                                 Traceback (most recent call last)",
            "\u001b[0;32m<ipython-input-23-08b37b2d5aec>\u001b[0m in \u001b[0;36m<cell line: 4>\u001b[0;34m()\u001b[0m\n\u001b[1;32m      2\u001b[0m \u001b[0mb\u001b[0m\u001b[0;34m=\u001b[0m\u001b[0;34m'파이썬'\u001b[0m \u001b[0;31m#string\u001b[0m\u001b[0;34m\u001b[0m\u001b[0;34m\u001b[0m\u001b[0m\n\u001b[1;32m      3\u001b[0m \u001b[0mprint\u001b[0m\u001b[0;34m(\u001b[0m\u001b[0ma\u001b[0m\u001b[0;34m,\u001b[0m\u001b[0mb\u001b[0m\u001b[0;34m)\u001b[0m \u001b[0;31m# 쉼표는 공백하나\u001b[0m\u001b[0;34m\u001b[0m\u001b[0;34m\u001b[0m\u001b[0m\n\u001b[0;32m----> 4\u001b[0;31m \u001b[0mprint\u001b[0m\u001b[0;34m(\u001b[0m\u001b[0ma\u001b[0m\u001b[0;34m+\u001b[0m\u001b[0mb\u001b[0m\u001b[0;34m)\u001b[0m \u001b[0;31m#오류가 난 부분은 표시됨..코랩의 경우\u001b[0m\u001b[0;34m\u001b[0m\u001b[0;34m\u001b[0m\u001b[0m\n\u001b[0m",
            "\u001b[0;31mTypeError\u001b[0m: unsupported operand type(s) for +: 'int' and 'str'"
          ]
        }
      ]
    },
    {
      "cell_type": "markdown",
      "source": [],
      "metadata": {
        "id": "_bgxOPot3RpP"
      }
    },
    {
      "cell_type": "code",
      "source": [
        "###실습"
      ],
      "metadata": {
        "id": "2PlQbCvsy_uG"
      },
      "execution_count": 25,
      "outputs": []
    },
    {
      "cell_type": "markdown",
      "source": [
        "###0.파이썬 버전 출력"
      ],
      "metadata": {
        "id": "JIm5mN-OzSU_"
      }
    },
    {
      "cell_type": "code",
      "source": [
        "!python -V"
      ],
      "metadata": {
        "colab": {
          "base_uri": "https://localhost:8080/"
        },
        "id": "bs5HDWt-zXel",
        "outputId": "f92f3064-206b-4b71-8553-911ba4fd88e7"
      },
      "execution_count": 26,
      "outputs": [
        {
          "output_type": "stream",
          "name": "stdout",
          "text": [
            "Python 3.10.12\n"
          ]
        }
      ]
    },
    {
      "cell_type": "code",
      "source": [
        "import sys\n",
        "sys.version\n",
        "print('---',sys.version)\n"
      ],
      "metadata": {
        "colab": {
          "base_uri": "https://localhost:8080/"
        },
        "id": "zcFya1Vqzgi-",
        "outputId": "fbeeea5d-c5e8-4ec2-b7c7-dbdcd13c57e1"
      },
      "execution_count": 29,
      "outputs": [
        {
          "output_type": "stream",
          "name": "stdout",
          "text": [
            "--- 3.10.12 (main, Nov 20 2023, 15:14:05) [GCC 11.4.0]\n"
          ]
        }
      ]
    },
    {
      "cell_type": "code",
      "source": [
        "import sys\n",
        "print('---',sys.version)\n",
        "sys.version # print를 안써도 무조건 마지막에 있는 건 보여줌\n"
      ],
      "metadata": {
        "colab": {
          "base_uri": "https://localhost:8080/",
          "height": 54
        },
        "id": "NAPZc8Ogz44q",
        "outputId": "109aa8cb-a755-4e3d-9901-8ba162285bf9"
      },
      "execution_count": 32,
      "outputs": [
        {
          "output_type": "stream",
          "name": "stdout",
          "text": [
            "--- 3.10.12 (main, Nov 20 2023, 15:14:05) [GCC 11.4.0]\n"
          ]
        },
        {
          "output_type": "execute_result",
          "data": {
            "text/plain": [
              "'3.10.12 (main, Nov 20 2023, 15:14:05) [GCC 11.4.0]'"
            ],
            "application/vnd.google.colaboratory.intrinsic+json": {
              "type": "string"
            }
          },
          "metadata": {},
          "execution_count": 32
        }
      ]
    },
    {
      "cell_type": "code",
      "source": [
        "import sys\n",
        "print('---',sys.version)\n",
        "100+400 #마지막의 것은 값이 나온다...print를 안써도"
      ],
      "metadata": {
        "colab": {
          "base_uri": "https://localhost:8080/"
        },
        "id": "LHt2Hbpy0RqX",
        "outputId": "c3132b88-a0f9-431f-aef3-f00afa2191fb"
      },
      "execution_count": 34,
      "outputs": [
        {
          "output_type": "stream",
          "name": "stdout",
          "text": [
            "--- 3.10.12 (main, Nov 20 2023, 15:14:05) [GCC 11.4.0]\n"
          ]
        },
        {
          "output_type": "execute_result",
          "data": {
            "text/plain": [
              "500"
            ]
          },
          "metadata": {},
          "execution_count": 34
        }
      ]
    },
    {
      "cell_type": "code",
      "source": [
        "# 2.파이썬 설치 위치\n",
        "import sys   #굳이 import를 안해도 된다.\n",
        "print(sys.executable)"
      ],
      "metadata": {
        "colab": {
          "base_uri": "https://localhost:8080/"
        },
        "id": "jA8w0Ync0hdX",
        "outputId": "2ab6d67f-cd06-4d78-9701-31c994b87120"
      },
      "execution_count": 36,
      "outputs": [
        {
          "output_type": "stream",
          "name": "stdout",
          "text": [
            "/usr/bin/python3\n"
          ]
        }
      ]
    },
    {
      "cell_type": "code",
      "source": [
        "#물리적폴더위치\n",
        "import os\n",
        "os.getcwd()"
      ],
      "metadata": {
        "colab": {
          "base_uri": "https://localhost:8080/",
          "height": 35
        },
        "id": "cQNILmEd2AOu",
        "outputId": "873408a8-9bc5-4daf-b3d0-9cf85dc8f512"
      },
      "execution_count": 37,
      "outputs": [
        {
          "output_type": "execute_result",
          "data": {
            "text/plain": [
              "'/content'"
            ],
            "application/vnd.google.colaboratory.intrinsic+json": {
              "type": "string"
            }
          },
          "metadata": {},
          "execution_count": 37
        }
      ]
    },
    {
      "cell_type": "markdown",
      "source": [
        "#실습\n",
        " 문제1: 10 + 3 x 4 결과 출력\n",
        "\n",
        "✓ 문제2: 아이폰 15대를 가지고 있다. 아이폰의 가격이 130만원 일 때 총 금액은?\n",
        "\n",
        "✓ 문제3: 주어진 임의의 자연수가 홀수인지 짝수인지 판별하는 방법은?\n",
        "\n",
        "✓ 문제4: 2x2x2x5x5x5x5x3x3x3x3을 제곱형태로 나타낸 후 그 결과 출력하기\n",
        "\n",
        "• 아래의 문제를 파이썬으로 표현해보세요."
      ],
      "metadata": {
        "id": "HDpMOvUn0D0G"
      }
    },
    {
      "cell_type": "code",
      "source": [
        " #문제1: 10 + 3 x 4 결과 출력\n",
        " a=10\n",
        " b=3\n",
        " c=4\n",
        " print(a+b*c)\n",
        "#문제2: 아이폰 15대를 가지고 있다. 아이폰의 가격이 130만원 일 때 총 금액은?\n",
        "iphone=15\n",
        "price=1300000\n",
        "print(iphone*price)\n",
        "# 문제3: 주어진 임의의 자연수가 홀수인지 짝수인지 판별하는 방법은?\n",
        "f=2\n",
        "print(f%2)\n",
        "g=1\n",
        "print(g%2)\n",
        "# 문제4: 2x2x2x5x5x5x5x3x3x3x3을 제곱형태로 나타낸 후 그 결과 출력하기\n",
        "\n",
        "h=2\n",
        "i=5\n",
        "j=3\n",
        "print(h**3*i**4*j**4)"
      ],
      "metadata": {
        "colab": {
          "base_uri": "https://localhost:8080/"
        },
        "id": "gvgKELW63YB2",
        "outputId": "9778bdab-1d0a-4ffe-fd27-5c1fdf516434"
      },
      "execution_count": 47,
      "outputs": [
        {
          "output_type": "stream",
          "name": "stdout",
          "text": [
            "22\n",
            "19500000\n",
            "0\n",
            "1\n",
            "405000\n"
          ]
        }
      ]
    },
    {
      "cell_type": "code",
      "source": [
        "x=10\n",
        "if x%2==0:\n",
        "  print('짝수')\n",
        "else:\n",
        "  print('홀수')\n"
      ],
      "metadata": {
        "colab": {
          "base_uri": "https://localhost:8080/"
        },
        "id": "LUpQvQhN33Vu",
        "outputId": "dceb4204-e951-4026-af67-45d9a2e04e76"
      },
      "execution_count": 52,
      "outputs": [
        {
          "output_type": "stream",
          "name": "stdout",
          "text": [
            "짝수\n"
          ]
        }
      ]
    },
    {
      "cell_type": "markdown",
      "source": [
        "##1.파이썬 자료형"
      ],
      "metadata": {
        "id": "oldas3TkC9S7"
      }
    },
    {
      "cell_type": "markdown",
      "source": [
        "###파이썬 자료형 확인(data Type)확인함수:type()\n"
      ],
      "metadata": {
        "id": "UbaRydkJ9yTs"
      }
    },
    {
      "cell_type": "code",
      "source": [
        "print( type(123) )\n",
        "print( type(3.14) )\n",
        "print( type(\"123\") )\n",
        "print( type([123]) )\n",
        "print( type((123,)) )\n",
        "print( type({'123':123}) )\n",
        "print( type({123}) )\n",
        "print( type(True) )\n"
      ],
      "metadata": {
        "colab": {
          "base_uri": "https://localhost:8080/"
        },
        "id": "gAUNYR5H-C1K",
        "outputId": "f315ff84-8338-429c-b9cf-60c8c46955df"
      },
      "execution_count": 54,
      "outputs": [
        {
          "output_type": "stream",
          "name": "stdout",
          "text": [
            "<class 'int'>\n",
            "<class 'float'>\n",
            "<class 'str'>\n",
            "<class 'list'>\n",
            "<class 'tuple'>\n",
            "<class 'dict'>\n",
            "<class 'set'>\n",
            "<class 'bool'>\n"
          ]
        }
      ]
    },
    {
      "cell_type": "markdown",
      "source": [
        "## 2.표준 입출력\n",
        "\n"
      ],
      "metadata": {
        "id": "hGVyIWU8Cd2C"
      }
    },
    {
      "cell_type": "markdown",
      "source": [
        "###문자열 데이터를 숫자로 변환하기"
      ],
      "metadata": {
        "id": "v4f4aVWzDJpO"
      }
    },
    {
      "cell_type": "code",
      "source": [
        "a = input('숫자를 입력하세요:')\n",
        "print(type(a))\n",
        "a = int(a)  #정수로 변환하는 함수: int()\n",
        "print(type(a))"
      ],
      "metadata": {
        "colab": {
          "base_uri": "https://localhost:8080/"
        },
        "id": "n5IbsXWY-0gT",
        "outputId": "e7219f06-8f6e-40a1-e9be-e4d6fb384c24"
      },
      "execution_count": 59,
      "outputs": [
        {
          "output_type": "stream",
          "name": "stdout",
          "text": [
            "숫자를 입력하세요:100\n",
            "<class 'str'>\n",
            "<class 'int'>\n"
          ]
        }
      ]
    },
    {
      "cell_type": "code",
      "source": [
        "\n",
        "# a = input('숫자를 입력하세요:')\n",
        "# a = int(a)\n",
        "\n",
        "a = int(input('숫자를 입력하세요:'))"
      ],
      "metadata": {
        "colab": {
          "base_uri": "https://localhost:8080/"
        },
        "id": "gSPNl2VqDb2E",
        "outputId": "1db7bc55-a9a0-4894-fa0a-6e025c4c63f2"
      },
      "execution_count": 61,
      "outputs": [
        {
          "name": "stdout",
          "output_type": "stream",
          "text": [
            "숫자를 입력하세요:100\n"
          ]
        }
      ]
    },
    {
      "cell_type": "code",
      "source": [
        "#문자열 포맷팅\n",
        "a = input('키보드로 입력해 주세요')\n",
        "print('변수 a의 값은',a,'입니다.')\n",
        "print('변수 a의 값은 %s 입니다.'% a)\n",
        "print(f'변수 a의 값은 {a} 입니다.')"
      ],
      "metadata": {
        "colab": {
          "base_uri": "https://localhost:8080/"
        },
        "id": "5wXviBx9Fp9T",
        "outputId": "67a23224-0094-4929-93c5-205ea1b43530"
      },
      "execution_count": 66,
      "outputs": [
        {
          "output_type": "stream",
          "name": "stdout",
          "text": [
            "키보드로 입력해 주세요사과\n",
            "변수 a의 값은 사과 입니다.\n",
            "변수 a의 값은 사과 입니다.\n",
            "변수 a의 값은 사과 입니다.\n"
          ]
        }
      ]
    },
    {
      "cell_type": "code",
      "source": [
        "num1= int(input('키보드로 첫번째 숫자를 입력해 주세요'))\n",
        "num2= int(input('키보드로 두번째 숫자를 입력해 주세요'))\n",
        "\n",
        "print(num1+num2)\n",
        "print(num1-num2)\n",
        "print(num1*num2)\n",
        "print(num1//num2)\n",
        "print(num1%num2)"
      ],
      "metadata": {
        "colab": {
          "base_uri": "https://localhost:8080/"
        },
        "id": "fbtYC_o3G0dO",
        "outputId": "5f9dd699-ac1c-4f95-bb12-3cd2de32b839"
      },
      "execution_count": 75,
      "outputs": [
        {
          "output_type": "stream",
          "name": "stdout",
          "text": [
            "키보드로 첫번째 숫자를 입력해 주세요50\n",
            "키보드로 두번째 숫자를 입력해 주세요3\n",
            "53\n",
            "47\n",
            "150\n",
            "16\n",
            "2\n"
          ]
        }
      ]
    },
    {
      "cell_type": "code",
      "source": [
        "num1= int(input('첫번째 숫자: '))\n",
        "num2= int(input('두번째 숫자: '))\n",
        "print('_'*30)\n",
        "print(f'덧셈: {num1} + {num2} = {num1+num2}')\n",
        "print(f'뺼셈: {num1} - {num2} = {num1-num2}')\n",
        "print(f'곱셈: {num1} * {num2} = {num1*num2}')\n",
        "print(f'몫: {num1} // {num2} = {num1//num2}')\n",
        "print(f'나머지: {num1} % {num2} = {num1%num2}')"
      ],
      "metadata": {
        "colab": {
          "base_uri": "https://localhost:8080/"
        },
        "id": "pmBi80QwHLrm",
        "outputId": "41806728-8dde-4d4d-92a0-d035631ad51e"
      },
      "execution_count": 78,
      "outputs": [
        {
          "output_type": "stream",
          "name": "stdout",
          "text": [
            "첫번째 숫자: 50\n",
            "두번째 숫자: 3\n",
            "______________________________\n",
            "덧셈: 50 + 3 = 53\n",
            "뺼셈: 50 - 3 = 47\n",
            "곱셈: 50 * 3 = 150\n",
            "몫: 50 // 3 = 16\n",
            "나머지: 50 % 3 = 2\n"
          ]
        }
      ]
    },
    {
      "cell_type": "code",
      "source": [
        "num1= int(input('첫번째 숫자: '))\n",
        "num2= int(input('두번째 숫자: '))\n",
        "print('_'*30)\n",
        "print(f'덧셈:{num1} + {num2}   = {num1+num2:10}')\n",
        "print(f'뺼셈:  {num1} - {num2}  = {num1-num2:10}')\n",
        "print(f'곱셈:  {num1} * {num2}  = {num1*num2:10}')\n",
        "print(f'몫:    {num1} // {num2} = {num1//num2:10}')\n",
        "print(f'나머지:{num1} % {num2}  = {num1%num2:10}')"
      ],
      "metadata": {
        "colab": {
          "base_uri": "https://localhost:8080/"
        },
        "id": "pdKLW1iTJ9yh",
        "outputId": "fafa7784-f335-4c11-c178-8912ae653cfd"
      },
      "execution_count": 81,
      "outputs": [
        {
          "output_type": "stream",
          "name": "stdout",
          "text": [
            "첫번째 숫자: 50\n",
            "두번째 숫자: 3\n",
            "______________________________\n",
            "덧셈:  50 + 3  =         53\n",
            "뺼셈:  50 - 3  =         47\n",
            "곱셈:  50 * 3  =        150\n",
            "몫:    50 // 3 =         16\n",
            "나머지:50 % 3  =          2\n"
          ]
        }
      ]
    },
    {
      "cell_type": "code",
      "source": [
        "val = input('첫번째 숫자:')\n",
        "print(f'a의 값은: {val:>10}') #val 값을 10자리로 오른쪽 정렬\n",
        "print(f'a의 값은: {val:<10}') #val 값을 10자리로 왼쪽 정렬\n",
        "print(f'a의 값은: {val:^10}') #val 값을 10자리로 가운데 정렬"
      ],
      "metadata": {
        "colab": {
          "base_uri": "https://localhost:8080/"
        },
        "id": "k5ndL5_sKdna",
        "outputId": "21c576c1-9e0a-429a-ea09-b9b603610a20"
      },
      "execution_count": 83,
      "outputs": [
        {
          "output_type": "stream",
          "name": "stdout",
          "text": [
            "첫번째 숫자:12345\n",
            "a의 값은:      12345\n",
            "a의 값은: 12345     \n",
            "a의 값은:   12345   \n"
          ]
        }
      ]
    },
    {
      "cell_type": "code",
      "source": [
        "velocity = input('속력을 입력해 주세요 (km/h) : ')\n",
        "distance = input('거리를 입력해 주세요 (km) : ')\n",
        "\n",
        "print(f'속력:{float(velocity)} km/h')\n",
        "print(f'거리:{float(distance)} km')\n",
        "print(f'시간:{float(velocity)/float(distance)} h')\n",
        "\n"
      ],
      "metadata": {
        "colab": {
          "base_uri": "https://localhost:8080/"
        },
        "id": "HyvXjypcLo8p",
        "outputId": "656aba96-d017-4b0b-fa44-82d9f7372cb2"
      },
      "execution_count": 95,
      "outputs": [
        {
          "output_type": "stream",
          "name": "stdout",
          "text": [
            "속력을 입력해 주세요 (km/h) : 10\n",
            "거리를 입력해 주세요 (km) : 50\n",
            "속력:10.0 km/h\n",
            "거리:50.0 km\n",
            "시간:0.2 h\n"
          ]
        }
      ]
    },
    {
      "cell_type": "markdown",
      "source": [
        "###내장된 수학함수"
      ],
      "metadata": {
        "id": "SR467W3wOucf"
      }
    },
    {
      "cell_type": "code",
      "source": [
        "import math\n",
        "print(f'원주율: {math.pi}')\n",
        "print(f'절대값: {abs}')\n",
        "print(f'round: {round}')"
      ],
      "metadata": {
        "colab": {
          "base_uri": "https://localhost:8080/"
        },
        "id": "VieIAVHqOtb_",
        "outputId": "e9fdaa1c-d1f8-4732-e1de-2aea163ce83f"
      },
      "execution_count": 104,
      "outputs": [
        {
          "output_type": "stream",
          "name": "stdout",
          "text": [
            "원주율: 3.141592653589793\n",
            "절대값: <built-in function abs>\n",
            "round: <built-in function round>\n"
          ]
        }
      ]
    },
    {
      "cell_type": "code",
      "source": [
        "r=4\n",
        "# 문제1: 반지름이 4인 원의 넓이 출력\n",
        "print(f'문제1 :{r**2*math.pi}')\n",
        "print(f'문제1-1 :{math.pi*math.pow(r,2)}')\n",
        "print(f'문제1-2 :{round(math.pi*math.pow(r,2),4)}')\n",
        "\n",
        "#  문제2: 3.14 곱하기 2 나누기 7의 값을 반올림하여 계산 결과 출력\n",
        "print(f'문제2 :{round(math.pi*2/7)}')\n",
        "\n",
        "#  문제3: 원주율을 3.14로 만들어서 반지름이 4인 원의 둘레의 길이 출력\n",
        "\n",
        "\n",
        "print(f'문제3 :{2*3.14*r}')\n",
        "pi=3.14\n",
        "print(f'문제3-1 :{2*pi*r}')"
      ],
      "metadata": {
        "colab": {
          "base_uri": "https://localhost:8080/"
        },
        "id": "w6_l2CNbQD7f",
        "outputId": "0c748d0d-ccc4-456c-fd1a-4419adc4f775"
      },
      "execution_count": 112,
      "outputs": [
        {
          "output_type": "stream",
          "name": "stdout",
          "text": [
            "문제1 :50.26548245743669\n",
            "문제1-1 :50.26548245743669\n",
            "문제1-2 :50.2655\n",
            "문제2 :1\n",
            "문제3 :25.12\n",
            "문제3-1 :25.12\n"
          ]
        }
      ]
    },
    {
      "cell_type": "code",
      "source": [
        "\n"
      ],
      "metadata": {
        "colab": {
          "base_uri": "https://localhost:8080/",
          "height": 147
        },
        "id": "WmFkivkVUUal",
        "outputId": "495b5b42-f703-4313-aac9-612d59db91fc"
      },
      "execution_count": 113,
      "outputs": [
        {
          "output_type": "error",
          "ename": "NameError",
          "evalue": "name 'n' is not defined",
          "traceback": [
            "\u001b[0;31m---------------------------------------------------------------------------\u001b[0m",
            "\u001b[0;31mNameError\u001b[0m                                 Traceback (most recent call last)",
            "\u001b[0;32m<ipython-input-113-5b4adf1296f8>\u001b[0m in \u001b[0;36m<cell line: 1>\u001b[0;34m()\u001b[0m\n\u001b[0;32m----> 1\u001b[0;31m \u001b[0mn\u001b[0m\u001b[0;34m(\u001b[0m\u001b[0;34m)\u001b[0m\u001b[0;34m\u001b[0m\u001b[0;34m\u001b[0m\u001b[0m\n\u001b[0m",
            "\u001b[0;31mNameError\u001b[0m: name 'n' is not defined"
          ]
        }
      ]
    }
  ]
}