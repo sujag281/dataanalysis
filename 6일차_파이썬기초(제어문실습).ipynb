{
  "nbformat": 4,
  "nbformat_minor": 0,
  "metadata": {
    "colab": {
      "provenance": [],
      "authorship_tag": "ABX9TyPO3Uw3SSCN/ESztNEoZjKy",
      "include_colab_link": true
    },
    "kernelspec": {
      "name": "python3",
      "display_name": "Python 3"
    },
    "language_info": {
      "name": "python"
    }
  },
  "cells": [
    {
      "cell_type": "markdown",
      "metadata": {
        "id": "view-in-github",
        "colab_type": "text"
      },
      "source": [
        "<a href=\"https://colab.research.google.com/github/sujag281/dataanalysis/blob/main/6%EC%9D%BC%EC%B0%A8_%ED%8C%8C%EC%9D%B4%EC%8D%AC%EA%B8%B0%EC%B4%88(%EC%A0%9C%EC%96%B4%EB%AC%B8%EC%8B%A4%EC%8A%B5).ipynb\" target=\"_parent\"><img src=\"https://colab.research.google.com/assets/colab-badge.svg\" alt=\"Open In Colab\"/></a>"
      ]
    },
    {
      "cell_type": "code",
      "execution_count": null,
      "metadata": {
        "id": "o39xl9cTJTpz"
      },
      "outputs": [],
      "source": []
    },
    {
      "cell_type": "markdown",
      "source": [
        "4/8 (02.교안-파이썬기초-파이썬기초프로그래밍 p131)\n",
        "##제어문(조건문,반복문) 실습문제 풀이\n"
      ],
      "metadata": {
        "id": "7N9OgMs0JaCE"
      }
    },
    {
      "cell_type": "markdown",
      "source": [
        "###[실습문제] while반복문(퀴즈맞히기)"
      ],
      "metadata": {
        "id": "GDsHaRs6KOeb"
      }
    },
    {
      "cell_type": "code",
      "source": [
        "print('프로그램을 작성할 때 일정한 구간의 명령을 반복해서 실행하도록 구성한 구문을 무엇이라 하는가?')\n",
        "while True :\n",
        "    answer = input('정답 :')\n",
        "    if answer == '반복문':\n",
        "        print('정답!')\n",
        "        break\n",
        "    print('오답!')\n",
        "print('프로그램 종료!')\n"
      ],
      "metadata": {
        "colab": {
          "base_uri": "https://localhost:8080/"
        },
        "id": "ipCMXhwsKXIz",
        "outputId": "1502db9d-9583-4ca8-84b8-94c731fbb20b"
      },
      "execution_count": 9,
      "outputs": [
        {
          "output_type": "stream",
          "name": "stdout",
          "text": [
            "프로그램을 작성할 때 일정한 구간의 명령을 반복해서 실행하도록 구성한 구문을 무엇이라 하는가?\n",
            "정답 :조건\n",
            "오답!\n",
            "정답 :반복문\n",
            "정답!\n",
            "프로그램 종료!\n"
          ]
        }
      ]
    },
    {
      "cell_type": "code",
      "source": [
        "print('프로그램을 작성할 때 일정한 구간의 명령을 반복해서 실행하도록 구성한 구문을 무엇이라 하는가?')\n",
        "while True :\n",
        "    answer = input('정답 :')\n",
        "    if answer == '반복문':\n",
        "        print('정답!')\n",
        "        break\n",
        "    elif answer == '반복':\n",
        "        print('좀더 고민해 보세요')\n",
        "        continue              #밑으로 안 빠지고 위로 다시 올라감\n",
        "    print('오답!')\n",
        "print('프로그램 종료!')"
      ],
      "metadata": {
        "colab": {
          "base_uri": "https://localhost:8080/"
        },
        "id": "hiYpLqRJLuYb",
        "outputId": "dbb42e03-4823-4ef6-9115-c66bc3837822"
      },
      "execution_count": 11,
      "outputs": [
        {
          "output_type": "stream",
          "name": "stdout",
          "text": [
            "프로그램을 작성할 때 일정한 구간의 명령을 반복해서 실행하도록 구성한 구문을 무엇이라 하는가?\n",
            "정답 :반복\n",
            "좀더 고민해 보세요\n",
            "정답 :조건\n",
            "오답!\n",
            "정답 :반복\n",
            "좀더 고민해 보세요\n",
            "정답 :반복문\n",
            "정답!\n",
            "프로그램 종료!\n"
          ]
        }
      ]
    },
    {
      "cell_type": "markdown",
      "source": [
        "##[실습문제] 1000만원 연 7%이자로 2000만원이 되는데 걸리는 기간"
      ],
      "metadata": {
        "id": "EvHlKPBqN_oS"
      }
    },
    {
      "cell_type": "code",
      "source": [
        "seed,target = 1000,2000\n",
        "balance,interest = 1000,0.07\n",
        "year = 0\n",
        "while balance <= target :\n",
        "    balance = balance + balance * interest\n",
        "    year+= 1\n",
        "    print(f'year:{year},balance:{round(balance)}')\n",
        "print(f\"{seed}원이 {target}원이 되는데 {year}년이 걸립니다\")"
      ],
      "metadata": {
        "colab": {
          "base_uri": "https://localhost:8080/"
        },
        "id": "-yXYBktuOOra",
        "outputId": "2cd918cb-d4da-4ab5-a617-032b8b64ef42"
      },
      "execution_count": 16,
      "outputs": [
        {
          "output_type": "stream",
          "name": "stdout",
          "text": [
            "year:1,balance:1070\n",
            "year:2,balance:1145\n",
            "year:3,balance:1225\n",
            "year:4,balance:1311\n",
            "year:5,balance:1403\n",
            "year:6,balance:1501\n",
            "year:7,balance:1606\n",
            "year:8,balance:1718\n",
            "year:9,balance:1838\n",
            "year:10,balance:1967\n",
            "year:11,balance:2105\n",
            "1000원이 2000원이 되는데 11년이 걸립니다\n"
          ]
        }
      ]
    },
    {
      "cell_type": "markdown",
      "source": [
        "###[실습문제] 1-N까지 3의 배수 합계 구하기"
      ],
      "metadata": {
        "id": "S88U-hPNJs7c"
      }
    },
    {
      "cell_type": "code",
      "source": [
        "#리스트 컴프리핸션으로 구하기\n",
        "result = [i for i in range(1,1001) if i%3==0]\n",
        "print(result)\n",
        "result =sum( [i for i in range(1,1001) if i%3==0])\n",
        "print(result)\n",
        "print(f'{result:,}')"
      ],
      "metadata": {
        "colab": {
          "base_uri": "https://localhost:8080/"
        },
        "id": "_7g5KB4EJ0qM",
        "outputId": "53d12a3b-e098-4ce3-994e-69fee673205b"
      },
      "execution_count": 20,
      "outputs": [
        {
          "output_type": "stream",
          "name": "stdout",
          "text": [
            "[3, 6, 9, 12, 15, 18, 21, 24, 27, 30, 33, 36, 39, 42, 45, 48, 51, 54, 57, 60, 63, 66, 69, 72, 75, 78, 81, 84, 87, 90, 93, 96, 99, 102, 105, 108, 111, 114, 117, 120, 123, 126, 129, 132, 135, 138, 141, 144, 147, 150, 153, 156, 159, 162, 165, 168, 171, 174, 177, 180, 183, 186, 189, 192, 195, 198, 201, 204, 207, 210, 213, 216, 219, 222, 225, 228, 231, 234, 237, 240, 243, 246, 249, 252, 255, 258, 261, 264, 267, 270, 273, 276, 279, 282, 285, 288, 291, 294, 297, 300, 303, 306, 309, 312, 315, 318, 321, 324, 327, 330, 333, 336, 339, 342, 345, 348, 351, 354, 357, 360, 363, 366, 369, 372, 375, 378, 381, 384, 387, 390, 393, 396, 399, 402, 405, 408, 411, 414, 417, 420, 423, 426, 429, 432, 435, 438, 441, 444, 447, 450, 453, 456, 459, 462, 465, 468, 471, 474, 477, 480, 483, 486, 489, 492, 495, 498, 501, 504, 507, 510, 513, 516, 519, 522, 525, 528, 531, 534, 537, 540, 543, 546, 549, 552, 555, 558, 561, 564, 567, 570, 573, 576, 579, 582, 585, 588, 591, 594, 597, 600, 603, 606, 609, 612, 615, 618, 621, 624, 627, 630, 633, 636, 639, 642, 645, 648, 651, 654, 657, 660, 663, 666, 669, 672, 675, 678, 681, 684, 687, 690, 693, 696, 699, 702, 705, 708, 711, 714, 717, 720, 723, 726, 729, 732, 735, 738, 741, 744, 747, 750, 753, 756, 759, 762, 765, 768, 771, 774, 777, 780, 783, 786, 789, 792, 795, 798, 801, 804, 807, 810, 813, 816, 819, 822, 825, 828, 831, 834, 837, 840, 843, 846, 849, 852, 855, 858, 861, 864, 867, 870, 873, 876, 879, 882, 885, 888, 891, 894, 897, 900, 903, 906, 909, 912, 915, 918, 921, 924, 927, 930, 933, 936, 939, 942, 945, 948, 951, 954, 957, 960, 963, 966, 969, 972, 975, 978, 981, 984, 987, 990, 993, 996, 999]\n",
            "166833\n",
            "166,833\n"
          ]
        }
      ]
    },
    {
      "cell_type": "markdown",
      "source": [
        "##[실습문제] 숫자 입력받아 별 출력하기"
      ],
      "metadata": {
        "id": "SjHQyexzR4ch"
      }
    },
    {
      "cell_type": "code",
      "source": [
        "star = '✦'\n",
        "numbers = input('숫자 여러개 입력(0~9): ')\n",
        "for number in numbers :\n",
        "    for _ in range(int(number)*2) :\n",
        "        print(star, end='')\n",
        "    print()\n",
        "print('-'*30)\n",
        "for number in numbers :\n",
        "    print('✦'*int(number)*2)"
      ],
      "metadata": {
        "colab": {
          "base_uri": "https://localhost:8080/"
        },
        "id": "4lzPWYLmNLz7",
        "outputId": "ddeae73f-0455-4add-e471-bf39e305409f"
      },
      "execution_count": 23,
      "outputs": [
        {
          "output_type": "stream",
          "name": "stdout",
          "text": [
            "숫자 여러개 입력(0~9): 23\n",
            "✦✦✦✦\n",
            "✦✦✦✦✦✦\n",
            "------------------------------\n",
            "✦✦✦✦\n",
            "✦✦✦✦✦✦\n"
          ]
        }
      ]
    },
    {
      "cell_type": "markdown",
      "source": [
        "##p134 공이 튕긴 횟수 구하기"
      ],
      "metadata": {
        "id": "MTrt203pU8a4"
      }
    },
    {
      "cell_type": "markdown",
      "source": [
        "###[실습문제]커피 자동주문"
      ],
      "metadata": {
        "id": "-l8h-zfNWdfX"
      }
    },
    {
      "cell_type": "code",
      "source": [
        "menu = '''[커피 자동주문 머신 메뉴]\n",
        " ------------------------------------\n",
        "-아메리카노: 2500원\n",
        "-카페라떼:   3000원\n",
        "-카페모카:   3000원\n",
        "-------------------------------------\n",
        "원하시는 커피 종류와 잔수를 입력하세요.'''\n",
        "print(menu)\n",
        "coffee1 = int(input('아메리카노 몇 잔 : '))\n",
        "coffee2 = int(input('카페라떼   몇 잔 : '))\n",
        "coffee3 = int(input('카페모카   몇 잔 : '))\n",
        "total= 2500*coffee1+ 3000*coffee2 + 3000*coffee3\n",
        "print(f\"지불하실 총 금액은 {total}원 입니다.\")\n",
        "\n",
        "while True :\n",
        "    print('---------------')\n",
        "    money = int(input('돈을 넣어 주세요 : '))\n",
        "\n",
        "    change = money-total #거스름돈\n",
        "    if change < 0 :\n",
        "        print(f\"돈이 부족합니다.{abs(change):,}원을 더 넣어주세요\")\n",
        "        total=total-money\n",
        "    else :\n",
        "        print(f\"거스름돈은 {change:,}원 입니다.커피 맛있게 드세요~\") #abs는 음수를 양수로 바꿔주는 함수\n",
        "        break"
      ],
      "metadata": {
        "colab": {
          "base_uri": "https://localhost:8080/"
        },
        "id": "a5s-ISu_NeSc",
        "outputId": "9ac5fdc0-f9c0-4025-8fda-5c6c4eba0e53"
      },
      "execution_count": 27,
      "outputs": [
        {
          "output_type": "stream",
          "name": "stdout",
          "text": [
            "[커피 자동주문 머신 메뉴]\n",
            " ------------------------------------\n",
            "-아메리카노: 2500원\n",
            "-카페라떼:   3000원\n",
            "-카페모카:   3000원\n",
            "-------------------------------------\n",
            "원하시는 커피 종류와 잔수를 입력하세요.\n",
            "아메리카노 몇 잔 : 1\n",
            "카페라떼   몇 잔 : 1\n",
            "카페모카   몇 잔 : 2\n",
            "지불하실 총 금액은 11500원 입니다.\n",
            "---------------\n",
            "돈을 넣어 주세요 : 10000\n",
            "돈이 부족합니다.1,500원을 더 넣어주세요\n",
            "---------------\n",
            "돈을 넣어 주세요 : 500\n",
            "돈이 부족합니다.1,000원을 더 넣어주세요\n",
            "---------------\n",
            "돈을 넣어 주세요 : 500\n",
            "돈이 부족합니다.500원을 더 넣어주세요\n",
            "---------------\n",
            "돈을 넣어 주세요 : 500\n",
            "거스름돈은 0원 입니다.커피 맛있게 드세요~\n"
          ]
        }
      ]
    },
    {
      "cell_type": "markdown",
      "source": [
        "##무인 호텔 관리 프로그램"
      ],
      "metadata": {
        "id": "8fR3Xaz8agjO"
      }
    },
    {
      "cell_type": "code",
      "source": [
        "'''<< 메뉴 설명 >>\n",
        "1. 체크인\n",
        "방 호수(1번부터 시작)를 입력 받습니다.\n",
        "방이 이미 입실 중이면 \"입실 중인 방은 체크인 하실 수 없습니다.\"를 출력하세요.\n",
        "빈 방인 경우 \"입실 완료!\"를 출력하고 메뉴로 돌아갑니다.\n",
        "2. 체크아웃\n",
        "방 호수(1번부터 시작)를 입력 받습니다.\n",
        "방이 빈 방이면 \"빈 방은 체크아웃 하실 수 없습니다.\"를 출력하세요.\n",
        "체크인 상태인 경우 \"퇴실 완료!\"를 출력하고 메뉴로 돌아갑니다.\n",
        "3. '방호수 - 상태'를 출력합니다.\n",
        "    출력 예)\n",
        "    1호 : 빈 방\n",
        "    2호 : 입실 중\n",
        "    3호 : 입실 중\n",
        "    4호 : 빈 방\n",
        "    5호 : 빈 방\n",
        "0. 종료\n",
        "    반복을 종료하고 '영업 종료' 를 출력합니다.'''"
      ],
      "metadata": {
        "id": "X99CdnNweFtu"
      },
      "execution_count": null,
      "outputs": []
    },
    {
      "cell_type": "code",
      "source": [
        "print('호텔관리 시스템입니다.')\n",
        "menu='''\n",
        "<메뉴>\n",
        "1.체크인\n",
        "2.체크아웃\n",
        "3.현황보기\n",
        "0.종료하기'''\n",
        "number = int(input('호텔 방의 개수는 : '))\n",
        "hotel = [0 for _ in range(number)]\n",
        "print(f\"방 현황 : {hotel} (0:빈방, 1:입실중)\" )\n",
        "while True:\n",
        "    print(f'--------------\\n {menu}')\n",
        "    select = input('--->메뉴 선택 : ')\n",
        "    if select == '0' :\n",
        "        break\n",
        "    if select == '1' : #체크인\n",
        "        num = int(input(f'체크인하실 방 호수(1~{len(hotel)}) : '))\n",
        "        if hotel[num-1]: #이미 입실 중일때\n",
        "            print(f\"{num}번 방은  이미 입실 중입니다.\")\n",
        "            continue\n",
        "        else:\n",
        "            hotel[num-1] = 1\n",
        "\n",
        "    if select == '2' : #체크아웃\n",
        "        num = int(input(f'체크아웃하실 방 호수(1~{len(hotel)}) : '))\n",
        "        if hotel[num-1] : #체크아웃 처리\n",
        "            hotel[num-1] = 0\n",
        "        else :\n",
        "            print(f'{hotel[num]}번 방은 빈 방입니다. 빈 방은 체크아웃하실수 없습니다.')\n",
        "\n",
        "    if select == '3' : #현황보기\n",
        "        for idx, room in enumerate(hotel) : #[0, 0, 0]\n",
        "            if room == 0 :\n",
        "                print(f\"{idx+1}호 : 빈 방\")\n",
        "            elif room == 1 :\n",
        "                print(f\"{idx+1}호 : 입실중\")\n",
        "print('프로그램 종료!')"
      ],
      "metadata": {
        "colab": {
          "base_uri": "https://localhost:8080/"
        },
        "id": "P6FI3DsTe2D9",
        "outputId": "8e904769-6470-413c-a261-4f587a4fd1af"
      },
      "execution_count": 43,
      "outputs": [
        {
          "output_type": "stream",
          "name": "stdout",
          "text": [
            "호텔관리 시스템입니다.\n",
            "호텔 방의 개수는 : 3\n",
            "방 현황 : [0, 0, 0] (0:빈방, 1:입실중)\n",
            "--------------\n",
            " \n",
            "<메뉴>\n",
            "1.체크인\n",
            "2.체크아웃\n",
            "3.현황보기\n",
            "0.종료하기\n",
            "--->메뉴 선택 : 1\n",
            "체크인하실 방 호수(1~3) : 2\n",
            "--------------\n",
            " \n",
            "<메뉴>\n",
            "1.체크인\n",
            "2.체크아웃\n",
            "3.현황보기\n",
            "0.종료하기\n",
            "--->메뉴 선택 : 3\n",
            "1호 : 빈 방\n",
            "2호 : 입실중\n",
            "3호 : 빈 방\n",
            "--------------\n",
            " \n",
            "<메뉴>\n",
            "1.체크인\n",
            "2.체크아웃\n",
            "3.현황보기\n",
            "0.종료하기\n",
            "--->메뉴 선택 : 2\n",
            "체크아웃하실 방 호수(1~3) : 1\n",
            "1번 방은 빈 방입니다. 빈 방은 체크아웃하실수 없습니다.\n",
            "--------------\n",
            " \n",
            "<메뉴>\n",
            "1.체크인\n",
            "2.체크아웃\n",
            "3.현황보기\n",
            "0.종료하기\n",
            "--->메뉴 선택 : 0\n",
            "프로그램 종료!\n"
          ]
        }
      ]
    },
    {
      "cell_type": "code",
      "source": [
        "print('호텔관리 시스템입니다.')  ###교수님코드지문\n",
        "menu = '''\n",
        "1. 체크인\n",
        "2. 체크아웃\n",
        "3. 입실현황\n",
        "0. 종료'''\n",
        "number = int(input('호텔 방의 개수는(입력): '))\n",
        "hotel = [0 for _ in range(number)]\n",
        "print(f\"방 현황: {hotel} (0:빈방, 1:입실중)\")\n",
        "while True:\n",
        "    print('-------------------')\n",
        "    print(menu)\n",
        "    select = input('-->메뉴 선택: ')\n",
        "    if select == '0':\n",
        "        break\n",
        "\n",
        "    if select == '1': # 체크인\n",
        "        num = int(input(f'체크-in하실 방 호수(1~{len(hotel)}): '))\n",
        "        if hotel[num-1]:   # 이미 입실 중일 때\n",
        "            print(f\"{num}번 방은 이미 입실 중입니다.\")\n",
        "        else:\n",
        "            hotel[num-1] = 1\n",
        "        continue\n",
        "\n",
        "    if select == '2': # 체크아웃\n",
        "        num = int(input(f'체크-out하실 방 호수(1~{len(hotel)}): '))\n",
        "        if hotel[num-1]: # 체크아웃 처리\n",
        "            hotel[num-1] = 0    # 빈 방 상태로 만듦\n",
        "        else:\n",
        "            print(f'{hotel[num]}번 방은 빈 방입니다. 빈 방은 체크-out하실 수 없습니다.')\n",
        "\n",
        "    if select == '3': # 현황보기\n",
        "        for idx, room in enumerate(hotel): #[0, 0, 0]\n",
        "            if room == 0:\n",
        "                print(f\"{idx+1}호: 빈방\")\n",
        "            elif room == 1:\n",
        "                print(f\"{idx+1}호: 입실중\")\n",
        "\n",
        "\n",
        "print('-------------------')\n",
        "print('프로그램 종료!')\n"
      ],
      "metadata": {
        "colab": {
          "base_uri": "https://localhost:8080/"
        },
        "id": "a8Gq27JunVPB",
        "outputId": "f68ec377-6c86-4760-d949-a6c9eda575b5"
      },
      "execution_count": 42,
      "outputs": [
        {
          "output_type": "stream",
          "name": "stdout",
          "text": [
            "호텔관리 시스템입니다.\n",
            "호텔 방의 개수는(입력): 3\n",
            "방 현황: [0, 0, 0] (0:빈방, 1:입실중)\n",
            "-------------------\n",
            "\n",
            "1. 체크인\n",
            "2. 체크아웃\n",
            "3. 입실현황\n",
            "0. 종료\n",
            "-->메뉴 선택: 3\n",
            "1호: 빈방\n",
            "2호: 빈방\n",
            "3호: 빈방\n",
            "-------------------\n",
            "\n",
            "1. 체크인\n",
            "2. 체크아웃\n",
            "3. 입실현황\n",
            "0. 종료\n",
            "-->메뉴 선택: 1\n",
            "체크-in하실 방 호수(1~3): 1\n",
            "-------------------\n",
            "\n",
            "1. 체크인\n",
            "2. 체크아웃\n",
            "3. 입실현황\n",
            "0. 종료\n",
            "-->메뉴 선택: 3\n",
            "1호: 입실중\n",
            "2호: 빈방\n",
            "3호: 빈방\n",
            "-------------------\n",
            "\n",
            "1. 체크인\n",
            "2. 체크아웃\n",
            "3. 입실현황\n",
            "0. 종료\n",
            "-->메뉴 선택: 1\n",
            "체크-in하실 방 호수(1~3): 1\n",
            "1번 방은 이미 입실 중입니다.\n",
            "-------------------\n",
            "\n",
            "1. 체크인\n",
            "2. 체크아웃\n",
            "3. 입실현황\n",
            "0. 종료\n",
            "-->메뉴 선택: 3\n",
            "1호: 입실중\n",
            "2호: 빈방\n",
            "3호: 빈방\n",
            "-------------------\n",
            "\n",
            "1. 체크인\n",
            "2. 체크아웃\n",
            "3. 입실현황\n",
            "0. 종료\n",
            "-->메뉴 선택: 0\n",
            "-------------------\n",
            "프로그램 종료!\n"
          ]
        }
      ]
    },
    {
      "cell_type": "code",
      "source": [
        "import random\n",
        "x = list(range(1,46))\n",
        "print(x)\n",
        "\n",
        "print(f\"로또번호 출력 : {sorted(random.sample (range(1.46))})\n",
        "a = {random.sample(range(1,46),6)}\")"
      ],
      "metadata": {
        "colab": {
          "base_uri": "https://localhost:8080/"
        },
        "id": "CHTDyNWwphno",
        "outputId": "152561ee-5acd-4b8d-fe18-50cdd9879170"
      },
      "execution_count": 61,
      "outputs": [
        {
          "output_type": "stream",
          "name": "stdout",
          "text": [
            "[1, 2, 3, 4, 5, 6, 7, 8, 9, 10, 11, 12, 13, 14, 15, 16, 17, 18, 19, 20, 21, 22, 23, 24, 25, 26, 27, 28, 29, 30, 31, 32, 33, 34, 35, 36, 37, 38, 39, 40, 41, 42, 43, 44, 45]\n"
          ]
        }
      ]
    },
    {
      "cell_type": "markdown",
      "source": [],
      "metadata": {
        "id": "xY39honksFQQ"
      }
    },
    {
      "cell_type": "code",
      "source": [
        "import random\n",
        "dice =[0,0,0,0,0,0]\n",
        "for _ in range(100) :\n",
        "    x=random.randint(1,6)\n",
        "    dice[x-1] +=1\n",
        "print(f\"숫자별 개수 :{dice}\")\n",
        "maxValue = max(dice)\n",
        "max_dice = [idx+1 for idx, v in enumerate(dice)  if v==maxValue  ]\n",
        "# for idx, v in enumerate(dice) :\n",
        "#     if v==maxValue:\n",
        "#         max_dice.append(idx+1)\n",
        "print(f\"가장 많이 나온 숫자 :{max_dice},횟수: {maxValue}\")"
      ],
      "metadata": {
        "colab": {
          "base_uri": "https://localhost:8080/"
        },
        "id": "NFBzYXLXrEDI",
        "outputId": "03678816-5deb-41d6-9b7c-4499ce8a17a7"
      },
      "execution_count": 68,
      "outputs": [
        {
          "output_type": "stream",
          "name": "stdout",
          "text": [
            "숫자별 개수 :[18, 16, 16, 20, 14, 16]\n",
            "가장 많이 나온 숫자 :[4],횟수: 20\n"
          ]
        }
      ]
    },
    {
      "cell_type": "code",
      "source": [
        "import random\n",
        "\n",
        "dice = [0, 0, 0, 0, 0, 0]\n",
        "for _ in range(100):\n",
        "  x = random.randint(1, 6)\n",
        "  dice[x-1] += 1\n",
        "print(f\"숫자별 개수 : {dice}\")\n",
        "\n",
        "maxValue = max(dice)\n",
        "max_dice = [idx+1  for idx, v in enumerate(dice)  if v==maxValue]\n",
        "# max_dice = []\n",
        "# for idx, v in enumerate(dice):\n",
        "#     if v==maxValue:\n",
        "#         max_dice.append(idx+1)\n",
        "\n",
        "print(f\"가장많이 나온 숫자: {max_dice}, 횟수: {maxValue}\")"
      ],
      "metadata": {
        "colab": {
          "base_uri": "https://localhost:8080/"
        },
        "id": "46isueqlt0TX",
        "outputId": "fe230b89-aa06-406f-d3bc-308625143f36"
      },
      "execution_count": 67,
      "outputs": [
        {
          "output_type": "stream",
          "name": "stdout",
          "text": [
            "숫자별 개수 : [21, 21, 16, 13, 11, 18]\n",
            "가장많이 나온 숫자: [1, 2], 횟수: 21\n"
          ]
        }
      ]
    }
  ]
}