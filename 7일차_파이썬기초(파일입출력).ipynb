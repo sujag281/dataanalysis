{
  "nbformat": 4,
  "nbformat_minor": 0,
  "metadata": {
    "colab": {
      "provenance": [],
      "authorship_tag": "ABX9TyMl/oVdUn4ua5aMC635J2QW",
      "include_colab_link": true
    },
    "kernelspec": {
      "name": "python3",
      "display_name": "Python 3"
    },
    "language_info": {
      "name": "python"
    }
  },
  "cells": [
    {
      "cell_type": "markdown",
      "metadata": {
        "id": "view-in-github",
        "colab_type": "text"
      },
      "source": [
        "<a href=\"https://colab.research.google.com/github/sujag281/dataanalysis/blob/main/7%EC%9D%BC%EC%B0%A8_%ED%8C%8C%EC%9D%B4%EC%8D%AC%EA%B8%B0%EC%B4%88(%ED%8C%8C%EC%9D%BC%EC%9E%85%EC%B6%9C%EB%A0%A5).ipynb\" target=\"_parent\"><img src=\"https://colab.research.google.com/assets/colab-badge.svg\" alt=\"Open In Colab\"/></a>"
      ]
    },
    {
      "cell_type": "markdown",
      "source": [
        "4/9 (02.교안-파이썬기초-파이썬기초프로그래밍 p180)\n",
        "##6.파일 입출력"
      ],
      "metadata": {
        "id": "3pbp3F7BkgAb"
      }
    },
    {
      "cell_type": "markdown",
      "source": [
        "##6-1. txt"
      ],
      "metadata": {
        "id": "-oxZLTd_mfpp"
      }
    },
    {
      "cell_type": "markdown",
      "source": [
        "###파일 입출력"
      ],
      "metadata": {
        "id": "k2rhqabIml2q"
      }
    },
    {
      "cell_type": "code",
      "source": [],
      "metadata": {
        "id": "7fZHluqgnozR"
      },
      "execution_count": null,
      "outputs": []
    },
    {
      "cell_type": "code",
      "execution_count": 6,
      "metadata": {
        "id": "bQrGDk8TkXz-"
      },
      "outputs": [],
      "source": [
        "# 파일에 쓰기\n",
        "f = open(\"./새파일.txt\",'w')\n",
        "for i in range(1,11) :\n",
        "    f.write(f\"{i:2>}번째 줄입니다.\\n\")\n",
        "f.close()"
      ]
    },
    {
      "cell_type": "markdown",
      "source": [
        "\n"
      ],
      "metadata": {
        "id": "VijeiwOboqaB"
      }
    },
    {
      "cell_type": "code",
      "source": [
        "#파일 읽기\n",
        "f = open('./새파일.txt','r')\n",
        "line = f.readline()\n",
        "print(line)\n",
        "print('-----------')\n",
        "while True :\n",
        "    line = f.readline()\n",
        "    if not line :\n",
        "        break\n",
        "    print(line.strip())           #####안나옴\n",
        "f.close()"
      ],
      "metadata": {
        "colab": {
          "base_uri": "https://localhost:8080/"
        },
        "id": "nKjmg47_nFdr",
        "outputId": "551ae225-96f2-488b-ad30-ce813b071f19"
      },
      "execution_count": 29,
      "outputs": [
        {
          "output_type": "stream",
          "name": "stdout",
          "text": [
            "1번째 줄입니다.\n",
            "\n",
            "-----------\n",
            "2번째 줄입니다.\n",
            "3번째 줄입니다.\n",
            "4번째 줄입니다.\n",
            "5번째 줄입니다.\n",
            "6번째 줄입니다.\n",
            "7번째 줄입니다.\n",
            "8번째 줄입니다.\n",
            "9번째 줄입니다.\n",
            "10번째 줄입니다.\n"
          ]
        }
      ]
    },
    {
      "cell_type": "code",
      "source": [
        "#readlines() 리스트 형태로 나옴\n",
        "f = open('./새파일.txt','r')\n",
        "line = f.readlines()\n",
        "print(line)\n",
        "f.close()"
      ],
      "metadata": {
        "colab": {
          "base_uri": "https://localhost:8080/"
        },
        "id": "9UlRD5aOqhHY",
        "outputId": "bc5a197f-dd7d-4282-c9d8-8c1edcd5b097"
      },
      "execution_count": 22,
      "outputs": [
        {
          "output_type": "stream",
          "name": "stdout",
          "text": [
            "['1번째 줄입니다.\\n', '2번째 줄입니다.\\n', '3번째 줄입니다.\\n', '4번째 줄입니다.\\n', '5번째 줄입니다.\\n', '6번째 줄입니다.\\n', '7번째 줄입니다.\\n', '8번째 줄입니다.\\n', '9번째 줄입니다.\\n', '10번째 줄입니다.\\n']\n"
          ]
        }
      ]
    },
    {
      "cell_type": "code",
      "source": [
        "#readlines() 리스트 형태로 나옴\n",
        "f = open('./새파일.txt','r')\n",
        "for line in f.readlines():\n",
        "#line = f.readlines()\n",
        "    print(line.strip()) #  strip는 \\n을 지우기 위함\n",
        "f.close()"
      ],
      "metadata": {
        "colab": {
          "base_uri": "https://localhost:8080/"
        },
        "id": "xaWvOsV3oarg",
        "outputId": "e39ec163-e548-48dc-cd78-a47ddc05dd09"
      },
      "execution_count": 23,
      "outputs": [
        {
          "output_type": "stream",
          "name": "stdout",
          "text": [
            "1번째 줄입니다.\n",
            "2번째 줄입니다.\n",
            "3번째 줄입니다.\n",
            "4번째 줄입니다.\n",
            "5번째 줄입니다.\n",
            "6번째 줄입니다.\n",
            "7번째 줄입니다.\n",
            "8번째 줄입니다.\n",
            "9번째 줄입니다.\n",
            "10번째 줄입니다.\n"
          ]
        }
      ]
    },
    {
      "cell_type": "code",
      "source": [
        "#read 통으로 읽음\n",
        "f = open('./새파일.txt','r')\n",
        "data = f.read()\n",
        "print(data)\n",
        "f.close()"
      ],
      "metadata": {
        "colab": {
          "base_uri": "https://localhost:8080/"
        },
        "id": "a1D_R9oUqtrH",
        "outputId": "4b098a6d-0e36-43fa-d28c-0c7f3bc5a6a4"
      },
      "execution_count": 33,
      "outputs": [
        {
          "output_type": "stream",
          "name": "stdout",
          "text": [
            "1번째 줄입니다.\n",
            "2번째 줄입니다.\n",
            "3번째 줄입니다.\n",
            "4번째 줄입니다.\n",
            "5번째 줄입니다.\n",
            "6번째 줄입니다.\n",
            "7번째 줄입니다.\n",
            "8번째 줄입니다.\n",
            "9번째 줄입니다.\n",
            "10번째 줄입니다.\n",
            "\n"
          ]
        }
      ]
    },
    {
      "cell_type": "markdown",
      "source": [
        "### with문\n",
        "with문을 벗어나면 자동으로 파일 객체를 닫는다."
      ],
      "metadata": {
        "id": "UdVqYOJyrnDe"
      }
    },
    {
      "cell_type": "code",
      "source": [
        "# f = open('./새파일.txt','r')\n",
        "# data = f.read()\n",
        "# print(data)\n",
        "# f.close()\n",
        "\n",
        "with open('./새파일.txt','r') as f :\n",
        "    data=f.read()\n",
        "    print(type(data))\n",
        "    data=data.replace (\"줄\",\"사람\")\n",
        "    print(data)\n"
      ],
      "metadata": {
        "colab": {
          "base_uri": "https://localhost:8080/"
        },
        "id": "MBon43ejryBg",
        "outputId": "3e44bb7e-6446-4b4e-dd80-f9897a558743"
      },
      "execution_count": 40,
      "outputs": [
        {
          "output_type": "stream",
          "name": "stdout",
          "text": [
            "<class 'str'>\n",
            "1번째 사람입니다.\n",
            "2번째 사람입니다.\n",
            "3번째 사람입니다.\n",
            "4번째 사람입니다.\n",
            "5번째 사람입니다.\n",
            "6번째 사람입니다.\n",
            "7번째 사람입니다.\n",
            "8번째 사람입니다.\n",
            "9번째 사람입니다.\n",
            "10번째 사람입니다.\n",
            "\n"
          ]
        }
      ]
    },
    {
      "cell_type": "markdown",
      "source": [
        "### os 모듈 : 디렉토리 & 파일관련함수"
      ],
      "metadata": {
        "id": "aKeZZZOqs19X"
      }
    },
    {
      "cell_type": "code",
      "source": [
        "import os\n",
        "print(f\"현재위치 : {os.getcwd()}\")\n",
        "print(f\"현재위치 파일/폴더목록 : {os.listdir()}\")\n",
        "#os.chdir('../')\n",
        "os.chdir('/content')\n",
        "print(f\"현재위치 파일/폴더목록 : {os.listdir()}\")"
      ],
      "metadata": {
        "colab": {
          "base_uri": "https://localhost:8080/"
        },
        "id": "pYG49Akgs8EZ",
        "outputId": "f054af8d-d702-4121-8607-ef6d53949a3b"
      },
      "execution_count": 43,
      "outputs": [
        {
          "output_type": "stream",
          "name": "stdout",
          "text": [
            "현재위치 : /\n",
            "현재위치 파일/폴더목록 : ['srv', 'sys', 'mnt', 'dev', 'proc', 'lib32', 'lib64', 'home', 'libx32', 'var', 'root', 'run', 'sbin', 'tmp', 'usr', 'boot', 'bin', 'lib', 'media', 'etc', 'opt', 'content', 'kaggle', '.dockerenv', 'datalab', 'tools', 'NGC-DL-CONTAINER-LICENSE', 'cuda-keyring_1.0-1_all.deb']\n",
            "현재위치 파일/폴더목록 : ['.config', '새파일.txt', 'sample_data']\n"
          ]
        }
      ]
    },
    {
      "cell_type": "markdown",
      "source": [
        "-os.remove():파일삭제"
      ],
      "metadata": {
        "id": "_HETycL5uau-"
      }
    },
    {
      "cell_type": "code",
      "source": [
        "import os\n",
        "file = '새파일.txt'\n",
        "if os.path.isfile(file):\n",
        "    os.remove(file)\n",
        "    print(f\"'{file}'파일이 삭제되었습니다.\")\n",
        "else:\n",
        "    print(f\"'{file}'파일이 존재하지 않습니다..\")"
      ],
      "metadata": {
        "colab": {
          "base_uri": "https://localhost:8080/"
        },
        "id": "08_KW0xwttM4",
        "outputId": "1bd7327b-c683-430a-b65b-09b9e659895f"
      },
      "execution_count": 46,
      "outputs": [
        {
          "output_type": "stream",
          "name": "stdout",
          "text": [
            "'새파일.txt'파일이 존재하지 않습니다..\n"
          ]
        }
      ]
    },
    {
      "cell_type": "code",
      "source": [
        "#실습문제\n",
        "import random\n",
        "f = open(\"./sample.txt\",'w')\n",
        "for i in range(10) :\n",
        "    n=str(random.randint(1,100))\n",
        "    f.write(n+'\\n') #줄바꿈 문자라 더하기로 줄바꿈\n",
        "f.close()\n",
        "\n",
        "f = open(\"./sample.txt\",'r')\n",
        "data = f.read()\n",
        "print(data)\n",
        "f.close()"
      ],
      "metadata": {
        "colab": {
          "base_uri": "https://localhost:8080/"
        },
        "id": "nDyUQpNBvC7n",
        "outputId": "8f669c73-8ecf-4f95-84c5-819e41af9074"
      },
      "execution_count": 50,
      "outputs": [
        {
          "output_type": "stream",
          "name": "stdout",
          "text": [
            "94\n",
            "32\n",
            "2\n",
            "59\n",
            "99\n",
            "58\n",
            "79\n",
            "45\n",
            "4\n",
            "69\n",
            "\n"
          ]
        }
      ]
    },
    {
      "cell_type": "code",
      "source": [
        "#파일 읽어서 총합&평균출력하기\n",
        "with open('./sample.txt','r') as f :\n",
        "    data=[int(line) for line in f.readlines()]\n",
        "    hap = sum(data)\n",
        "    avg = hap / len(data)\n",
        "    print(f\"{data}\\n총합은 {hap}입니다. \\n평균은 {avg}입니다.\")"
      ],
      "metadata": {
        "colab": {
          "base_uri": "https://localhost:8080/"
        },
        "id": "xA9Gfhurv-p_",
        "outputId": "be927cce-1ac5-4f62-991b-1447ddfa85c2"
      },
      "execution_count": 64,
      "outputs": [
        {
          "output_type": "stream",
          "name": "stdout",
          "text": [
            "[95, 70, 67, 91, 82, 89, 43, 64, 72, 77]\n",
            "총합은 750입니다. \n",
            "평균은 75.0입니다.\n"
          ]
        }
      ]
    },
    {
      "cell_type": "code",
      "source": [
        "#파일 읽어서 총합&평균출력하기, 파일로 저장하기\n",
        "with open('./sample.txt','r') as f :\n",
        "    data=[int(line) for line in f.readlines()]\n",
        "    hap = sum(data)\n",
        "    avg = hap / len(data)\n",
        "    content = f\"{data}\\n총합은 {hap}입니다. \\n평균은 {avg}입니다.\"\n",
        "    print(content)\n",
        "\n",
        "with open('./result.txt','w') as f :\n",
        "    f.write(content)"
      ],
      "metadata": {
        "colab": {
          "base_uri": "https://localhost:8080/"
        },
        "id": "7v4d99RW0ffE",
        "outputId": "165df3eb-cf8e-40d5-fe40-27d5b830360c"
      },
      "execution_count": 67,
      "outputs": [
        {
          "output_type": "stream",
          "name": "stdout",
          "text": [
            "[95, 70, 67, 91, 82, 89, 43, 64, 72, 77]\n",
            "총합은 750입니다. \n",
            "평균은 75.0입니다.\n"
          ]
        }
      ]
    }
  ]
}