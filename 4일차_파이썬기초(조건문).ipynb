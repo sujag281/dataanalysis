{
  "nbformat": 4,
  "nbformat_minor": 0,
  "metadata": {
    "colab": {
      "provenance": [],
      "authorship_tag": "ABX9TyOHFPxQDCNDehA1Mi6+CSuQ",
      "include_colab_link": true
    },
    "kernelspec": {
      "name": "python3",
      "display_name": "Python 3"
    },
    "language_info": {
      "name": "python"
    }
  },
  "cells": [
    {
      "cell_type": "markdown",
      "metadata": {
        "id": "view-in-github",
        "colab_type": "text"
      },
      "source": [
        "<a href=\"https://colab.research.google.com/github/sujag281/dataanalysis/blob/main/4%EC%9D%BC%EC%B0%A8_%ED%8C%8C%EC%9D%B4%EC%8D%AC%EA%B8%B0%EC%B4%88(%EC%A1%B0%EA%B1%B4%EB%AC%B8).ipynb\" target=\"_parent\"><img src=\"https://colab.research.google.com/assets/colab-badge.svg\" alt=\"Open In Colab\"/></a>"
      ]
    },
    {
      "cell_type": "code",
      "execution_count": null,
      "metadata": {
        "id": "lFeDZhbDbDZd"
      },
      "outputs": [],
      "source": []
    },
    {
      "cell_type": "markdown",
      "source": [
        "4/3 (02.교안-파이썬기초-파이썬기초프로그래밍 p102)\n",
        "#4.파이썬 조건문"
      ],
      "metadata": {
        "id": "V3bJ7hCVcfyL"
      }
    },
    {
      "cell_type": "markdown",
      "source": [
        "###1.if조건문(if만 사용)"
      ],
      "metadata": {
        "id": "_7NS17tJcuAT"
      }
    },
    {
      "cell_type": "code",
      "source": [
        "a = 99\n",
        "if a < 100: # 만약 a가 100보다 작으면\n",
        "  print(f\"{a}는 100보다 작군요\")"
      ],
      "metadata": {
        "colab": {
          "base_uri": "https://localhost:8080/"
        },
        "id": "4mnuY4oQdLMi",
        "outputId": "7e35b0d8-52a9-4b30-8b2a-676497ebab34"
      },
      "execution_count": 2,
      "outputs": [
        {
          "output_type": "stream",
          "name": "stdout",
          "text": [
            "99는 100보다 작군요\n"
          ]
        }
      ]
    },
    {
      "cell_type": "code",
      "source": [
        "a = 200     ##아무 반응도 없음,조건에 부합하지 않기 때문에\n",
        "if a < 100: # 만약 a가 100보다 작으면\n",
        "  print(f\"{a}는 100보다 작군요\")"
      ],
      "metadata": {
        "id": "nlSU3TfOdw87"
      },
      "execution_count": 3,
      "outputs": []
    },
    {
      "cell_type": "markdown",
      "source": [
        "###2.if~else ~ 조건문"
      ],
      "metadata": {
        "id": "qWGVX9Vkc4Pa"
      }
    },
    {
      "cell_type": "code",
      "source": [
        "a = int(input('숫자를 입력하세요 : '))\n",
        "if a < 100:     # 만약 a가 100보다 작으면 (True)\n",
        "  print(f\"{a}는 100보다 작군요\")\n",
        "else:           #그렇지 않다면(False)\n",
        "  print(f\"{a}는 100보다 작지 않군요\")"
      ],
      "metadata": {
        "colab": {
          "base_uri": "https://localhost:8080/"
        },
        "id": "iq_51x-_dPNq",
        "outputId": "ff84ad2c-0f37-42f4-88f0-c786721576be"
      },
      "execution_count": 5,
      "outputs": [
        {
          "output_type": "stream",
          "name": "stdout",
          "text": [
            "숫자를 입력하세요 : 101\n",
            "101는 100보다 작지 않군요\n"
          ]
        }
      ]
    },
    {
      "cell_type": "markdown",
      "source": [
        "###3.중첩 if조건문 (if문 안에 if문)"
      ],
      "metadata": {
        "id": "maXjkw7YdAyx"
      }
    },
    {
      "cell_type": "code",
      "source": [
        "a = int(input('숫자를 입력하세요 : '))\n",
        "if a < 100:   # 만약 a가 100보다 작으면 (True)\n",
        "    if a<50:\n",
        "        print(f\"{a}는 50보다 작군요\")\n",
        "    else:    # 50<=a<100\n",
        "        print(f\"{a}는 50보다 작지않군요\")\n",
        "\n",
        "else:\n",
        "    if a==100:\n",
        "        print(f\"{a}는 100과 같군요\")\n",
        "    else:\n",
        "        print(f\"{a}는 100보다 작지 않군요\")\n",
        ""
      ],
      "metadata": {
        "colab": {
          "base_uri": "https://localhost:8080/"
        },
        "id": "Lx3dn-dXc3g8",
        "outputId": "c55f002b-cedf-4bf7-ca4d-fc53d61278e1"
      },
      "execution_count": 6,
      "outputs": [
        {
          "output_type": "stream",
          "name": "stdout",
          "text": [
            "숫자를 입력하세요 : 51\n",
            "51는 50보다 작지않군요\n"
          ]
        }
      ]
    },
    {
      "cell_type": "code",
      "source": [
        "#문제\n",
        "x=int(input('숫자를 입력하세요 : '))\n",
        "if x % 2 == 0 :\n",
        "     print(f\"{x}는 짝수\")\n",
        "else:\n",
        "    print(f\"{x}는 홀수\")"
      ],
      "metadata": {
        "colab": {
          "base_uri": "https://localhost:8080/"
        },
        "id": "98i_8Cn6gOiJ",
        "outputId": "f459f07b-24fd-44b5-ddc5-6289e2e6f594"
      },
      "execution_count": 15,
      "outputs": [
        {
          "output_type": "stream",
          "name": "stdout",
          "text": [
            "숫자를 입력하세요 : 33\n",
            "33는 홀수\n"
          ]
        }
      ]
    },
    {
      "cell_type": "code",
      "source": [
        "##간단한 문장은 한줄로 표현가능\n",
        "x=int(input('숫자를 입력하세요 : '))\n",
        "if x % 2 == 0 :  print(f\"{x}는 짝수\")\n",
        "else:            print(f\"{x}는 홀수\")"
      ],
      "metadata": {
        "colab": {
          "base_uri": "https://localhost:8080/"
        },
        "id": "AFr_O9hQgnrE",
        "outputId": "373c320e-2da0-4b37-d08a-744c9516470f"
      },
      "execution_count": 13,
      "outputs": [
        {
          "output_type": "stream",
          "name": "stdout",
          "text": [
            "숫자를 입력하세요 : 26\n",
            "26는 짝수\n"
          ]
        }
      ]
    },
    {
      "cell_type": "code",
      "source": [
        "#간단히 이렇게도 가능\n",
        "print(f\"{x}는 짝수\")  if x % 2 == 0 else print(f\"{x}는 홀수\")"
      ],
      "metadata": {
        "colab": {
          "base_uri": "https://localhost:8080/"
        },
        "id": "soqNZRrEhdfh",
        "outputId": "f563443c-0ef1-4645-f085-80c420b12b50"
      },
      "execution_count": 14,
      "outputs": [
        {
          "output_type": "stream",
          "name": "stdout",
          "text": [
            "26는 짝수\n"
          ]
        }
      ]
    },
    {
      "cell_type": "markdown",
      "source": [
        "###[실습문제] 가위/바위/보 게임"
      ],
      "metadata": {
        "id": "aH0VO2P8iK-Y"
      }
    },
    {
      "cell_type": "code",
      "source": [
        "import random # 난수 발생 모듈\n",
        "random.randint(1,10) # 1~10사이 임의의 정수 선택 (실행할때마다 랜덤하게 숫자 나옴)\n",
        "random.choice([1,2,3,4,5]) #1-5숫자중에 랜덤\n",
        "random.choice(['가위','바위','보'])"
      ],
      "metadata": {
        "colab": {
          "base_uri": "https://localhost:8080/",
          "height": 35
        },
        "id": "56eVoHjqiBXR",
        "outputId": "86974c42-c89d-435f-ba02-32c58b091643"
      },
      "execution_count": 22,
      "outputs": [
        {
          "output_type": "execute_result",
          "data": {
            "text/plain": [
              "'보'"
            ],
            "application/vnd.google.colaboratory.intrinsic+json": {
              "type": "string"
            }
          },
          "metadata": {},
          "execution_count": 22
        }
      ]
    },
    {
      "cell_type": "code",
      "source": [
        "computer = random.choice(['가위','바위','보']) #직접\n",
        "my = input('가위/바위/보 중 하나 입력')\n",
        "print(f\"computer : {computer}, my : {my}\")\n",
        "if computer == my:\n",
        "    print(f\"비겼습니다\")\n",
        "\n",
        "else:\n",
        "    if computer=='가위'and my=='보' :\n",
        "        print(f\"내가 졌다\")\n",
        "    else:\n",
        "        if computer=='바위'and my=='가위' :\n",
        "            print(f\"내가 졌다\")\n",
        "        else :\n",
        "            if computer=='보'and my=='바위' :\n",
        "                print(f\"내가 졌다\")\n",
        "            else:\n",
        "                print(f\"내가 이겼다\")\n"
      ],
      "metadata": {
        "colab": {
          "base_uri": "https://localhost:8080/"
        },
        "id": "Q3K1bAQ_jRKY",
        "outputId": "15e0464a-e934-4a1f-a918-b9ca4d909209"
      },
      "execution_count": 56,
      "outputs": [
        {
          "output_type": "stream",
          "name": "stdout",
          "text": [
            "가위/바위/보 중 하나 입력가위\n",
            "computer : 보, my : 가위\n",
            "내가 이겼다\n"
          ]
        }
      ]
    },
    {
      "cell_type": "code",
      "source": [
        "computer = random.choice(['가위','바위','보']) #교수님과\n",
        "my = input('가위/바위/보 중 하나 입력')\n",
        "print(f\"computer : {computer}, my : {my}\")\n",
        "\n",
        "# 결과 판단하기\n",
        "if computer == my:\n",
        "    print(f\"비겼습니다\")\n",
        "# 컴퓨터가 이긴 경우\n",
        "else:\n",
        "    if (computer=='가위' and my=='보') or \\\n",
        "    (computer=='바위' and my=='가위') or \\\n",
        "    (computer=='보' and my=='바위') :\n",
        "        print(f\"컴퓨터가 이겼습니다\")\n",
        "    else:\n",
        "         print(f\"내가 이겼습니다\")"
      ],
      "metadata": {
        "colab": {
          "base_uri": "https://localhost:8080/"
        },
        "id": "qRaIFqqhnjPn",
        "outputId": "2a58fd7c-4eec-44c8-f7f1-d12ff60fc502"
      },
      "execution_count": 42,
      "outputs": [
        {
          "output_type": "stream",
          "name": "stdout",
          "text": [
            "가위/바위/보 중 하나 입력가위\n",
            "computer : 보, my : 가위\n",
            "내가 이겼습니다\n"
          ]
        }
      ]
    },
    {
      "cell_type": "code",
      "source": [],
      "metadata": {
        "id": "rXSP6iJgrzeG"
      },
      "execution_count": null,
      "outputs": []
    },
    {
      "cell_type": "markdown",
      "source": [
        "###[실습문제] 직각삼각형 판별하기\n"
      ],
      "metadata": {
        "id": "lGvZQ6mbq5PQ"
      }
    },
    {
      "cell_type": "code",
      "source": [
        "a = int(input('a에 들어갈 숫자:')) ##직접\n",
        "b = int(input('b에 들어갈 숫자:'))\n",
        "c = int(input('c에 들어갈 숫자:'))\n",
        "if a**2+b**2==c**2 :\n",
        "     print(f\"직각삼각형 입니다.\")\n",
        "else :\n",
        "     print(f\"직각삼각형이 아닙니다.\")"
      ],
      "metadata": {
        "colab": {
          "base_uri": "https://localhost:8080/"
        },
        "id": "yBckdIyzpnmX",
        "outputId": "c48510d0-969d-4834-888e-d02d13e45052"
      },
      "execution_count": 47,
      "outputs": [
        {
          "output_type": "stream",
          "name": "stdout",
          "text": [
            "a에 들어갈 숫자:3\n",
            "b에 들어갈 숫자:5\n",
            "c에 들어갈 숫자:6\n",
            "직각삼각형이 아닙니다.\n"
          ]
        }
      ]
    },
    {
      "cell_type": "code",
      "source": [
        "print('삼각형의 세 변의 길이를 입력 받습니다.') ##교수님과함께\n",
        "c = int(input('빗변 c의 길이:'))\n",
        "a = int(input('  변 a의 길이:'))\n",
        "b = int(input('  변 b의 길이:'))\n",
        "print('-'*30)\n",
        "if a**2+b**2==c**2 :\n",
        "     print(f\"직각삼각형 입니다.\")\n",
        "else :\n",
        "     print(f\"직각삼각형이 아닙니다.\")"
      ],
      "metadata": {
        "colab": {
          "base_uri": "https://localhost:8080/"
        },
        "id": "Aykys5E0qnVW",
        "outputId": "58b2793b-b9a4-4b88-da59-298c71c4bccf"
      },
      "execution_count": 49,
      "outputs": [
        {
          "output_type": "stream",
          "name": "stdout",
          "text": [
            "삼각형의 세 변의 길이를 입력 받습니다.\n",
            "빗변 c의 길이:5\n",
            "  변 a의 길이:4\n",
            "  변 b의 길이:3\n",
            "------------------------------\n",
            "직각삼각형 입니다.\n"
          ]
        }
      ]
    },
    {
      "cell_type": "markdown",
      "source": [
        "## 4.다중 조건문\n",
        "if~ else~ if-> if~ elif~"
      ],
      "metadata": {
        "id": "K8f9fVIIyDmU"
      }
    },
    {
      "cell_type": "code",
      "source": [
        "# 나이별 학생 구분하기\n",
        "age = int(input('나이를 입력하세요 : '))\n",
        "if age < 8 :\n",
        "    print('미취학 아동입니다.')\n",
        "elif age <14 :       #else if를 줄여서 elif로 표현\n",
        "    print('초등학생입니다.')\n",
        "elif age <17 :\n",
        "    print('중학생입니다.')\n",
        "elif age <20 :\n",
        "    print('고등학생입니다.')\n",
        "else :\n",
        "    print('성인입니다.')"
      ],
      "metadata": {
        "colab": {
          "base_uri": "https://localhost:8080/"
        },
        "id": "jxkSErq2ybYu",
        "outputId": "4cc5f80f-83e3-42eb-8546-84f05eaff3da"
      },
      "execution_count": 58,
      "outputs": [
        {
          "output_type": "stream",
          "name": "stdout",
          "text": [
            "나이를 입력하세요 : 14\n",
            "중학생입니다.\n"
          ]
        }
      ]
    },
    {
      "cell_type": "markdown",
      "source": [
        "## 5.조건부 표현식"
      ],
      "metadata": {
        "id": "d4VYD2Btz3Wb"
      }
    },
    {
      "cell_type": "code",
      "source": [
        "score = int(input('점수를 입력하세요 : '))\n",
        "if score>= 80 :\n",
        "    message = \"Success\"\n",
        "else :\n",
        "    message = \"Failure\"\n",
        "print(f\"당신의 점수 {score}점은 시험에 {message}하셨습니다.\")\n"
      ],
      "metadata": {
        "colab": {
          "base_uri": "https://localhost:8080/"
        },
        "id": "KXijHdwHz6Us",
        "outputId": "6c113327-3d7d-4d25-8f21-4a1362e0f720"
      },
      "execution_count": 61,
      "outputs": [
        {
          "output_type": "stream",
          "name": "stdout",
          "text": [
            "점수를 입력하세요 : 79\n",
            "당신의 점수 79점은 시험에 Failure하셨습니다.\n"
          ]
        }
      ]
    },
    {
      "cell_type": "code",
      "source": [
        " score = int(input('점수를 입력하세요 : '))\n",
        " message = \"Success\" if score>= 80  else  \"Failure\"  ##간략히 한줄로 표현가능 ':'생략\n",
        " print(f\"당신의 점수 {score}점은 시험에 {message}하셨습니다.\")"
      ],
      "metadata": {
        "colab": {
          "base_uri": "https://localhost:8080/"
        },
        "id": "iRTa6nei0nrW",
        "outputId": "49783a07-f689-4eed-d9c0-e91da9e0e0b0"
      },
      "execution_count": 65,
      "outputs": [
        {
          "output_type": "stream",
          "name": "stdout",
          "text": [
            "점수를 입력하세요 : 95\n",
            "당신의 점수 95점은 시험에 Success하셨습니다.\n"
          ]
        }
      ]
    },
    {
      "cell_type": "markdown",
      "source": [
        "####[실습문제]  일상생활의 상황을 조건문으로 표현하기"
      ],
      "metadata": {
        "id": "Rrf41KvG5FXJ"
      }
    },
    {
      "cell_type": "code",
      "source": [
        "# 기온 조건 상황                                 #직접 20-30사이,10-20사이 조건이 빈약함\n",
        "#- 온도가 30도 이상이면 에어컨을 켜고\n",
        "#- 온도가 20도 미만이면 되면 내복을 입고\n",
        "#- 온도가 10도 이하면 난방기를 켠다.\n",
        "\n",
        "temp= int(input('현재온도를 입력하세요 : '))\n",
        "if temp<=10 :\n",
        "    print(\"난방기를 켭시다\")\n",
        "elif temp<20 :\n",
        "    print(\"내복을 입어야죠\")\n",
        "elif temp>=30 :\n",
        "    print(\"에어컨을 켜세요\")\n",
        "else:\n",
        "    print(\"견딜만 합니다\")"
      ],
      "metadata": {
        "colab": {
          "base_uri": "https://localhost:8080/"
        },
        "id": "c_UIvRb310sT",
        "outputId": "649e55f9-2431-4879-9d7f-6d0558964e4a"
      },
      "execution_count": 77,
      "outputs": [
        {
          "output_type": "stream",
          "name": "stdout",
          "text": [
            "현재온도를 입력하세요 : 9\n",
            "난방기를 켭시다\n"
          ]
        }
      ]
    },
    {
      "cell_type": "code",
      "source": [
        "'''기온 조건 상황\n",
        "- 온도가 30도 이상이면 에어컨을 켜고\n",
        "- 온도가 20도 미만이면 되면 내복을 입고\n",
        "- 온도가 10도 이하면 난방기를 켠다.\n",
        "'''\n",
        "degree = int(input('온도를 입력해주세요 : '))\n",
        "if degree >=30:\n",
        "    print('에어컨을 켜세요~')\n",
        "elif degree <=10 :            #이게 먼저와야 한다...15도의 경우 여기서 걸러져야 함\n",
        "    print('난방기를 켜세요')\n",
        "elif degree <20 :\n",
        "    print('내복을 입으세요')\n",
        "else :\n",
        "    print('쾌적한 기온입니다')"
      ],
      "metadata": {
        "colab": {
          "base_uri": "https://localhost:8080/"
        },
        "id": "Hqmt9WvS5Sj8",
        "outputId": "582c5906-95ca-4932-a568-c99f9f6b0ee1"
      },
      "execution_count": 84,
      "outputs": [
        {
          "output_type": "stream",
          "name": "stdout",
          "text": [
            "온도를 입력해주세요 : 10\n",
            "난방기를 켜세요\n"
          ]
        }
      ]
    },
    {
      "cell_type": "code",
      "source": [
        "degree = int(input('온도를 입력해주세요 : '))\n",
        "if degree >=30:\n",
        "    print('에어컨을 켜세요~')\n",
        "else :\n",
        "    if 20 <= degree <30 :\n",
        "        print('쾌적한 기온입니다')\n",
        "    if degree <20 :\n",
        "        print('내복을 입으세요')\n",
        "    if degree <=10 :\n",
        "        print('난방기를 켜세요') #10도 이하의 경우에는 두가지를 모두 실행해야 하는 프로그램"
      ],
      "metadata": {
        "colab": {
          "base_uri": "https://localhost:8080/"
        },
        "id": "29SKIhJh5byC",
        "outputId": "e7023fe1-8038-46d4-adc8-9b88323b970a"
      },
      "execution_count": 92,
      "outputs": [
        {
          "output_type": "stream",
          "name": "stdout",
          "text": [
            "온도를 입력해주세요 : 10\n",
            "내복을 입으세요\n",
            "난방기를 켜세요\n"
          ]
        }
      ]
    },
    {
      "cell_type": "markdown",
      "source": [
        "### 커피 주문 머신 만들기"
      ],
      "metadata": {
        "id": "ApQrJhKg8uqh"
      }
    },
    {
      "cell_type": "code",
      "source": [
        " menu = '''[커피 자동주문 머신 메뉴]\n",
        " ------------------------------------\n",
        "-아메리카노: 2500원\n",
        "-카페라떼:   3000원\n",
        "-카페모카:   3000원\n",
        "-------------------------------------\n",
        "원하시는 커피 종류와 잔수를 입력하세요.'''\n",
        "print(menu)\n",
        "coffee1 = int(input('아메리카노 몇 잔 : '))\n",
        "coffee2 = int(input('카페라떼   몇 잔 : '))\n",
        "coffee3 = int(input('카페모카   몇 잔 : '))\n",
        "total= 2500*coffee1+ 3000*coffee2 + 3000*coffee3\n",
        "print(f\"지불하실 총 금액은 {total}원 입니다.\")\n",
        "money = int(input('돈을 넣어 주세요 : '))\n",
        "change = total-money #f잔돈\n",
        "if total > money :\n",
        "    print(f\"돈이 부족합니다.{change:,}원을 더 넣어주세요\")\n",
        "else :\n",
        "    print(f\"거스름돈은 {abs(change):,}원 입니다.커피 맛있게 드세요~\") #abs는 음수를 양수로 바꿔주는 함수\n"
      ],
      "metadata": {
        "colab": {
          "base_uri": "https://localhost:8080/"
        },
        "id": "wKzvqU_b85MB",
        "outputId": "edf6a3f0-e9fa-4189-d22d-8a2bcb8a4d42"
      },
      "execution_count": 2,
      "outputs": [
        {
          "output_type": "stream",
          "name": "stdout",
          "text": [
            "[커피 자동주문 머신 메뉴]\n",
            "------------------------------------\n",
            "-아메리카노: 2500원\n",
            "-카페라떼:   3000원\n",
            "-카페모카:   3000원\n",
            "-------------------------------------\n",
            "원하시는 커피 종류와 잔수를 입력하세요.\n",
            "아메리카노 몇 잔 : 1\n",
            "카페라떼   몇 잔 : 1\n",
            "카페모카   몇 잔 : 1\n",
            "지불하실 총 금액은 8500원 입니다.\n",
            "돈을 넣어 주세요 : 9000\n",
            "거스름돈은 500원 입니다.커피 맛있게 드세요~\n"
          ]
        }
      ]
    },
    {
      "cell_type": "code",
      "source": [
        "!pip show gTTS  ##바로 지워져서 다시 설치해야 함"
      ],
      "metadata": {
        "colab": {
          "base_uri": "https://localhost:8080/"
        },
        "id": "XzUvua-y97D4",
        "outputId": "d171c1df-a42e-4a20-8970-c13286b802c4"
      },
      "execution_count": 105,
      "outputs": [
        {
          "output_type": "stream",
          "name": "stdout",
          "text": [
            "\u001b[33mWARNING: Package(s) not found: gTTS\u001b[0m\u001b[33m\n",
            "\u001b[0m"
          ]
        }
      ]
    },
    {
      "cell_type": "code",
      "source": [
        "!pip install gTTS"
      ],
      "metadata": {
        "colab": {
          "base_uri": "https://localhost:8080/"
        },
        "id": "1qT1FEVSBAVI",
        "outputId": "cd04d2e1-ab8e-4a68-9671-c80d87863a0a"
      },
      "execution_count": 4,
      "outputs": [
        {
          "output_type": "stream",
          "name": "stdout",
          "text": [
            "Requirement already satisfied: gTTS in /usr/local/lib/python3.10/dist-packages (2.5.1)\n",
            "Requirement already satisfied: requests<3,>=2.27 in /usr/local/lib/python3.10/dist-packages (from gTTS) (2.31.0)\n",
            "Requirement already satisfied: click<8.2,>=7.1 in /usr/local/lib/python3.10/dist-packages (from gTTS) (8.1.7)\n",
            "Requirement already satisfied: charset-normalizer<4,>=2 in /usr/local/lib/python3.10/dist-packages (from requests<3,>=2.27->gTTS) (3.3.2)\n",
            "Requirement already satisfied: idna<4,>=2.5 in /usr/local/lib/python3.10/dist-packages (from requests<3,>=2.27->gTTS) (3.6)\n",
            "Requirement already satisfied: urllib3<3,>=1.21.1 in /usr/local/lib/python3.10/dist-packages (from requests<3,>=2.27->gTTS) (2.0.7)\n",
            "Requirement already satisfied: certifi>=2017.4.17 in /usr/local/lib/python3.10/dist-packages (from requests<3,>=2.27->gTTS) (2024.2.2)\n"
          ]
        }
      ]
    },
    {
      "cell_type": "code",
      "source": [
        "# gTTS사용하여 소리 나오게 하기\n",
        "from gtts import gTTS\n",
        "from IPython.display import Audio\n",
        "\n",
        "def speaker(stmt):\n",
        "    kor_wav = gTTS(stmt, lang = 'ko')\n",
        "    kor_wav.save('kor.wav')\n",
        "    display(Audio('kor.wav', autoplay=True))\n",
        "\n",
        "menu = '''[커피 주문 머신 메뉴]\n",
        "-----------------------------\n",
        "- 아메리카노: 2500원\n",
        "- 카페라테:   3000원\n",
        "- 카페모카:   3000원\n",
        "-----------------------------\n",
        "원하시는 커피종류와 잔수를 입력하세요.'''\n",
        "print(menu)\n",
        "speaker(menu)\n",
        "\n",
        "speaker('아메리카노 몇잔')\n",
        "coffee1 = int(input('아메리카노 몇잔: '))\n",
        "speaker('카페라테   몇잔')\n",
        "coffee2 = int(input('카페라테   몇잔: '))\n",
        "speaker('카페모카   몇잔')\n",
        "coffee3 = int(input('카페모카   몇잔: '))\n",
        "\n",
        "total = 2500*coffee1 + 3000*coffee2 + 3000*coffee3\n",
        "print(f\"지불하실 총 금액은 {total:,}원 입니다.\")\n",
        "speaker(f\"지불하실 총 금액은 {total:,}원 입니다.\")\n",
        "money = int(input('돈을 넣어 주세요: '))\n",
        "\n",
        "change = total-money   # 거스름돈\n",
        "if total > money:\n",
        "    print(f\"돈이 부족합니다. {change:,}원을 더 넣어주세요.\")\n",
        "else:\n",
        "    print(f\"거스름돈은 {abs(change):,}입니다. 커피 맛있게 드세요~\")"
      ],
      "metadata": {
        "colab": {
          "base_uri": "https://localhost:8080/",
          "height": 538
        },
        "id": "C7PtzUXpBOY-",
        "outputId": "406c168c-74c6-44e4-8ccc-fc3b8030bcd9"
      },
      "execution_count": 6,
      "outputs": [
        {
          "output_type": "stream",
          "name": "stdout",
          "text": [
            "[커피 주문 머신 메뉴]\n",
            "-----------------------------\n",
            "- 아메리카노: 2500원\n",
            "- 카페라테:   3000원\n",
            "- 카페모카:   3000원\n",
            "-----------------------------\n",
            "원하시는 커피종류와 잔수를 입력하세요.\n"
          ]
        },
        {
          "output_type": "display_data",
          "data": {
            "text/plain": [
              "<IPython.lib.display.Audio object>"
            ],
            "text/html": [
              "\n",
              "                <audio  controls=\"controls\" autoplay=\"autoplay\">\n",
              "                    <source src=\"data:audio/x-wav;base64,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\" type=\"audio/x-wav\" />\n",
              "                    Your browser does not support the audio element.\n",
              "                </audio>\n",
              "              "
            ]
          },
          "metadata": {}
        },
        {
          "output_type": "display_data",
          "data": {
            "text/plain": [
              "<IPython.lib.display.Audio object>"
            ],
            "text/html": [
              "\n",
              "                <audio  controls=\"controls\" autoplay=\"autoplay\">\n",
              "                    <source src=\"data:audio/x-wav;base64,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\" type=\"audio/x-wav\" />\n",
              "                    Your browser does not support the audio element.\n",
              "                </audio>\n",
              "              "
            ]
          },
          "metadata": {}
        },
        {
          "name": "stdout",
          "output_type": "stream",
          "text": [
            "아메리카노 몇잔: 1\n"
          ]
        },
        {
          "output_type": "display_data",
          "data": {
            "text/plain": [
              "<IPython.lib.display.Audio object>"
            ],
            "text/html": [
              "\n",
              "                <audio  controls=\"controls\" autoplay=\"autoplay\">\n",
              "                    <source src=\"data:audio/x-wav;base64,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\" type=\"audio/x-wav\" />\n",
              "                    Your browser does not support the audio element.\n",
              "                </audio>\n",
              "              "
            ]
          },
          "metadata": {}
        },
        {
          "name": "stdout",
          "output_type": "stream",
          "text": [
            "카페라테   몇잔: 1\n"
          ]
        },
        {
          "output_type": "display_data",
          "data": {
            "text/plain": [
              "<IPython.lib.display.Audio object>"
            ],
            "text/html": [
              "\n",
              "                <audio  controls=\"controls\" autoplay=\"autoplay\">\n",
              "                    <source src=\"data:audio/x-wav;base64,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\" type=\"audio/x-wav\" />\n",
              "                    Your browser does not support the audio element.\n",
              "                </audio>\n",
              "              "
            ]
          },
          "metadata": {}
        },
        {
          "output_type": "stream",
          "name": "stdout",
          "text": [
            "카페모카   몇잔: 1\n",
            "지불하실 총 금액은 8,500원 입니다.\n"
          ]
        },
        {
          "output_type": "display_data",
          "data": {
            "text/plain": [
              "<IPython.lib.display.Audio object>"
            ],
            "text/html": [
              "\n",
              "                <audio  controls=\"controls\" autoplay=\"autoplay\">\n",
              "                    <source src=\"data:audio/x-wav;base64,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\" type=\"audio/x-wav\" />\n",
              "                    Your browser does not support the audio element.\n",
              "                </audio>\n",
              "              "
            ]
          },
          "metadata": {}
        },
        {
          "output_type": "stream",
          "name": "stdout",
          "text": [
            "돈을 넣어 주세요: 5000\n",
            "돈이 부족합니다. 3,500원을 더 넣어주세요.\n"
          ]
        }
      ]
    },
    {
      "cell_type": "markdown",
      "source": [
        "##[추가] time모듈로 (~초 기다리기 표현)"
      ],
      "metadata": {
        "id": "p2w4OfGnGh51"
      }
    },
    {
      "cell_type": "code",
      "source": [
        "import time\n",
        "\n",
        "for i in range(1,11) : #1부터 10까지 1개씩 늘려\n",
        "    time.sleep(1) # 1초 기다리고 출력됨 ,이게 없으면 한꺼번에 나옴\n",
        "    print(i)\n",
        ""
      ],
      "metadata": {
        "colab": {
          "base_uri": "https://localhost:8080/"
        },
        "id": "NXgoCYpQGqJo",
        "outputId": "d8b613eb-0bbf-400b-dd54-623cba43b5aa"
      },
      "execution_count": 9,
      "outputs": [
        {
          "output_type": "stream",
          "name": "stdout",
          "text": [
            "1\n",
            "2\n",
            "3\n",
            "4\n",
            "5\n",
            "6\n",
            "7\n",
            "8\n",
            "9\n",
            "10\n"
          ]
        }
      ]
    }
  ]
}