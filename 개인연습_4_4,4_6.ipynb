{
  "nbformat": 4,
  "nbformat_minor": 0,
  "metadata": {
    "colab": {
      "provenance": [],
      "authorship_tag": "ABX9TyNJWKKz53rMsBzkgTaYnhU4",
      "include_colab_link": true
    },
    "kernelspec": {
      "name": "python3",
      "display_name": "Python 3"
    },
    "language_info": {
      "name": "python"
    }
  },
  "cells": [
    {
      "cell_type": "markdown",
      "metadata": {
        "id": "view-in-github",
        "colab_type": "text"
      },
      "source": [
        "<a href=\"https://colab.research.google.com/github/sujag281/dataanalysis/blob/main/%EA%B0%9C%EC%9D%B8%EC%97%B0%EC%8A%B5_4_4%2C4_6.ipynb\" target=\"_parent\"><img src=\"https://colab.research.google.com/assets/colab-badge.svg\" alt=\"Open In Colab\"/></a>"
      ]
    },
    {
      "cell_type": "code",
      "execution_count": null,
      "metadata": {
        "colab": {
          "base_uri": "https://localhost:8080/"
        },
        "id": "nuWijuY9Uv_J",
        "outputId": "396168ee-66da-44be-cfe1-bfb009822788"
      },
      "outputs": [
        {
          "output_type": "stream",
          "name": "stdout",
          "text": [
            "1\n",
            "2\n"
          ]
        }
      ],
      "source": [
        "for c in range(1,3,1) :\n",
        "    print(c)"
      ]
    },
    {
      "cell_type": "code",
      "source": [
        "for b in ['파','이','썬']:\n",
        "    print(b)"
      ],
      "metadata": {
        "colab": {
          "base_uri": "https://localhost:8080/"
        },
        "id": "-D7171A8U7iS",
        "outputId": "aea90f94-0d38-47f6-cd05-e454453ae84b"
      },
      "execution_count": null,
      "outputs": [
        {
          "output_type": "stream",
          "name": "stdout",
          "text": [
            "파\n",
            "이\n",
            "썬\n"
          ]
        }
      ]
    },
    {
      "cell_type": "code",
      "source": [
        "test_list = ['one','two', 'three']\n",
        "for i in test_list :\n",
        "    print(i)"
      ],
      "metadata": {
        "colab": {
          "base_uri": "https://localhost:8080/"
        },
        "id": "XiFaUXXHVJTB",
        "outputId": "e1ffb3ac-b063-40d7-986e-a5875b875da3"
      },
      "execution_count": null,
      "outputs": [
        {
          "output_type": "stream",
          "name": "stdout",
          "text": [
            "one\n",
            "two\n",
            "three\n"
          ]
        }
      ]
    },
    {
      "cell_type": "code",
      "source": [
        "a = [(1,2),(3,4),(5,6)]\n",
        "for (first,last) in a:\n",
        "    print(first + last)"
      ],
      "metadata": {
        "colab": {
          "base_uri": "https://localhost:8080/"
        },
        "id": "SZhzcPlaVWML",
        "outputId": "f05fe580-de35-4cee-c93b-c0b04cd7d99b"
      },
      "execution_count": null,
      "outputs": [
        {
          "output_type": "stream",
          "name": "stdout",
          "text": [
            "3\n",
            "7\n",
            "11\n"
          ]
        }
      ]
    },
    {
      "cell_type": "code",
      "source": [
        "for _ in range(0,3,1) :\n",
        "    print('for반복문 공부 중')"
      ],
      "metadata": {
        "colab": {
          "base_uri": "https://localhost:8080/"
        },
        "id": "llwXVkTNVoma",
        "outputId": "9ceabe86-7a6b-4050-9e66-6812ab245891"
      },
      "execution_count": null,
      "outputs": [
        {
          "output_type": "stream",
          "name": "stdout",
          "text": [
            "for반복문 공부 중\n",
            "for반복문 공부 중\n",
            "for반복문 공부 중\n"
          ]
        }
      ]
    },
    {
      "cell_type": "code",
      "source": [
        "n = int(input('합계를 구할 숫자 입력 :'))\n",
        "hap = 0\n",
        "for i in range(0,n+1,1) :\n",
        "    print(i)\n",
        "    if i%2 != 0 :\n",
        "        hap=hap+i\n",
        "\n",
        "\n",
        "\n",
        "print(f\"1~{n}까지 짝수를 제외한 합은 : {hap}\")"
      ],
      "metadata": {
        "colab": {
          "base_uri": "https://localhost:8080/"
        },
        "id": "s8g61ZEHV5lt",
        "outputId": "4932f1a1-a735-45bb-d6f1-88bf654ef95a"
      },
      "execution_count": null,
      "outputs": [
        {
          "output_type": "stream",
          "name": "stdout",
          "text": [
            "합계를 구할 숫자 입력 :10\n",
            "0\n",
            "1\n",
            "2\n",
            "3\n",
            "4\n",
            "5\n",
            "6\n",
            "7\n",
            "8\n",
            "9\n",
            "10\n",
            "1~10까지 짝수를 제외한 합은 : 25\n"
          ]
        }
      ]
    },
    {
      "cell_type": "code",
      "source": [
        "for 변수 in range(3) :\n",
        "    print(변수)"
      ],
      "metadata": {
        "colab": {
          "base_uri": "https://localhost:8080/"
        },
        "id": "VQh1d2AdXJ8q",
        "outputId": "c68998ba-4c45-4924-e8ed-5cdc7259e9be"
      },
      "execution_count": null,
      "outputs": [
        {
          "output_type": "stream",
          "name": "stdout",
          "text": [
            "0\n",
            "1\n",
            "2\n"
          ]
        }
      ]
    },
    {
      "cell_type": "code",
      "source": [
        "a = list(range(1,11))\n",
        "print(a)\n",
        "a = list(range(10,0,-1))\n",
        "print(a)\n",
        "a = list(range(1,11))\n",
        "for i in a :\n",
        "    print(i)"
      ],
      "metadata": {
        "colab": {
          "base_uri": "https://localhost:8080/"
        },
        "id": "6Qc7xYGGYxXj",
        "outputId": "b56588f2-6e0b-492f-a331-29f717ac1078"
      },
      "execution_count": null,
      "outputs": [
        {
          "output_type": "stream",
          "name": "stdout",
          "text": [
            "[1, 2, 3, 4, 5, 6, 7, 8, 9, 10]\n",
            "[10, 9, 8, 7, 6, 5, 4, 3, 2, 1]\n",
            "1\n",
            "2\n",
            "3\n",
            "4\n",
            "5\n",
            "6\n",
            "7\n",
            "8\n",
            "9\n",
            "10\n"
          ]
        }
      ]
    },
    {
      "cell_type": "code",
      "source": [
        "for i in a :\n",
        "    print(i, end =' ')"
      ],
      "metadata": {
        "colab": {
          "base_uri": "https://localhost:8080/"
        },
        "id": "LT2n1SCMY2ej",
        "outputId": "99fa8255-4d0f-409e-9ae8-7dda8833a78a"
      },
      "execution_count": null,
      "outputs": [
        {
          "output_type": "stream",
          "name": "stdout",
          "text": [
            "1 2 3 4 5 6 7 8 9 10 "
          ]
        }
      ]
    },
    {
      "cell_type": "code",
      "source": [
        "for i in a :\n",
        "    print(i,end = ',')"
      ],
      "metadata": {
        "colab": {
          "base_uri": "https://localhost:8080/"
        },
        "id": "v_tWKNHPZRpy",
        "outputId": "2df7b02e-3972-459b-9581-4183517eec02"
      },
      "execution_count": null,
      "outputs": [
        {
          "output_type": "stream",
          "name": "stdout",
          "text": [
            "1,2,3,4,5,6,7,8,9,10,"
          ]
        }
      ]
    },
    {
      "cell_type": "code",
      "source": [
        "for i in range(1,101) :\n",
        "    print(i,end = ',')"
      ],
      "metadata": {
        "colab": {
          "base_uri": "https://localhost:8080/"
        },
        "id": "BYU4gTzAZhus",
        "outputId": "7d55c98f-e0cb-45c8-e8c1-a26321f8ddf4"
      },
      "execution_count": null,
      "outputs": [
        {
          "output_type": "stream",
          "name": "stdout",
          "text": [
            "1,2,3,4,5,6,7,8,9,10,11,12,13,14,15,16,17,18,19,20,21,22,23,24,25,26,27,28,29,30,31,32,33,34,35,36,37,38,39,40,41,42,43,44,45,46,47,48,49,50,51,52,53,54,55,56,57,58,59,60,61,62,63,64,65,66,67,68,69,70,71,72,73,74,75,76,77,78,79,80,81,82,83,84,85,86,87,88,89,90,91,92,93,94,95,96,97,98,99,100,"
          ]
        }
      ]
    },
    {
      "cell_type": "code",
      "source": [
        "for i in 'python' :\n",
        "    print(i)"
      ],
      "metadata": {
        "colab": {
          "base_uri": "https://localhost:8080/"
        },
        "id": "HZtvzv24Zt4a",
        "outputId": "ec7f47c7-d08f-4ada-9f55-2ce5abe5136e"
      },
      "execution_count": null,
      "outputs": [
        {
          "output_type": "stream",
          "name": "stdout",
          "text": [
            "p\n",
            "y\n",
            "t\n",
            "h\n",
            "o\n",
            "n\n"
          ]
        }
      ]
    },
    {
      "cell_type": "code",
      "source": [
        "for _ in range(3) :\n",
        "    print('좋은아침!')"
      ],
      "metadata": {
        "colab": {
          "base_uri": "https://localhost:8080/"
        },
        "id": "x3FSo55AZ2cy",
        "outputId": "ce2aac3f-b004-4e98-e85c-9e7bd75d915f"
      },
      "execution_count": null,
      "outputs": [
        {
          "output_type": "stream",
          "name": "stdout",
          "text": [
            "좋은아침!\n",
            "좋은아침!\n",
            "좋은아침!\n"
          ]
        }
      ]
    },
    {
      "cell_type": "code",
      "source": [
        "fruits = ['사과','포도']"
      ],
      "metadata": {
        "id": "oudSbMheZ-Dp"
      },
      "execution_count": null,
      "outputs": []
    },
    {
      "cell_type": "code",
      "source": [
        "\"%10s\"%\"Python\""
      ],
      "metadata": {
        "colab": {
          "base_uri": "https://localhost:8080/",
          "height": 35
        },
        "id": "MyzOdnpY1xAg",
        "outputId": "f6046bd5-74e7-41c1-ae05-6aba06e99f83"
      },
      "execution_count": 1,
      "outputs": [
        {
          "output_type": "execute_result",
          "data": {
            "text/plain": [
              "'    Python'"
            ],
            "application/vnd.google.colaboratory.intrinsic+json": {
              "type": "string"
            }
          },
          "metadata": {},
          "execution_count": 1
        }
      ]
    },
    {
      "cell_type": "code",
      "source": [
        "\"%10s\"%\"파이썬\""
      ],
      "metadata": {
        "colab": {
          "base_uri": "https://localhost:8080/",
          "height": 35
        },
        "id": "Tp73AN9v17cG",
        "outputId": "029fc005-97b9-4a44-95b0-e558a233ff3a"
      },
      "execution_count": 2,
      "outputs": [
        {
          "output_type": "execute_result",
          "data": {
            "text/plain": [
              "'       파이썬'"
            ],
            "application/vnd.google.colaboratory.intrinsic+json": {
              "type": "string"
            }
          },
          "metadata": {},
          "execution_count": 2
        }
      ]
    },
    {
      "cell_type": "code",
      "source": [
        "\"%-10s파이썬\" % \"사랑해요\""
      ],
      "metadata": {
        "colab": {
          "base_uri": "https://localhost:8080/",
          "height": 35
        },
        "id": "2IltrygF2CGb",
        "outputId": "778218f3-b988-40c8-88cb-7a642842a1cd"
      },
      "execution_count": 5,
      "outputs": [
        {
          "output_type": "execute_result",
          "data": {
            "text/plain": [
              "'사랑해요      파이썬'"
            ],
            "application/vnd.google.colaboratory.intrinsic+json": {
              "type": "string"
            }
          },
          "metadata": {},
          "execution_count": 5
        }
      ]
    },
    {
      "cell_type": "code",
      "source": [
        "\"%0.4f\"%3.4213423"
      ],
      "metadata": {
        "colab": {
          "base_uri": "https://localhost:8080/",
          "height": 35
        },
        "id": "pcTHDNTq2Ke1",
        "outputId": "94c0f9c2-061d-4343-a908-f37efd25fd9c"
      },
      "execution_count": 7,
      "outputs": [
        {
          "output_type": "execute_result",
          "data": {
            "text/plain": [
              "'3.4213'"
            ],
            "application/vnd.google.colaboratory.intrinsic+json": {
              "type": "string"
            }
          },
          "metadata": {},
          "execution_count": 7
        }
      ]
    },
    {
      "cell_type": "code",
      "source": [
        "a=\"life is too short\"\n",
        "a.split()"
      ],
      "metadata": {
        "colab": {
          "base_uri": "https://localhost:8080/"
        },
        "id": "Lbg80wUD2jM9",
        "outputId": "70415dc9-8a8a-4c21-e511-bbd03a065fdb"
      },
      "execution_count": 8,
      "outputs": [
        {
          "output_type": "execute_result",
          "data": {
            "text/plain": [
              "['life', 'is', 'too', 'short']"
            ]
          },
          "metadata": {},
          "execution_count": 8
        }
      ]
    },
    {
      "cell_type": "code",
      "source": [
        "s=input('문자열을 입력:')\n",
        "print(s[::-1])"
      ],
      "metadata": {
        "colab": {
          "base_uri": "https://localhost:8080/"
        },
        "id": "Gyvscqtp3GpI",
        "outputId": "59101f76-957e-4487-c2cf-50a50cd63bb8"
      },
      "execution_count": 13,
      "outputs": [
        {
          "output_type": "stream",
          "name": "stdout",
          "text": [
            "문자열을 입력:파이썬!\n",
            "!썬이파\n"
          ]
        }
      ]
    },
    {
      "cell_type": "code",
      "source": [
        "f = input('파일을 입력하세요:')\n",
        "a=f.split('.')                    ##어떤걸 나눠야 하는지를 꼭 적어줘야 알지!\n",
        "print(a)\n",
        "print(f\"파일명:{a[0]}, 확장자 :{a[1]}\")"
      ],
      "metadata": {
        "colab": {
          "base_uri": "https://localhost:8080/"
        },
        "id": "0IxZF24c3XiR",
        "outputId": "8e785151-61f8-4a32-cfe3-3cd41773ee1c"
      },
      "execution_count": 3,
      "outputs": [
        {
          "output_type": "stream",
          "name": "stdout",
          "text": [
            "파일을 입력하세요:test.py\n",
            "['test', 'py']\n",
            "파일명:test, 확장자 :py\n"
          ]
        }
      ]
    },
    {
      "cell_type": "code",
      "source": [
        "# 음식가격:  4,450 원\n",
        "# 세금: 6.75%\n",
        "# 팁: 15%\n",
        "meal = int(input('음식가격을 입력하세요'))\n",
        "tax = float(0.0675)\n",
        "tip = float(0.15)\n",
        "meal = meal+meal*tax\n",
        "total= meal+(meal*tip)\n",
        "print(f\"내가 지불할 총 금액 :{round(total,2)}\")"
      ],
      "metadata": {
        "colab": {
          "base_uri": "https://localhost:8080/"
        },
        "id": "Ezg0_p774OYS",
        "outputId": "4feb0b64-a877-4e0d-d63f-f9997f6a1282"
      },
      "execution_count": 9,
      "outputs": [
        {
          "output_type": "stream",
          "name": "stdout",
          "text": [
            "음식가격을 입력하세요4450\n",
            "내가 지불할 총 금액 :5462.93\n"
          ]
        }
      ]
    },
    {
      "cell_type": "code",
      "source": [
        "# 실습문제\n",
        "# 1000만원을 년 이자율 7%로  저금했을 경우 2000만원이 되는 데 몇 년이\n",
        "# 걸리는지 계산하는 프로그램을 만들어 보세요\n",
        "money = int(input('저축할 금액을 입력하세요  : '))\n",
        "interest = 0.07\n",
        "year=0\n",
        "money =int( money + (money * interest))\n",
        "year =year+1\n",
        "print(f\"{round(money):,}원 모으는 데 걸리는 시간은 {year}년 입니다.\")\n",
        "\n",
        "\n",
        "#print (round(money,1) : ,)\n",
        "# print(total)\n",
        "# while total=money*2\n"
      ],
      "metadata": {
        "colab": {
          "base_uri": "https://localhost:8080/"
        },
        "id": "WAMKYq_87mKR",
        "outputId": "debae860-2847-4a33-c472-9553754872a9"
      },
      "execution_count": 41,
      "outputs": [
        {
          "output_type": "stream",
          "name": "stdout",
          "text": [
            "저축할 금액을 입력하세요  : 10000000\n",
            "10,700,000원 모으는 데 걸리는 시간은 1년 입니다.\n"
          ]
        }
      ]
    },
    {
      "cell_type": "code",
      "source": [],
      "metadata": {
        "id": "SSVEk0Hf9x6b"
      },
      "execution_count": null,
      "outputs": []
    }
  ]
}