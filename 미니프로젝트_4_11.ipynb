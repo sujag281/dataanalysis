{
  "nbformat": 4,
  "nbformat_minor": 0,
  "metadata": {
    "colab": {
      "provenance": [],
      "authorship_tag": "ABX9TyOCksb3xrxBWILdTWZZIEaj",
      "include_colab_link": true
    },
    "kernelspec": {
      "name": "python3",
      "display_name": "Python 3"
    },
    "language_info": {
      "name": "python"
    }
  },
  "cells": [
    {
      "cell_type": "markdown",
      "metadata": {
        "id": "view-in-github",
        "colab_type": "text"
      },
      "source": [
        "<a href=\"https://colab.research.google.com/github/sujag281/dataanalysis/blob/main/%EB%AF%B8%EB%8B%88%ED%94%84%EB%A1%9C%EC%A0%9D%ED%8A%B8_4_11.ipynb\" target=\"_parent\"><img src=\"https://colab.research.google.com/assets/colab-badge.svg\" alt=\"Open In Colab\"/></a>"
      ]
    },
    {
      "cell_type": "code",
      "execution_count": 27,
      "metadata": {
        "colab": {
          "base_uri": "https://localhost:8080/"
        },
        "id": "-kj7Em2r5B29",
        "outputId": "f6f31cdb-2262-46fb-9520-e6fc33b155e6"
      },
      "outputs": [
        {
          "name": "stdout",
          "output_type": "stream",
          "text": [
            "\n",
            "---선택메뉴---\n",
            "1.단어 등록\n",
            "2.단어 검색\n",
            "3.단어 삭제\n",
            "4.모든 단어 보기\n",
            "0.종료하기\n",
            "\n",
            "--------------\n",
            " \n",
            "---선택메뉴---\n",
            "1.단어 등록\n",
            "2.단어 검색\n",
            "3.단어 삭제\n",
            "4.모든 단어 보기\n",
            "0.종료하기\n",
            "\n",
            "--->선택 : 1\n",
            "새 단어 : aaa\n",
            "뜻 : nnn\n",
            "{'melon': '멜론', 'aaa': 'nnn'}\n",
            "--------------\n",
            " \n",
            "---선택메뉴---\n",
            "1.단어 등록\n",
            "2.단어 검색\n",
            "3.단어 삭제\n",
            "4.모든 단어 보기\n",
            "0.종료하기\n",
            "\n",
            "--->선택 : 4\n",
            "melon,멜론\n",
            "aaa,nnn\n",
            "--------------\n",
            " \n",
            "---선택메뉴---\n",
            "1.단어 등록\n",
            "2.단어 검색\n",
            "3.단어 삭제\n",
            "4.모든 단어 보기\n",
            "0.종료하기\n",
            "\n",
            "--->선택 : 0\n"
          ]
        }
      ],
      "source": [
        "menu=  '''\n",
        "---선택메뉴---\n",
        "1.단어 등록\n",
        "2.단어 검색\n",
        "3.단어 삭제\n",
        "4.모든 단어 보기\n",
        "0.종료하기\n",
        "'''\n",
        "print(menu)\n",
        "while True:\n",
        "    print(f'--------------\\n {menu}')\n",
        "    select = input('--->선택 : ')\n",
        "    if select == '0' :\n",
        "        break\n",
        "    if select == '1' : #단어등록\n",
        "        name = input(f'새 단어 : ')\n",
        "        mean = input(f'뜻 : ')\n",
        "\n",
        "        my_dict = {'melon':'멜론',};\n",
        "        my_dict[(name)] =mean\n",
        "        # my_dict[\"name\"].append(name)\n",
        "        # my_dict[\"mean\"].append(mean)\n",
        "        print(my_dict)\n",
        "    if select == '2' : #단어 검색\n",
        "        search=input('검색할 단어 : ')\n",
        "            if search ==\n",
        "    if select == '3' : #단어 삭제\n",
        "        pass\n",
        "    if select == '4' : #모든단어확인\n",
        "        for key in my_dict :\n",
        "            print(f'{key}:{my_dict[key]}')\n",
        "\n",
        "        # if hotel[num-1]:\n",
        "        #     print(f\"{num}번 방은  이미 입실 중입니다.\")\n",
        "        #     continue\n",
        "        # else:\n",
        "        #     hotel[num-1] = 1\n",
        "\n",
        "#단어등록\n",
        "\n",
        "\n",
        "\n",
        "\n",
        "#단어검색\n",
        "\n",
        "#단어삭제\n",
        "\n",
        "#단어보기\n",
        "\n",
        "#종료\n"
      ]
    },
    {
      "cell_type": "code",
      "source": [],
      "metadata": {
        "id": "v0SFLRYaL08E"
      },
      "execution_count": null,
      "outputs": []
    }
  ]
}