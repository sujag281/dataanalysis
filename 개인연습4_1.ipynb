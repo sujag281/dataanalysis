{
  "nbformat": 4,
  "nbformat_minor": 0,
  "metadata": {
    "colab": {
      "provenance": [],
      "toc_visible": true,
      "authorship_tag": "ABX9TyPatIMW5z+Qkyc7fFA0yZg1",
      "include_colab_link": true
    },
    "kernelspec": {
      "name": "python3",
      "display_name": "Python 3"
    },
    "language_info": {
      "name": "python"
    }
  },
  "cells": [
    {
      "cell_type": "markdown",
      "metadata": {
        "id": "view-in-github",
        "colab_type": "text"
      },
      "source": [
        "<a href=\"https://colab.research.google.com/github/sujag281/dataanalysis/blob/main/%EA%B0%9C%EC%9D%B8%EC%97%B0%EC%8A%B54_1.ipynb\" target=\"_parent\"><img src=\"https://colab.research.google.com/assets/colab-badge.svg\" alt=\"Open In Colab\"/></a>"
      ]
    },
    {
      "cell_type": "code",
      "execution_count": null,
      "metadata": {
        "id": "rputcih80Eao"
      },
      "outputs": [],
      "source": []
    },
    {
      "cell_type": "markdown",
      "source": [
        "#기본문법\n",
        "###숫자 int(a) 정수 : 자연수,음수,0\n",
        "###숫자 float(a) 실수 :소수점이 있는 숫자\n",
        "###문자 str(a)"
      ],
      "metadata": {
        "id": "j9o9zi2705TZ"
      }
    },
    {
      "cell_type": "code",
      "source": [
        "a=input('키보드로 숫자 입력:')\n",
        "print(type(a))\n",
        "a=int(a)\n",
        "print(type(a))\n",
        "\n",
        "print('변수 a에 기억된 값은 ', a, '입니다.')\n",
        "print('변수 a에 기억된 값은 %s 입니다.'% a)\n",
        "print(f'변수 a에 기억된 값은 {a} 입니다.')"
      ],
      "metadata": {
        "colab": {
          "base_uri": "https://localhost:8080/"
        },
        "id": "lDsFDdv41xC7",
        "outputId": "75584ed5-683c-4eb2-a47a-7c0736bc0bb0"
      },
      "execution_count": null,
      "outputs": [
        {
          "output_type": "stream",
          "name": "stdout",
          "text": [
            "키보드로 숫자 입력:3\n",
            "<class 'str'>\n",
            "<class 'int'>\n",
            "변수 a에 기억된 값은  3 입니다.\n",
            "변수 a에 기억된 값은 3 입니다.\n",
            "변수 a에 기억된 값은 3 입니다.\n"
          ]
        }
      ]
    },
    {
      "cell_type": "code",
      "source": [
        "num1=int(input('첫번째 숫자:'))\n",
        "num2=int(input('두번째 숫자:'))\n",
        "print('-'*30)\n",
        "print(f'덧셈:{num1}+{num2} = {num1+num2}')\n",
        "print(f'뺄셈:{num1}-{num2} = {num1-num2}')\n",
        "print(f'곱셈:{num1}*{num2} = {num1*num2}')\n",
        "print(f'몫:{num1}//{num2} = {num1//num2}')\n",
        "print(f'나머지:{num1}%{num2} = {num1%num2}')"
      ],
      "metadata": {
        "colab": {
          "base_uri": "https://localhost:8080/"
        },
        "id": "izLKF-Ws3FuY",
        "outputId": "10b369f1-25f7-49f5-9c2e-2885383f8a6c"
      },
      "execution_count": null,
      "outputs": [
        {
          "output_type": "stream",
          "name": "stdout",
          "text": [
            "첫번째 숫자:50\n",
            "두번째 숫자:5\n",
            "------------------------------\n",
            "덧셈:50+5 = 55\n",
            "뺄셈:50-5 = 45\n",
            "곱셈:50*5 = 250\n",
            "몫:50//5 = 10\n",
            "나머지:50%5 = 0\n"
          ]
        }
      ]
    },
    {
      "cell_type": "code",
      "source": [
        "print(\"%d\"%123) #정수를 이렇게 바꿔라\n",
        "print(\"%5d\"%123) #정수를 5번째앞자리(4번째)부터 채워라\n",
        "print(\"%05d\"%123)  #정수를 5번째앞자리부터 채우고 나머지는 0으로 채워라\n",
        "\n",
        "print(\"%f\"%123.45) # 실수를 이렇게 바꿔라 (뒤에 0은 일정숫자만큼 붙고 자동으로 끊김)\n",
        "print(\"%7.1f\"%123.45) # 실수를 7번째앞자리(6번째)부터 채우고 소수점 한자리까지만 채워라\n",
        "print(\"%7.3f\"%123.45) # 실수를 7번째앞자리부터 채우고 소수점 세자리까지만 채워라\n",
        "\n",
        "print(\"%s\" %\"Python\") #문자를 이렇게 바꿔라\n",
        "print(\"%10s\" %\"Python\") #문자를 이렇게 바꾸고 10번째앞자리(9번째)부터 채워라\n",
        "\n",
        "\n"
      ],
      "metadata": {
        "colab": {
          "base_uri": "https://localhost:8080/"
        },
        "id": "Bgo-0V_WAO6y",
        "outputId": "3a27cbfd-4e67-4929-ed84-0bf25533b10b"
      },
      "execution_count": null,
      "outputs": [
        {
          "output_type": "stream",
          "name": "stdout",
          "text": [
            "123\n",
            "  123\n",
            "00123\n",
            "123.450000\n",
            "  123.5\n",
            "123.450\n",
            "Python\n",
            "    Python\n"
          ]
        }
      ]
    },
    {
      "cell_type": "markdown",
      "source": [
        "##### ? print(\"{2:d} {1:d} {0:d}\".format(100,200,300))에서 d의 의미?"
      ],
      "metadata": {
        "id": "mtk5ljAH_nwq"
      }
    },
    {
      "cell_type": "code",
      "source": [
        "print('%d %5d %05d' %(123,123,123)) #큰 따옴표,작은따옴표 상관없음\n",
        "print(\"{0:d} {1:5d} {2:05d}\".format(123,123,123))\n",
        "print(\"{2:d} {1:d} {0:d}\".format(100,200,300))"
      ],
      "metadata": {
        "colab": {
          "base_uri": "https://localhost:8080/"
        },
        "id": "98isr9MV4sDa",
        "outputId": "56a79693-b80d-4fe5-a42a-673c6fde2723"
      },
      "execution_count": null,
      "outputs": [
        {
          "output_type": "stream",
          "name": "stdout",
          "text": [
            "123   123 00123\n",
            "123   123 00123\n",
            "300 200 100\n"
          ]
        }
      ]
    },
    {
      "cell_type": "code",
      "source": [
        "print(f\"{123}, {123:>5} , {123:0>5}\")"
      ],
      "metadata": {
        "colab": {
          "base_uri": "https://localhost:8080/"
        },
        "id": "6Vc5hSpQ-0Mc",
        "outputId": "bc0cbbad-7afa-43d5-a93f-5e810005be00"
      },
      "execution_count": null,
      "outputs": [
        {
          "output_type": "stream",
          "name": "stdout",
          "text": [
            "123,   123 , 00123\n"
          ]
        }
      ]
    },
    {
      "cell_type": "markdown",
      "source": [
        "#####? 역슬래시 표시는?"
      ],
      "metadata": {
        "id": "DkosXsFUEIzw"
      }
    },
    {
      "cell_type": "code",
      "source": [
        "print(\"\\n줄바꿈\\n연습\")\n",
        "print(\"\\n탭키\\t연습\")\n",
        "print(\"글자가\\\"강조\\\"되는 효과1\")\n",
        "print(\"글자가\\'강조\\'되는 효과1\")\n",
        "print(\"\\\\\\\\\\\\역슬래시 세 개 출력\")\n",
        "print(r\"\\n\\t\\\"\\\\를 그대로 출력\")"
      ],
      "metadata": {
        "colab": {
          "base_uri": "https://localhost:8080/"
        },
        "id": "Cn9NsSyECswh",
        "outputId": "12b2da05-de2a-4711-dc8f-3f429ae1d8f8"
      },
      "execution_count": null,
      "outputs": [
        {
          "output_type": "stream",
          "name": "stdout",
          "text": [
            "\n",
            "줄바꿈\n",
            "연습\n",
            "\n",
            "탭키\t연습\n",
            "글자가\"강조\"되는 효과1\n",
            "글자가'강조'되는 효과1\n",
            "\\\\\\역슬래시 세 개 출력\n",
            "\\n\\t\\\"\\\\를 그대로 출력\n"
          ]
        }
      ]
    },
    {
      "cell_type": "code",
      "source": [],
      "metadata": {
        "id": "JUGI6z9DDrkE"
      },
      "execution_count": null,
      "outputs": []
    }
  ]
}