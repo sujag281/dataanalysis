{
  "nbformat": 4,
  "nbformat_minor": 0,
  "metadata": {
    "colab": {
      "provenance": [],
      "toc_visible": true,
      "authorship_tag": "ABX9TyNbR225++Vagx3DH4elrqAp",
      "include_colab_link": true
    },
    "kernelspec": {
      "name": "python3",
      "display_name": "Python 3"
    },
    "language_info": {
      "name": "python"
    }
  },
  "cells": [
    {
      "cell_type": "markdown",
      "metadata": {
        "id": "view-in-github",
        "colab_type": "text"
      },
      "source": [
        "<a href=\"https://colab.research.google.com/github/sujag281/dataanalysis/blob/main/5%EC%9D%BC%EC%B0%A8_%ED%8C%8C%EC%9D%B4%EC%8D%AC%EA%B8%B0%EC%B4%88(%EB%B0%98%EB%B3%B5%EB%AC%B8).ipynb\" target=\"_parent\"><img src=\"https://colab.research.google.com/assets/colab-badge.svg\" alt=\"Open In Colab\"/></a>"
      ]
    },
    {
      "cell_type": "markdown",
      "source": [
        "4/4 (02.교안-파이썬기초-파이썬기초프로그래밍 p118)\n",
        "#5.파이썬 반복문"
      ],
      "metadata": {
        "id": "vhB5EC1ZlQWY"
      }
    },
    {
      "cell_type": "markdown",
      "source": [
        "##5-1.for 반복문\n",
        "유한개수의 반복"
      ],
      "metadata": {
        "id": "_bF66zSPoJSn"
      }
    },
    {
      "cell_type": "markdown",
      "source": [
        "###1.다양한 반복문"
      ],
      "metadata": {
        "id": "eaZHM2I2nVuA"
      }
    },
    {
      "cell_type": "code",
      "execution_count": 4,
      "metadata": {
        "colab": {
          "base_uri": "https://localhost:8080/"
        },
        "id": "wigZGVSqlL5k",
        "outputId": "8dcdb8cf-48a9-46f3-a2f6-6d38d5e0634c"
      },
      "outputs": [
        {
          "output_type": "stream",
          "name": "stdout",
          "text": [
            "0\n",
            "1\n",
            "2\n",
            "0\n",
            "1\n",
            "2\n"
          ]
        }
      ],
      "source": [
        "#1.range()함수 이용 : 정수를 차례로 발생시키는 함수\n",
        "#for 변수 in range(0,3,1) :\n",
        "for 변수 in range(0,3,1) :\n",
        "    print(변수)\n",
        "for 변수 in range(3):  #간략히 이렇게도 가능함\n",
        "    print(변수)"
      ]
    },
    {
      "cell_type": "code",
      "source": [
        "#2.리스트 이용\n",
        "a=list(range(1,11))\n",
        "print(a)\n",
        "a=list(range(10,0,-1))\n",
        "print(a)\n",
        "a=list(range(1,11))\n",
        "for i in a :\n",
        "    print(i)"
      ],
      "metadata": {
        "colab": {
          "base_uri": "https://localhost:8080/"
        },
        "id": "kZ5n4m0GoUef",
        "outputId": "0401bec0-3ca8-4bcd-fb61-11ba7a356014"
      },
      "execution_count": 20,
      "outputs": [
        {
          "output_type": "stream",
          "name": "stdout",
          "text": [
            "[1, 2, 3, 4, 5, 6, 7, 8, 9, 10]\n",
            "[10, 9, 8, 7, 6, 5, 4, 3, 2, 1]\n",
            "1\n",
            "2\n",
            "3\n",
            "4\n",
            "5\n",
            "6\n",
            "7\n",
            "8\n",
            "9\n",
            "10\n"
          ]
        }
      ]
    },
    {
      "cell_type": "code",
      "source": [
        "for i in a :\n",
        "    print(i, end=' ')  #공백 넣어 나란히 정렬"
      ],
      "metadata": {
        "colab": {
          "base_uri": "https://localhost:8080/"
        },
        "id": "LT9hu3zVoaJ_",
        "outputId": "f3ee67e9-2d07-4988-ab23-eee259a57465"
      },
      "execution_count": 15,
      "outputs": [
        {
          "output_type": "stream",
          "name": "stdout",
          "text": [
            "1 2 3 4 5 6 7 8 9 10 "
          ]
        }
      ]
    },
    {
      "cell_type": "code",
      "source": [
        "for i in a :\n",
        "    print(i, end=',') #쉼표 넣어 나란히 정렬"
      ],
      "metadata": {
        "colab": {
          "base_uri": "https://localhost:8080/"
        },
        "id": "YGvwktj4pMre",
        "outputId": "53adaf0f-9ebe-484e-a0ca-c83fdf581cac"
      },
      "execution_count": 16,
      "outputs": [
        {
          "output_type": "stream",
          "name": "stdout",
          "text": [
            "1,2,3,4,5,6,7,8,9,10,"
          ]
        }
      ]
    },
    {
      "cell_type": "code",
      "source": [
        "#한줄로 표현하는 방법\n",
        "for i in range(1,101) :\n",
        "    print(i,end=',')   #숙제"
      ],
      "metadata": {
        "colab": {
          "base_uri": "https://localhost:8080/"
        },
        "id": "NV6SegcgpUnu",
        "outputId": "b31e8772-0d9b-4a42-c3a8-d35d14f96897"
      },
      "execution_count": 21,
      "outputs": [
        {
          "output_type": "stream",
          "name": "stdout",
          "text": [
            "1,2,3,4,5,6,7,8,9,10,11,12,13,14,15,16,17,18,19,20,21,22,23,24,25,26,27,28,29,30,31,32,33,34,35,36,37,38,39,40,41,42,43,44,45,46,47,48,49,50,51,52,53,54,55,56,57,58,59,60,61,62,63,64,65,66,67,68,69,70,71,72,73,74,75,76,77,78,79,80,81,82,83,84,85,86,87,88,89,90,91,92,93,94,95,96,97,98,99,100,"
          ]
        }
      ]
    },
    {
      "cell_type": "code",
      "source": [
        "#3.문자열 이용\n",
        "for i in 'python' :\n",
        "    print(i)"
      ],
      "metadata": {
        "colab": {
          "base_uri": "https://localhost:8080/"
        },
        "id": "A3mWdmNgqMD2",
        "outputId": "eb751ecf-019e-457f-f137-5608093649ae"
      },
      "execution_count": 22,
      "outputs": [
        {
          "output_type": "stream",
          "name": "stdout",
          "text": [
            "p\n",
            "y\n",
            "t\n",
            "h\n",
            "o\n",
            "n\n"
          ]
        }
      ]
    },
    {
      "cell_type": "code",
      "source": [
        "#4.변수 사용안하고 반복만 할 때\n",
        "for _ in range(3) :\n",
        "    print('좋은아침!')"
      ],
      "metadata": {
        "colab": {
          "base_uri": "https://localhost:8080/"
        },
        "id": "imjE45S9qVPt",
        "outputId": "500f86ab-4a15-4022-da38-d04d72bfdaf8"
      },
      "execution_count": 24,
      "outputs": [
        {
          "output_type": "stream",
          "name": "stdout",
          "text": [
            "좋은아침!\n",
            "좋은아침!\n",
            "좋은아침!\n"
          ]
        }
      ]
    },
    {
      "cell_type": "code",
      "source": [
        "#5.리스트와 같은 순서가 있는 자료형의 인덱스를 함께 사용\n",
        "fruits= ['사과','포도','딸기','키위']\n",
        "for idx, fruit in enumerate(fruits) : #인덱스와 함께 표시됨\n",
        "    print(idx,fruit)\n",
        "\n",
        "idx=0                              #길게 풀어쓰면 이렇게 됨 간략히 한것이 위와 같은 방식\n",
        "for fruit in fruits :\n",
        "\n",
        "idx=idx+1"
      ],
      "metadata": {
        "colab": {
          "base_uri": "https://localhost:8080/"
        },
        "id": "lqZM7FiQqnKG",
        "outputId": "8d2f2859-5085-422d-fc8f-809e966f969a"
      },
      "execution_count": 27,
      "outputs": [
        {
          "output_type": "stream",
          "name": "stdout",
          "text": [
            "0 사과\n",
            "1 포도\n",
            "2 딸기\n",
            "3 키위\n"
          ]
        }
      ]
    },
    {
      "cell_type": "code",
      "source": [
        "#6.컬렉션 자료형 특징 이용\n",
        "for a,b in [(1,2),(3,4),(5,6)] :\n",
        "    print(a,b)\n",
        "print('-'*30)\n",
        "\n",
        "dic = {1:'사과',2:'포도'}\n",
        "for key in dic :\n",
        "    print(key, dic[key])  #key,value모두 출력하려면 이렇게\n",
        "print('-'*30)\n",
        "\n",
        "for key,value in dic.items() : #혹은 이렇게\n",
        "    print(key, value)\n",
        "print('-'*30)\n",
        "\n",
        "# 집합\n",
        "for v in {1,2,3,3,4,5,3}: #집합은 중복된거 배제하고 나옴\n",
        "    print(v)"
      ],
      "metadata": {
        "colab": {
          "base_uri": "https://localhost:8080/"
        },
        "id": "OO7LOc3jrfNm",
        "outputId": "695a9387-cd95-499e-e8bf-0207e0f05800"
      },
      "execution_count": 35,
      "outputs": [
        {
          "output_type": "stream",
          "name": "stdout",
          "text": [
            "1 2\n",
            "3 4\n",
            "5 6\n",
            "------------------------------\n",
            "1 사과\n",
            "2 포도\n",
            "------------------------------\n",
            "1 사과\n",
            "2 포도\n",
            "------------------------------\n",
            "1\n",
            "2\n",
            "3\n",
            "4\n",
            "5\n"
          ]
        }
      ]
    },
    {
      "cell_type": "code",
      "source": [
        "#1~N까지 합계구하기\n",
        "n=int(input('합계를 구할 숫자를 입력하세요 : '))\n",
        "hap = 0                                       #합이 0지정\n",
        "for i in range(1,n+1) :\n",
        "    if i%2 !=0:                               #나머지가 0이 아니라면\n",
        "        hap = hap + i                         #합에 넣어라\n",
        "print(f\"1~{n}까지 짝수 제외한 합은 : {hap}\")\n",
        "\n"
      ],
      "metadata": {
        "colab": {
          "base_uri": "https://localhost:8080/"
        },
        "id": "wCFo0XvKstkd",
        "outputId": "0fe6997b-13c3-4fab-e384-04a42355df16"
      },
      "execution_count": 51,
      "outputs": [
        {
          "output_type": "stream",
          "name": "stdout",
          "text": [
            "합계를 구할 숫자를 입력하세요 : 10\n",
            "1~10까지 짝수 제외한 합은 : 25\n"
          ]
        }
      ]
    },
    {
      "cell_type": "code",
      "source": [
        "n=int(input('합계를 구할 숫자를 입력하세요 : '))\n",
        "hap = 0\n",
        "for i in range(1,n+1,2) :\n",
        "        hap = hap + i\n",
        "print(f\"1~{n}까지 짝수 제외한 합은 : {hap}\")"
      ],
      "metadata": {
        "colab": {
          "base_uri": "https://localhost:8080/"
        },
        "id": "SG8SvdChvDTL",
        "outputId": "5fc97d61-e775-47c2-cc1c-93384034073f"
      },
      "execution_count": 50,
      "outputs": [
        {
          "output_type": "stream",
          "name": "stdout",
          "text": [
            "합계를 구할 숫자를 입력하세요 : 10\n",
            "1~10까지 짝수 제외한 합은 : 25\n"
          ]
        }
      ]
    },
    {
      "cell_type": "code",
      "source": [
        "n=int(input('합계를 구할 숫자를 입력하세요 : '))\n",
        "hap = [i for i in range(1,n+1,2)]  #2씩 더한 수를 리스트에 입력\n",
        "print(hap)\n",
        "\n",
        "#print(f\"1~{n}까지 짝수 제외한 합은 : {hap}\")"
      ],
      "metadata": {
        "colab": {
          "base_uri": "https://localhost:8080/"
        },
        "id": "AwnUi2qvwRzL",
        "outputId": "b7c555f2-34b3-4d80-f292-a1eefdf20dae"
      },
      "execution_count": 49,
      "outputs": [
        {
          "output_type": "stream",
          "name": "stdout",
          "text": [
            "합계를 구할 숫자를 입력하세요 : 10\n",
            "[1, 3, 5, 7, 9]\n"
          ]
        }
      ]
    },
    {
      "cell_type": "code",
      "source": [
        "n=int(input('합계를 구할 숫자를 입력하세요 : '))\n",
        "hap = sum([i for i in range(1,n+1,2)])\n",
        "print(f\"1~{n}까지 짝수 제외한 합은 : {hap}\")"
      ],
      "metadata": {
        "colab": {
          "base_uri": "https://localhost:8080/"
        },
        "id": "2H_osNsqwxj8",
        "outputId": "f38fd8f9-3139-4156-d55b-c0af5361e582"
      },
      "execution_count": 48,
      "outputs": [
        {
          "output_type": "stream",
          "name": "stdout",
          "text": [
            "합계를 구할 숫자를 입력하세요 : 10\n",
            "1~10까지 짝수 제외한 합은 : 25\n"
          ]
        }
      ]
    },
    {
      "cell_type": "markdown",
      "source": [
        "###[실습문제] 정오각형 그리기\n",
        "-turtle모듈은 코랩에서는 사용할 수 없음\n",
        "-pc에서 사용하기\n"
      ],
      "metadata": {
        "id": "G_SXkLox2BRm"
      }
    },
    {
      "cell_type": "code",
      "source": [
        "import turtle\n",
        "\n",
        "t=turtle.Pen()\n",
        "t.forward(100)\n",
        "t.right(72)\n",
        "\n",
        "turtle.exitonclick()"
      ],
      "metadata": {
        "colab": {
          "base_uri": "https://localhost:8080/",
          "height": 406
        },
        "id": "EEtptqLM1rpL",
        "outputId": "45714f14-3521-4b94-b4f5-bc5f7e63068f"
      },
      "execution_count": 53,
      "outputs": [
        {
          "output_type": "error",
          "ename": "TclError",
          "evalue": "no display name and no $DISPLAY environment variable",
          "traceback": [
            "\u001b[0;31m---------------------------------------------------------------------------\u001b[0m",
            "\u001b[0;31mTclError\u001b[0m                                  Traceback (most recent call last)",
            "\u001b[0;32m<ipython-input-53-0aa1fd1026a6>\u001b[0m in \u001b[0;36m<cell line: 3>\u001b[0;34m()\u001b[0m\n\u001b[1;32m      1\u001b[0m \u001b[0;32mimport\u001b[0m \u001b[0mturtle\u001b[0m\u001b[0;34m\u001b[0m\u001b[0;34m\u001b[0m\u001b[0m\n\u001b[1;32m      2\u001b[0m \u001b[0;34m\u001b[0m\u001b[0m\n\u001b[0;32m----> 3\u001b[0;31m \u001b[0mt\u001b[0m\u001b[0;34m=\u001b[0m\u001b[0mturtle\u001b[0m\u001b[0;34m.\u001b[0m\u001b[0mPen\u001b[0m\u001b[0;34m(\u001b[0m\u001b[0;34m)\u001b[0m\u001b[0;34m\u001b[0m\u001b[0;34m\u001b[0m\u001b[0m\n\u001b[0m\u001b[1;32m      4\u001b[0m \u001b[0mt\u001b[0m\u001b[0;34m.\u001b[0m\u001b[0mforward\u001b[0m\u001b[0;34m(\u001b[0m\u001b[0;36m100\u001b[0m\u001b[0;34m)\u001b[0m\u001b[0;34m\u001b[0m\u001b[0;34m\u001b[0m\u001b[0m\n\u001b[1;32m      5\u001b[0m \u001b[0mt\u001b[0m\u001b[0;34m.\u001b[0m\u001b[0mright\u001b[0m\u001b[0;34m(\u001b[0m\u001b[0;36m72\u001b[0m\u001b[0;34m)\u001b[0m\u001b[0;34m\u001b[0m\u001b[0;34m\u001b[0m\u001b[0m\n",
            "\u001b[0;32m/usr/lib/python3.10/turtle.py\u001b[0m in \u001b[0;36m__init__\u001b[0;34m(self, shape, undobuffersize, visible)\u001b[0m\n\u001b[1;32m   3812\u001b[0m                  visible=_CFG[\"visible\"]):\n\u001b[1;32m   3813\u001b[0m         \u001b[0;32mif\u001b[0m \u001b[0mTurtle\u001b[0m\u001b[0;34m.\u001b[0m\u001b[0m_screen\u001b[0m \u001b[0;32mis\u001b[0m \u001b[0;32mNone\u001b[0m\u001b[0;34m:\u001b[0m\u001b[0;34m\u001b[0m\u001b[0;34m\u001b[0m\u001b[0m\n\u001b[0;32m-> 3814\u001b[0;31m             \u001b[0mTurtle\u001b[0m\u001b[0;34m.\u001b[0m\u001b[0m_screen\u001b[0m \u001b[0;34m=\u001b[0m \u001b[0mScreen\u001b[0m\u001b[0;34m(\u001b[0m\u001b[0;34m)\u001b[0m\u001b[0;34m\u001b[0m\u001b[0;34m\u001b[0m\u001b[0m\n\u001b[0m\u001b[1;32m   3815\u001b[0m         RawTurtle.__init__(self, Turtle._screen,\n\u001b[1;32m   3816\u001b[0m                            \u001b[0mshape\u001b[0m\u001b[0;34m=\u001b[0m\u001b[0mshape\u001b[0m\u001b[0;34m,\u001b[0m\u001b[0;34m\u001b[0m\u001b[0;34m\u001b[0m\u001b[0m\n",
            "\u001b[0;32m/usr/lib/python3.10/turtle.py\u001b[0m in \u001b[0;36mScreen\u001b[0;34m()\u001b[0m\n\u001b[1;32m   3662\u001b[0m     else return the existing one.\"\"\"\n\u001b[1;32m   3663\u001b[0m     \u001b[0;32mif\u001b[0m \u001b[0mTurtle\u001b[0m\u001b[0;34m.\u001b[0m\u001b[0m_screen\u001b[0m \u001b[0;32mis\u001b[0m \u001b[0;32mNone\u001b[0m\u001b[0;34m:\u001b[0m\u001b[0;34m\u001b[0m\u001b[0;34m\u001b[0m\u001b[0m\n\u001b[0;32m-> 3664\u001b[0;31m         \u001b[0mTurtle\u001b[0m\u001b[0;34m.\u001b[0m\u001b[0m_screen\u001b[0m \u001b[0;34m=\u001b[0m \u001b[0m_Screen\u001b[0m\u001b[0;34m(\u001b[0m\u001b[0;34m)\u001b[0m\u001b[0;34m\u001b[0m\u001b[0;34m\u001b[0m\u001b[0m\n\u001b[0m\u001b[1;32m   3665\u001b[0m     \u001b[0;32mreturn\u001b[0m \u001b[0mTurtle\u001b[0m\u001b[0;34m.\u001b[0m\u001b[0m_screen\u001b[0m\u001b[0;34m\u001b[0m\u001b[0;34m\u001b[0m\u001b[0m\n\u001b[1;32m   3666\u001b[0m \u001b[0;34m\u001b[0m\u001b[0m\n",
            "\u001b[0;32m/usr/lib/python3.10/turtle.py\u001b[0m in \u001b[0;36m__init__\u001b[0;34m(self)\u001b[0m\n\u001b[1;32m   3678\u001b[0m         \u001b[0;31m# preserved (perhaps by passing it as an optional parameter)\u001b[0m\u001b[0;34m\u001b[0m\u001b[0;34m\u001b[0m\u001b[0m\n\u001b[1;32m   3679\u001b[0m         \u001b[0;32mif\u001b[0m \u001b[0m_Screen\u001b[0m\u001b[0;34m.\u001b[0m\u001b[0m_root\u001b[0m \u001b[0;32mis\u001b[0m \u001b[0;32mNone\u001b[0m\u001b[0;34m:\u001b[0m\u001b[0;34m\u001b[0m\u001b[0;34m\u001b[0m\u001b[0m\n\u001b[0;32m-> 3680\u001b[0;31m             \u001b[0m_Screen\u001b[0m\u001b[0;34m.\u001b[0m\u001b[0m_root\u001b[0m \u001b[0;34m=\u001b[0m \u001b[0mself\u001b[0m\u001b[0;34m.\u001b[0m\u001b[0m_root\u001b[0m \u001b[0;34m=\u001b[0m \u001b[0m_Root\u001b[0m\u001b[0;34m(\u001b[0m\u001b[0;34m)\u001b[0m\u001b[0;34m\u001b[0m\u001b[0;34m\u001b[0m\u001b[0m\n\u001b[0m\u001b[1;32m   3681\u001b[0m             \u001b[0mself\u001b[0m\u001b[0;34m.\u001b[0m\u001b[0m_root\u001b[0m\u001b[0;34m.\u001b[0m\u001b[0mtitle\u001b[0m\u001b[0;34m(\u001b[0m\u001b[0m_Screen\u001b[0m\u001b[0;34m.\u001b[0m\u001b[0m_title\u001b[0m\u001b[0;34m)\u001b[0m\u001b[0;34m\u001b[0m\u001b[0;34m\u001b[0m\u001b[0m\n\u001b[1;32m   3682\u001b[0m             \u001b[0mself\u001b[0m\u001b[0;34m.\u001b[0m\u001b[0m_root\u001b[0m\u001b[0;34m.\u001b[0m\u001b[0mondestroy\u001b[0m\u001b[0;34m(\u001b[0m\u001b[0mself\u001b[0m\u001b[0;34m.\u001b[0m\u001b[0m_destroy\u001b[0m\u001b[0;34m)\u001b[0m\u001b[0;34m\u001b[0m\u001b[0;34m\u001b[0m\u001b[0m\n",
            "\u001b[0;32m/usr/lib/python3.10/turtle.py\u001b[0m in \u001b[0;36m__init__\u001b[0;34m(self)\u001b[0m\n\u001b[1;32m    433\u001b[0m     \u001b[0;34m\"\"\"Root class for Screen based on Tkinter.\"\"\"\u001b[0m\u001b[0;34m\u001b[0m\u001b[0;34m\u001b[0m\u001b[0m\n\u001b[1;32m    434\u001b[0m     \u001b[0;32mdef\u001b[0m \u001b[0m__init__\u001b[0m\u001b[0;34m(\u001b[0m\u001b[0mself\u001b[0m\u001b[0;34m)\u001b[0m\u001b[0;34m:\u001b[0m\u001b[0;34m\u001b[0m\u001b[0;34m\u001b[0m\u001b[0m\n\u001b[0;32m--> 435\u001b[0;31m         \u001b[0mTK\u001b[0m\u001b[0;34m.\u001b[0m\u001b[0mTk\u001b[0m\u001b[0;34m.\u001b[0m\u001b[0m__init__\u001b[0m\u001b[0;34m(\u001b[0m\u001b[0mself\u001b[0m\u001b[0;34m)\u001b[0m\u001b[0;34m\u001b[0m\u001b[0;34m\u001b[0m\u001b[0m\n\u001b[0m\u001b[1;32m    436\u001b[0m \u001b[0;34m\u001b[0m\u001b[0m\n\u001b[1;32m    437\u001b[0m     \u001b[0;32mdef\u001b[0m \u001b[0msetupcanvas\u001b[0m\u001b[0;34m(\u001b[0m\u001b[0mself\u001b[0m\u001b[0;34m,\u001b[0m \u001b[0mwidth\u001b[0m\u001b[0;34m,\u001b[0m \u001b[0mheight\u001b[0m\u001b[0;34m,\u001b[0m \u001b[0mcwidth\u001b[0m\u001b[0;34m,\u001b[0m \u001b[0mcheight\u001b[0m\u001b[0;34m)\u001b[0m\u001b[0;34m:\u001b[0m\u001b[0;34m\u001b[0m\u001b[0;34m\u001b[0m\u001b[0m\n",
            "\u001b[0;32m/usr/lib/python3.10/tkinter/__init__.py\u001b[0m in \u001b[0;36m__init__\u001b[0;34m(self, screenName, baseName, className, useTk, sync, use)\u001b[0m\n\u001b[1;32m   2297\u001b[0m                 \u001b[0mbaseName\u001b[0m \u001b[0;34m=\u001b[0m \u001b[0mbaseName\u001b[0m \u001b[0;34m+\u001b[0m \u001b[0mext\u001b[0m\u001b[0;34m\u001b[0m\u001b[0;34m\u001b[0m\u001b[0m\n\u001b[1;32m   2298\u001b[0m         \u001b[0minteractive\u001b[0m \u001b[0;34m=\u001b[0m \u001b[0;32mFalse\u001b[0m\u001b[0;34m\u001b[0m\u001b[0;34m\u001b[0m\u001b[0m\n\u001b[0;32m-> 2299\u001b[0;31m         \u001b[0mself\u001b[0m\u001b[0;34m.\u001b[0m\u001b[0mtk\u001b[0m \u001b[0;34m=\u001b[0m \u001b[0m_tkinter\u001b[0m\u001b[0;34m.\u001b[0m\u001b[0mcreate\u001b[0m\u001b[0;34m(\u001b[0m\u001b[0mscreenName\u001b[0m\u001b[0;34m,\u001b[0m \u001b[0mbaseName\u001b[0m\u001b[0;34m,\u001b[0m \u001b[0mclassName\u001b[0m\u001b[0;34m,\u001b[0m \u001b[0minteractive\u001b[0m\u001b[0;34m,\u001b[0m \u001b[0mwantobjects\u001b[0m\u001b[0;34m,\u001b[0m \u001b[0museTk\u001b[0m\u001b[0;34m,\u001b[0m \u001b[0msync\u001b[0m\u001b[0;34m,\u001b[0m \u001b[0muse\u001b[0m\u001b[0;34m)\u001b[0m\u001b[0;34m\u001b[0m\u001b[0;34m\u001b[0m\u001b[0m\n\u001b[0m\u001b[1;32m   2300\u001b[0m         \u001b[0;32mif\u001b[0m \u001b[0museTk\u001b[0m\u001b[0;34m:\u001b[0m\u001b[0;34m\u001b[0m\u001b[0;34m\u001b[0m\u001b[0m\n\u001b[1;32m   2301\u001b[0m             \u001b[0mself\u001b[0m\u001b[0;34m.\u001b[0m\u001b[0m_loadtk\u001b[0m\u001b[0;34m(\u001b[0m\u001b[0;34m)\u001b[0m\u001b[0;34m\u001b[0m\u001b[0;34m\u001b[0m\u001b[0m\n",
            "\u001b[0;31mTclError\u001b[0m: no display name and no $DISPLAY environment variable"
          ]
        }
      ]
    },
    {
      "cell_type": "markdown",
      "source": [
        "###[실습문제] 1~100숫자를 1줄로 출력하기"
      ],
      "metadata": {
        "id": "TJc_gmkw8crg"
      }
    },
    {
      "cell_type": "code",
      "source": [
        "for i in range(1,101) :\n",
        "    print(i,end=' ')"
      ],
      "metadata": {
        "colab": {
          "base_uri": "https://localhost:8080/"
        },
        "id": "800IeHtV2NYp",
        "outputId": "b66be8d3-a15d-4657-e4ac-5dc610257347"
      },
      "execution_count": 60,
      "outputs": [
        {
          "output_type": "stream",
          "name": "stdout",
          "text": [
            "1 2 3 4 5 6 7 8 9 10 11 12 13 14 15 16 17 18 19 20 21 22 23 24 25 26 27 28 29 30 31 32 33 34 35 36 37 38 39 40 41 42 43 44 45 46 47 48 49 50 51 52 53 54 55 56 57 58 59 60 61 62 63 64 65 66 67 68 69 70 71 72 73 74 75 76 77 78 79 80 81 82 83 84 85 86 87 88 89 90 91 92 93 94 95 96 97 98 99 100 "
          ]
        }
      ]
    },
    {
      "cell_type": "code",
      "source": [
        "for i in range(1,101) : print(i,end=' ') #간략히 이렇게 해도 됨"
      ],
      "metadata": {
        "colab": {
          "base_uri": "https://localhost:8080/"
        },
        "id": "cGPSL-lH8K2w",
        "outputId": "b137651f-7d20-4856-bdeb-de46bac84b6c"
      },
      "execution_count": 59,
      "outputs": [
        {
          "output_type": "stream",
          "name": "stdout",
          "text": [
            "1 2 3 4 5 6 7 8 9 10 11 12 13 14 15 16 17 18 19 20 21 22 23 24 25 26 27 28 29 30 31 32 33 34 35 36 37 38 39 40 41 42 43 44 45 46 47 48 49 50 51 52 53 54 55 56 57 58 59 60 61 62 63 64 65 66 67 68 69 70 71 72 73 74 75 76 77 78 79 80 81 82 83 84 85 86 87 88 89 90 91 92 93 94 95 96 97 98 99 100 "
          ]
        }
      ]
    },
    {
      "cell_type": "code",
      "source": [
        "print(' '.join([str(i) for i in range(1,101)])) #join은 문자열에서만 가능\n"
      ],
      "metadata": {
        "colab": {
          "base_uri": "https://localhost:8080/"
        },
        "id": "2voCm3968vEw",
        "outputId": "67d5db63-f3cd-4ed6-9e1e-ac91a9c951a5"
      },
      "execution_count": 63,
      "outputs": [
        {
          "output_type": "stream",
          "name": "stdout",
          "text": [
            "1 2 3 4 5 6 7 8 9 10 11 12 13 14 15 16 17 18 19 20 21 22 23 24 25 26 27 28 29 30 31 32 33 34 35 36 37 38 39 40 41 42 43 44 45 46 47 48 49 50 51 52 53 54 55 56 57 58 59 60 61 62 63 64 65 66 67 68 69 70 71 72 73 74 75 76 77 78 79 80 81 82 83 84 85 86 87 88 89 90 91 92 93 94 95 96 97 98 99 100\n"
          ]
        }
      ]
    },
    {
      "cell_type": "code",
      "source": [
        "scores = [90, 25, 67, 45, 80]\n",
        "idx=1\n",
        "for idx,score in enumerate(scores) : #인덱스와 함께 표시됨\n",
        "    if score >= 60:\n",
        "        print(f\"{idx+1}번 학생은 {i}점은  합격입니다.\")\n",
        "    else :\n",
        "         print(f\"{idx+1}번 학생은 {i}점은  불합격입니다.\")\n"
      ],
      "metadata": {
        "colab": {
          "base_uri": "https://localhost:8080/"
        },
        "id": "YA8Naewj9FaA",
        "outputId": "56b181b5-85cc-44b8-f35d-84ccdd225568"
      },
      "execution_count": 93,
      "outputs": [
        {
          "output_type": "stream",
          "name": "stdout",
          "text": [
            "1번 학생은 90점은  합격입니다.\n",
            "2번 학생은 90점은  불합격입니다.\n",
            "3번 학생은 90점은  합격입니다.\n",
            "4번 학생은 90점은  불합격입니다.\n",
            "5번 학생은 90점은  합격입니다.\n"
          ]
        }
      ]
    },
    {
      "cell_type": "code",
      "source": [
        "import random\n",
        "#방법 1\n",
        "#score = [90, 25, 67, 45, 80]\n",
        "\n",
        "#방법2 :빈리스트 만들어서 임의의 숫자 리스트에 추가\n",
        "#scores=[]\n",
        "#for _ in range(5) :\n",
        "#  scores.append(random.randint(1,101))\n",
        "\n",
        "scores = [random.randint(1,101) for _ in range(5)]\n",
        "\n",
        "for idx,score in enumerate(scores) : #인덱스와 함께 표시됨\n",
        "    if score >= 60:\n",
        "        print(f\"{idx+1}번  학생은 {score}점은  합격입니다.\")\n",
        "    else :\n",
        "         print(f\"{idx+1}번  학생은 {score}점은  불합격입니다.\")"
      ],
      "metadata": {
        "colab": {
          "base_uri": "https://localhost:8080/"
        },
        "id": "MlAJbSFK-V2I",
        "outputId": "27b68f67-f468-4c4c-b612-26e8d131bc86"
      },
      "execution_count": 90,
      "outputs": [
        {
          "output_type": "stream",
          "name": "stdout",
          "text": [
            "1번  학생은 60점은  합격입니다.\n",
            "2번  학생은 99점은  합격입니다.\n",
            "3번  학생은 16점은  불합격입니다.\n",
            "4번  학생은 20점은  불합격입니다.\n",
            "5번  학생은 19점은  불합격입니다.\n"
          ]
        }
      ]
    },
    {
      "cell_type": "code",
      "source": [
        "#방법3 :방법2를 한줄로 표현\n",
        "import random\n",
        "scores = [random.randint(1,101) for _ in range(5)]\n",
        "for idx,score in enumerate(scores) :\n",
        "    result = '합격' if score>60 else '불합격'\n",
        "    print(f\"{idx+1}번  학생은 {score}점 : {result}입니다.\")"
      ],
      "metadata": {
        "colab": {
          "base_uri": "https://localhost:8080/"
        },
        "id": "TF6a13iSCPSP",
        "outputId": "306e08dc-9fef-4d7f-d551-eed15610e9d8"
      },
      "execution_count": 91,
      "outputs": [
        {
          "output_type": "stream",
          "name": "stdout",
          "text": [
            "1번  학생은 8점 : 불합격입니다.\n",
            "2번  학생은 75점 : 합격입니다.\n",
            "3번  학생은 76점 : 합격입니다.\n",
            "4번  학생은 38점 : 불합격입니다.\n",
            "5번  학생은 97점 : 합격입니다.\n"
          ]
        }
      ]
    },
    {
      "cell_type": "code",
      "source": [
        "a_list = list(input('괄호 : '))  ##직접, 오류확인하기\n",
        "print(a_list)\n",
        "sum=0\n",
        "if '(' :\n",
        "    sum=sum+1\n",
        "else :\n",
        "    sum=sum-1\n",
        "print(sum)"
      ],
      "metadata": {
        "colab": {
          "base_uri": "https://localhost:8080/"
        },
        "id": "18bQFOKeD9YO",
        "outputId": "708307ef-f339-4a12-b94f-9f5858add1a8"
      },
      "execution_count": 136,
      "outputs": [
        {
          "output_type": "stream",
          "name": "stdout",
          "text": [
            "괄호 : ()\n",
            "['(', ')']\n",
            "1\n"
          ]
        }
      ]
    },
    {
      "cell_type": "code",
      "source": [
        "p_list = list(input('괄호 : '))   ### 확인필요\n",
        "print(p_list)\n",
        "\n",
        "t=0\n",
        "for p in p_list :\n",
        "    if p=='(' :\n",
        "        t +=1\n",
        "    elif p==')' :\n",
        "        t-=1\n",
        "    if t<0:\n",
        "        break\n",
        "if t==0:\n",
        "    print('결과:True')\n",
        "else :\n",
        "    print('결과:False')"
      ],
      "metadata": {
        "colab": {
          "base_uri": "https://localhost:8080/"
        },
        "id": "ldPax0kpENLF",
        "outputId": "bce7e701-c2cf-4753-f891-a5f3a7bdf326"
      },
      "execution_count": 120,
      "outputs": [
        {
          "output_type": "stream",
          "name": "stdout",
          "text": [
            "괄호 : (((())))\n",
            "['(', '(', '(', '(', ')', ')', ')', ')']\n",
            "결과:True\n"
          ]
        }
      ]
    },
    {
      "cell_type": "markdown",
      "source": [
        "##중첩 for 반복문 : 반복문 안에 반복문\n"
      ],
      "metadata": {
        "id": "rzTfeg06HEkl"
      }
    },
    {
      "cell_type": "code",
      "source": [
        "for i in range(3) :\n",
        "    for j in range(3) :\n",
        "        print(f\"i:{i},j:{j}\")"
      ],
      "metadata": {
        "colab": {
          "base_uri": "https://localhost:8080/"
        },
        "id": "-DPyM6x-HKfr",
        "outputId": "95728c84-f552-4f7c-b102-f12ad2f8a506"
      },
      "execution_count": 112,
      "outputs": [
        {
          "output_type": "stream",
          "name": "stdout",
          "text": [
            "i:0,j:0\n",
            "i:0,j:1\n",
            "i:0,j:2\n",
            "i:1,j:0\n",
            "i:1,j:1\n",
            "i:1,j:2\n",
            "i:2,j:0\n",
            "i:2,j:1\n",
            "i:2,j:2\n"
          ]
        }
      ]
    },
    {
      "cell_type": "code",
      "source": [
        "'''\n",
        ")))()()((( => False\n",
        "()()()()()) => False\n",
        "()(())()() => True\n",
        "))(())(( => False\n",
        "()(()))( => False\n",
        "((())()) => True\n",
        "'''\n",
        "\n",
        "p_lists = [')))()()(((','()()()()())','()(())()()','))(())((','()(()))(','((())())']\n",
        "\n",
        "\n",
        "for p_list in p_lists :\n",
        "    print(f\"괄호:{p_list}\")\n",
        "    t = 0\n",
        "    for p in p_list :\n",
        "        if p=='(' :\n",
        "            t +=1\n",
        "        elif p==')' :\n",
        "            t -=1\n",
        "        if t<0:\n",
        "            break\n",
        "    if t==0:\n",
        "        print('결과:True')\n",
        "    else :\n",
        "        print('결과:False')\n"
      ],
      "metadata": {
        "colab": {
          "base_uri": "https://localhost:8080/"
        },
        "id": "IxOnqJWSHTSE",
        "outputId": "2a7dd8ca-bfa1-4e66-e215-12faa301f717"
      },
      "execution_count": 118,
      "outputs": [
        {
          "output_type": "stream",
          "name": "stdout",
          "text": [
            "괄호:)))()()(((\n",
            "결과:False\n",
            "괄호:()()()()())\n",
            "결과:False\n",
            "괄호:()(())()()\n",
            "결과:True\n",
            "괄호:))(())((\n",
            "결과:False\n",
            "괄호:()(()))(\n",
            "결과:False\n",
            "괄호:((())())\n",
            "결과:True\n"
          ]
        }
      ]
    },
    {
      "cell_type": "markdown",
      "source": [
        "###5-2.while반복문\n"
      ],
      "metadata": {
        "id": "UR5-FjgxRita"
      }
    },
    {
      "cell_type": "markdown",
      "source": [
        "### while 반복문 기본형식\n"
      ],
      "metadata": {
        "id": "E2QcxuyNRnxh"
      }
    },
    {
      "cell_type": "code",
      "source": [
        "a = 0\n",
        "while a < 5 :      #조건이 참일 동안 반복\n",
        "    print(f\"{a}는 5보다 작군요\")\n",
        "    a+=1\n",
        "print(f\"{a}는 5와 같군요\")"
      ],
      "metadata": {
        "colab": {
          "base_uri": "https://localhost:8080/"
        },
        "id": "PqZ5GfEIRm6g",
        "outputId": "cfbd3998-a353-476b-a432-8849aa19d69b"
      },
      "execution_count": 137,
      "outputs": [
        {
          "output_type": "stream",
          "name": "stdout",
          "text": [
            "0는 5보다 작군요\n",
            "1는 5보다 작군요\n",
            "2는 5보다 작군요\n",
            "3는 5보다 작군요\n",
            "4는 5보다 작군요\n",
            "5는 5와 같군요\n"
          ]
        }
      ]
    },
    {
      "cell_type": "code",
      "source": [
        "a = 0\n",
        "while True :   #True적을시엔 반드시 아래에 빠져나갈 조건을 줘야함\n",
        "    if a >5 :\n",
        "        break\n",
        "    print(f\"{a}는 5보다 작군요\")\n",
        "    a+=1\n",
        "print(f\"{a}는 5와 같군요\")"
      ],
      "metadata": {
        "colab": {
          "base_uri": "https://localhost:8080/"
        },
        "id": "g3oEomNASOi9",
        "outputId": "709a7842-e27d-4771-a084-045729ee11a6"
      },
      "execution_count": 139,
      "outputs": [
        {
          "output_type": "stream",
          "name": "stdout",
          "text": [
            "0는 5보다 작군요\n",
            "1는 5보다 작군요\n",
            "2는 5보다 작군요\n",
            "3는 5보다 작군요\n",
            "4는 5보다 작군요\n",
            "5는 5보다 작군요\n",
            "6는 5와 같군요\n"
          ]
        }
      ]
    },
    {
      "cell_type": "markdown",
      "source": [
        "###[실습문제"
      ],
      "metadata": {
        "id": "wo26b-sqTtHM"
      }
    },
    {
      "cell_type": "code",
      "source": [
        "treeHit = 0\n",
        "while treeHit < 10 :      #조건이 참일 동안 반복\n",
        "    print(f\"나무를 {treeHit+1}번 찍었습니다.\")\n",
        "    treeHit+=1\n",
        "print(f\"나무 넘어갑니다.\")"
      ],
      "metadata": {
        "colab": {
          "base_uri": "https://localhost:8080/"
        },
        "id": "o1NpgJg-S6W4",
        "outputId": "c5c3b42c-3022-4f83-eb62-d1ba47d50c85"
      },
      "execution_count": 141,
      "outputs": [
        {
          "output_type": "stream",
          "name": "stdout",
          "text": [
            "나무를 1번 찍었습니다.\n",
            "나무를 2번 찍었습니다.\n",
            "나무를 3번 찍었습니다.\n",
            "나무를 4번 찍었습니다.\n",
            "나무를 5번 찍었습니다.\n",
            "나무를 6번 찍었습니다.\n",
            "나무를 7번 찍었습니다.\n",
            "나무를 8번 찍었습니다.\n",
            "나무를 9번 찍었습니다.\n",
            "나무를 10번 찍었습니다.\n",
            "나무 넘어갑니다.\n"
          ]
        }
      ]
    },
    {
      "cell_type": "code",
      "source": [
        "treeHit = 0\n",
        "while True :\n",
        "    if treeHit >= 10 :\n",
        "        break\n",
        "    print(f\"나무를 {treeHit+1}번 찍었습니다.\")\n",
        "    treeHit+=1\n",
        "print(f\"나무 넘어갑니다.\")"
      ],
      "metadata": {
        "colab": {
          "base_uri": "https://localhost:8080/"
        },
        "id": "xf6Y-hyXTfxB",
        "outputId": "6c9659bf-b309-4829-cf6f-fe008321db19"
      },
      "execution_count": 144,
      "outputs": [
        {
          "output_type": "stream",
          "name": "stdout",
          "text": [
            "나무를 1번 찍었습니다.\n",
            "나무를 2번 찍었습니다.\n",
            "나무를 3번 찍었습니다.\n",
            "나무를 4번 찍었습니다.\n",
            "나무를 5번 찍었습니다.\n",
            "나무를 6번 찍었습니다.\n",
            "나무를 7번 찍었습니다.\n",
            "나무를 8번 찍었습니다.\n",
            "나무를 9번 찍었습니다.\n",
            "나무를 10번 찍었습니다.\n",
            "나무 넘어갑니다.\n"
          ]
        }
      ]
    },
    {
      "cell_type": "code",
      "source": [
        "treeHit = 0\n",
        "while True :\n",
        "    if treeHit >= 10 :\n",
        "        print(f\"나무 넘어갑니다.\")   #여기에 써도 됨\n",
        "        break\n",
        "    print(f\"나무를 {treeHit+1}번 찍었습니다.\")\n",
        "    treeHit+=1\n"
      ],
      "metadata": {
        "colab": {
          "base_uri": "https://localhost:8080/"
        },
        "id": "MLTkFDuZUXk4",
        "outputId": "658e3f5a-8377-457f-de3c-6372ca07174d"
      },
      "execution_count": 148,
      "outputs": [
        {
          "output_type": "stream",
          "name": "stdout",
          "text": [
            "나무를 1번 찍었습니다.\n",
            "나무를 2번 찍었습니다.\n",
            "나무를 3번 찍었습니다.\n",
            "나무를 4번 찍었습니다.\n",
            "나무를 5번 찍었습니다.\n",
            "나무를 6번 찍었습니다.\n",
            "나무를 7번 찍었습니다.\n",
            "나무를 8번 찍었습니다.\n",
            "나무를 9번 찍었습니다.\n",
            "나무를 10번 찍었습니다.\n",
            "나무 넘어갑니다.\n"
          ]
        }
      ]
    }
  ]
}