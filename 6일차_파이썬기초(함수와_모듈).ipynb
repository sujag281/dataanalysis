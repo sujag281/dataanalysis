{
  "nbformat": 4,
  "nbformat_minor": 0,
  "metadata": {
    "colab": {
      "provenance": [],
      "authorship_tag": "ABX9TyMoni/+USALUiYAub6IS0Js",
      "include_colab_link": true
    },
    "kernelspec": {
      "name": "python3",
      "display_name": "Python 3"
    },
    "language_info": {
      "name": "python"
    }
  },
  "cells": [
    {
      "cell_type": "markdown",
      "metadata": {
        "id": "view-in-github",
        "colab_type": "text"
      },
      "source": [
        "<a href=\"https://colab.research.google.com/github/sujag281/dataanalysis/blob/main/6%EC%9D%BC%EC%B0%A8_%ED%8C%8C%EC%9D%B4%EC%8D%AC%EA%B8%B0%EC%B4%88(%ED%95%A8%EC%88%98%EC%99%80_%EB%AA%A8%EB%93%88).ipynb\" target=\"_parent\"><img src=\"https://colab.research.google.com/assets/colab-badge.svg\" alt=\"Open In Colab\"/></a>"
      ]
    },
    {
      "cell_type": "markdown",
      "source": [
        "4/8,4/9 (02.교안-파이썬기초-파이썬기초프로그래밍 p153)\n",
        "##5.함수와 모듈"
      ],
      "metadata": {
        "id": "doNLrK6jzUJV"
      }
    },
    {
      "cell_type": "markdown",
      "source": [
        "5-1. 함수의 정의"
      ],
      "metadata": {
        "id": "rtVSeYoDzZ4s"
      }
    },
    {
      "cell_type": "code",
      "execution_count": 2,
      "metadata": {
        "id": "3k_6BiYezLdM",
        "colab": {
          "base_uri": "https://localhost:8080/"
        },
        "outputId": "27ea2791-4da7-4669-a78b-2e94614f2290"
      },
      "outputs": [
        {
          "output_type": "execute_result",
          "data": {
            "text/plain": [
              "9"
            ]
          },
          "metadata": {},
          "execution_count": 2
        }
      ],
      "source": [
        "def sum(a,b) :\n",
        "    c = a + b\n",
        "    return c\n",
        "sum(4,5)\n"
      ]
    },
    {
      "cell_type": "markdown",
      "source": [
        "4/9\n",
        "###[실습문제] 암스트롱 수 찾기"
      ],
      "metadata": {
        "id": "hp2_VA1dTH3f"
      }
    },
    {
      "cell_type": "code",
      "source": [
        "def is_armstrongNumber(n) :\n",
        "    _1,_2,_3 = int(str(n)[0]),int(str(n)[1]),int(str(n)[2])                  #백의 자리수,십의자리수,일의자리수 표현, 문자로 바꿔서 index지정\n",
        "    if _1**3+_2**3+_3**3 == n :\n",
        "        return True\n",
        "    else :\n",
        "        return False\n",
        "\n",
        "\n",
        "for n in range(100,1000) :\n",
        "    if is_armstrongNumber(n) :\n",
        "        print(f\"[{n}] is armstrongnumber\")"
      ],
      "metadata": {
        "colab": {
          "base_uri": "https://localhost:8080/"
        },
        "id": "kAVhM6vSUdSA",
        "outputId": "b27c4d93-50c7-4d86-8944-33d117eb211c"
      },
      "execution_count": 5,
      "outputs": [
        {
          "output_type": "stream",
          "name": "stdout",
          "text": [
            "[153] is armstrongnumber\n",
            "[370] is armstrongnumber\n",
            "[371] is armstrongnumber\n",
            "[407] is armstrongnumber\n"
          ]
        }
      ]
    },
    {
      "cell_type": "markdown",
      "source": [
        "####커피 자동주문 머신 메뉴 함수로 만들기"
      ],
      "metadata": {
        "id": "ZnhfD-FoXEZX"
      }
    },
    {
      "cell_type": "code",
      "source": [
        "def coffeemachine():\n",
        "    menu = '''[커피 자동주문 머신 메뉴]\n",
        "    ------------------------------------\n",
        "    -아메리카노: 2500원\n",
        "    -카페라떼:   3000원\n",
        "    -카페모카:   3000원\n",
        "    -------------------------------------\n",
        "    원하시는 커피 종류와 잔수를 입력하세요.'''\n",
        "    print(menu)\n",
        "    coffee1 = int(input('아메리카노 몇 잔 : '))\n",
        "    coffee2 = int(input('카페라떼   몇 잔 : '))\n",
        "    coffee3 = int(input('카페모카   몇 잔 : '))\n",
        "\n",
        "    total= 2500*coffee1+ 3000*coffee2 + 3000*coffee3\n",
        "    print(f\"지불하실 총 금액은 {total}원 입니다.\")\n",
        "\n",
        "while True :\n",
        "    print('---------------')\n",
        "    money = int(input('돈을 넣어 주세요 : '))\n",
        "\n",
        "    change = money-total #거스름돈\n",
        "    if change < 0 :\n",
        "        print(f\"돈이 부족합니다.{abs(change):,}원을 더 넣어주세요\")\n",
        "        total=total-money\n",
        "    else :\n",
        "        print(f\"거스름돈은 {change:,}원 입니다.커피 맛있게 드세요~\") #abs는 음수를 양수로 바꿔주는 함수\n",
        "        break\n",
        "\n",
        "coffeemachine"
      ],
      "metadata": {
        "colab": {
          "base_uri": "https://localhost:8080/",
          "height": 388
        },
        "id": "YR0M0WCkVjVy",
        "outputId": "3a2e89a4-da3a-4136-e442-8525b7426ffa"
      },
      "execution_count": 9,
      "outputs": [
        {
          "output_type": "stream",
          "name": "stdout",
          "text": [
            "---------------\n"
          ]
        },
        {
          "output_type": "error",
          "ename": "KeyboardInterrupt",
          "evalue": "Interrupted by user",
          "traceback": [
            "\u001b[0;31m---------------------------------------------------------------------------\u001b[0m",
            "\u001b[0;31mKeyboardInterrupt\u001b[0m                         Traceback (most recent call last)",
            "\u001b[0;32m<ipython-input-9-4496626460cc>\u001b[0m in \u001b[0;36m<cell line: 17>\u001b[0;34m()\u001b[0m\n\u001b[1;32m     17\u001b[0m \u001b[0;32mwhile\u001b[0m \u001b[0;32mTrue\u001b[0m \u001b[0;34m:\u001b[0m\u001b[0;34m\u001b[0m\u001b[0;34m\u001b[0m\u001b[0m\n\u001b[1;32m     18\u001b[0m     \u001b[0mprint\u001b[0m\u001b[0;34m(\u001b[0m\u001b[0;34m'---------------'\u001b[0m\u001b[0;34m)\u001b[0m\u001b[0;34m\u001b[0m\u001b[0;34m\u001b[0m\u001b[0m\n\u001b[0;32m---> 19\u001b[0;31m     \u001b[0mmoney\u001b[0m \u001b[0;34m=\u001b[0m \u001b[0mint\u001b[0m\u001b[0;34m(\u001b[0m\u001b[0minput\u001b[0m\u001b[0;34m(\u001b[0m\u001b[0;34m'돈을 넣어 주세요 : '\u001b[0m\u001b[0;34m)\u001b[0m\u001b[0;34m)\u001b[0m\u001b[0;34m\u001b[0m\u001b[0;34m\u001b[0m\u001b[0m\n\u001b[0m\u001b[1;32m     20\u001b[0m \u001b[0;34m\u001b[0m\u001b[0m\n\u001b[1;32m     21\u001b[0m     \u001b[0mchange\u001b[0m \u001b[0;34m=\u001b[0m \u001b[0mmoney\u001b[0m\u001b[0;34m-\u001b[0m\u001b[0mtotal\u001b[0m \u001b[0;31m#거스름돈\u001b[0m\u001b[0;34m\u001b[0m\u001b[0;34m\u001b[0m\u001b[0m\n",
            "\u001b[0;32m/usr/local/lib/python3.10/dist-packages/ipykernel/kernelbase.py\u001b[0m in \u001b[0;36mraw_input\u001b[0;34m(self, prompt)\u001b[0m\n\u001b[1;32m    849\u001b[0m                 \u001b[0;34m\"raw_input was called, but this frontend does not support input requests.\"\u001b[0m\u001b[0;34m\u001b[0m\u001b[0;34m\u001b[0m\u001b[0m\n\u001b[1;32m    850\u001b[0m             )\n\u001b[0;32m--> 851\u001b[0;31m         return self._input_request(str(prompt),\n\u001b[0m\u001b[1;32m    852\u001b[0m             \u001b[0mself\u001b[0m\u001b[0;34m.\u001b[0m\u001b[0m_parent_ident\u001b[0m\u001b[0;34m,\u001b[0m\u001b[0;34m\u001b[0m\u001b[0;34m\u001b[0m\u001b[0m\n\u001b[1;32m    853\u001b[0m             \u001b[0mself\u001b[0m\u001b[0;34m.\u001b[0m\u001b[0m_parent_header\u001b[0m\u001b[0;34m,\u001b[0m\u001b[0;34m\u001b[0m\u001b[0;34m\u001b[0m\u001b[0m\n",
            "\u001b[0;32m/usr/local/lib/python3.10/dist-packages/ipykernel/kernelbase.py\u001b[0m in \u001b[0;36m_input_request\u001b[0;34m(self, prompt, ident, parent, password)\u001b[0m\n\u001b[1;32m    893\u001b[0m             \u001b[0;32mexcept\u001b[0m \u001b[0mKeyboardInterrupt\u001b[0m\u001b[0;34m:\u001b[0m\u001b[0;34m\u001b[0m\u001b[0;34m\u001b[0m\u001b[0m\n\u001b[1;32m    894\u001b[0m                 \u001b[0;31m# re-raise KeyboardInterrupt, to truncate traceback\u001b[0m\u001b[0;34m\u001b[0m\u001b[0;34m\u001b[0m\u001b[0m\n\u001b[0;32m--> 895\u001b[0;31m                 \u001b[0;32mraise\u001b[0m \u001b[0mKeyboardInterrupt\u001b[0m\u001b[0;34m(\u001b[0m\u001b[0;34m\"Interrupted by user\"\u001b[0m\u001b[0;34m)\u001b[0m \u001b[0;32mfrom\u001b[0m \u001b[0;32mNone\u001b[0m\u001b[0;34m\u001b[0m\u001b[0;34m\u001b[0m\u001b[0m\n\u001b[0m\u001b[1;32m    896\u001b[0m             \u001b[0;32mexcept\u001b[0m \u001b[0mException\u001b[0m \u001b[0;32mas\u001b[0m \u001b[0me\u001b[0m\u001b[0;34m:\u001b[0m\u001b[0;34m\u001b[0m\u001b[0;34m\u001b[0m\u001b[0m\n\u001b[1;32m    897\u001b[0m                 \u001b[0mself\u001b[0m\u001b[0;34m.\u001b[0m\u001b[0mlog\u001b[0m\u001b[0;34m.\u001b[0m\u001b[0mwarning\u001b[0m\u001b[0;34m(\u001b[0m\u001b[0;34m\"Invalid Message:\"\u001b[0m\u001b[0;34m,\u001b[0m \u001b[0mexc_info\u001b[0m\u001b[0;34m=\u001b[0m\u001b[0;32mTrue\u001b[0m\u001b[0;34m)\u001b[0m\u001b[0;34m\u001b[0m\u001b[0;34m\u001b[0m\u001b[0m\n",
            "\u001b[0;31mKeyboardInterrupt\u001b[0m: Interrupted by user"
          ]
        }
      ]
    },
    {
      "cell_type": "markdown",
      "source": [
        "### [실습문제] lambda & map() 사용하기"
      ],
      "metadata": {
        "id": "Ji30vPttdyRF"
      }
    },
    {
      "cell_type": "code",
      "source": [],
      "metadata": {
        "id": "_3w_seeeemLB"
      },
      "execution_count": null,
      "outputs": []
    },
    {
      "cell_type": "code",
      "source": [
        "list(range(1,11))"
      ],
      "metadata": {
        "colab": {
          "base_uri": "https://localhost:8080/"
        },
        "id": "uMZGqCnGd7xY",
        "outputId": "45a24b36-f065-451b-f7e4-d5d76be94f1f"
      },
      "execution_count": 11,
      "outputs": [
        {
          "output_type": "execute_result",
          "data": {
            "text/plain": [
              "[1, 2, 3, 4, 5, 6, 7, 8, 9, 10]"
            ]
          },
          "metadata": {},
          "execution_count": 11
        }
      ]
    },
    {
      "cell_type": "code",
      "source": [
        "mylist = [1, 2, 3, 4, 5, 6, 7, 8, 9, 10]\n",
        "#mylist에서 3의 배수만 문자열로 변환해서 mylist 출력하기\n",
        "\n",
        "func = lambda x : str(x) if x%3 == 0 else x\n",
        "mylist = list(map(func,mylist))\n",
        "mylist\n",
        "\n",
        "#print(mylist)"
      ],
      "metadata": {
        "colab": {
          "base_uri": "https://localhost:8080/"
        },
        "id": "uekuzFYdeDnm",
        "outputId": "f6d279db-ad04-43bd-b04c-655a53ab40c6"
      },
      "execution_count": 19,
      "outputs": [
        {
          "output_type": "execute_result",
          "data": {
            "text/plain": [
              "[1, 2, '3', 4, 5, '6', 7, 8, '9', 10]"
            ]
          },
          "metadata": {},
          "execution_count": 19
        }
      ]
    },
    {
      "cell_type": "code",
      "source": [
        "mylist = [1, 2, 3, 4, 5, 6, 7, 8, 9, 10]\n",
        "mylist = list(map(lambda x : str(x) if x%3 == 0 else x,mylist)) #위의 내용을 한줄로 표현\n",
        "mylist"
      ],
      "metadata": {
        "colab": {
          "base_uri": "https://localhost:8080/"
        },
        "id": "vZrML_wcfkPk",
        "outputId": "9f44b4e4-0866-48b1-8204-90ff0147d260"
      },
      "execution_count": 18,
      "outputs": [
        {
          "output_type": "execute_result",
          "data": {
            "text/plain": [
              "[1, 2, '3', 4, 5, '6', 7, 8, '9', 10]"
            ]
          },
          "metadata": {},
          "execution_count": 18
        }
      ]
    },
    {
      "cell_type": "code",
      "source": [
        "list(range(1,6))\n",
        "#list(range(2,11,2))"
      ],
      "metadata": {
        "colab": {
          "base_uri": "https://localhost:8080/"
        },
        "id": "Ibt3AcKOfw_M",
        "outputId": "9c677c1f-13ba-42bd-e8a6-8abe61173d6d"
      },
      "execution_count": 22,
      "outputs": [
        {
          "output_type": "execute_result",
          "data": {
            "text/plain": [
              "[1, 2, 3, 4, 5]"
            ]
          },
          "metadata": {},
          "execution_count": 22
        }
      ]
    },
    {
      "cell_type": "code",
      "source": [
        "mylist1 = [1, 2, 3, 4, 5]\n",
        "mylist2 = [2, 4, 6, 8, 10]\n",
        "func = lambda x,y : x*y\n",
        "mylist = list(map(func,mylist1,mylist2))\n",
        "mylist"
      ],
      "metadata": {
        "colab": {
          "base_uri": "https://localhost:8080/"
        },
        "id": "LDpy1alGf2I7",
        "outputId": "0821758c-ed48-48a7-f9a6-a1a001874b81"
      },
      "execution_count": 24,
      "outputs": [
        {
          "output_type": "execute_result",
          "data": {
            "text/plain": [
              "[2, 8, 18, 32, 50]"
            ]
          },
          "metadata": {},
          "execution_count": 24
        }
      ]
    },
    {
      "cell_type": "code",
      "source": [
        "mylist1 = [1, 2, 3, 4, 5]\n",
        "mylist2 = [2, 4, 6, 8, 10]\n",
        "func = lambda x,y : x*y\n",
        "mylist = list(map(lambda x,y : x*y,mylist1,mylist2)) # 한줄로 요약\n",
        "mylist"
      ],
      "metadata": {
        "colab": {
          "base_uri": "https://localhost:8080/"
        },
        "id": "irNz3WGRgewT",
        "outputId": "6cff452a-d03d-49b9-af84-ca10f339bcfc"
      },
      "execution_count": 25,
      "outputs": [
        {
          "output_type": "execute_result",
          "data": {
            "text/plain": [
              "[2, 8, 18, 32, 50]"
            ]
          },
          "metadata": {},
          "execution_count": 25
        }
      ]
    }
  ]
}